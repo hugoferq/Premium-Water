{
  "nbformat": 4,
  "nbformat_minor": 0,
  "metadata": {
    "colab": {
      "name": "Team Project.ipynb",
      "provenance": [],
      "collapsed_sections": [],
      "mount_file_id": "1SqmgB7WFXHl9j9uRkQg12jwLqXw4YMvh",
      "authorship_tag": "ABX9TyP3YqjxwprmyXwDP5xS5ED8",
      "include_colab_link": true
    },
    "kernelspec": {
      "name": "python3",
      "display_name": "Python 3"
    },
    "language_info": {
      "name": "python"
    }
  },
  "cells": [
    {
      "cell_type": "markdown",
      "metadata": {
        "id": "view-in-github",
        "colab_type": "text"
      },
      "source": [
        "<a href=\"https://colab.research.google.com/github/hugofq/Premium-Water/blob/main/Team_Project.ipynb\" target=\"_parent\"><img src=\"https://colab.research.google.com/assets/colab-badge.svg\" alt=\"Open In Colab\"/></a>"
      ]
    },
    {
      "cell_type": "code",
      "source": [
        "!pip install squarify\n",
        "#!pip install openpyxl==3.0.9"
      ],
      "metadata": {
        "id": "9KJ7l4Q8zdeZ",
        "colab": {
          "base_uri": "https://localhost:8080/"
        },
        "outputId": "aa43fde7-1ac3-46d2-bcdd-bcb3e6903b23"
      },
      "execution_count": null,
      "outputs": [
        {
          "output_type": "stream",
          "name": "stdout",
          "text": [
            "Collecting squarify\n",
            "  Downloading squarify-0.4.3-py3-none-any.whl (4.3 kB)\n",
            "Installing collected packages: squarify\n",
            "Successfully installed squarify-0.4.3\n"
          ]
        }
      ]
    },
    {
      "cell_type": "code",
      "execution_count": null,
      "metadata": {
        "id": "r8M0l8jMMu1w"
      },
      "outputs": [],
      "source": [
        "import pandas as pd\n",
        "import numpy as np\n",
        "from tabulate import tabulate\n",
        "import seaborn as sns\n",
        "import matplotlib.pyplot as plt\n",
        "import squarify \n",
        "import plotly.express as px\n",
        "\n",
        "pd.options.display.float_format = \"{:}\".format # Para mostrar toda la longitud de los float"
      ]
    },
    {
      "cell_type": "code",
      "source": [
        "df = pd.read_excel('/content/drive/Shareddrives/Trabajo Grupal/UTEC - Advanced Analytics & AI - Dataset Caso Grupal Analytics.xlsx', sheet_name = 'Database', header = 6 )"
      ],
      "metadata": {
        "id": "QwEbvkieMK3N"
      },
      "execution_count": null,
      "outputs": []
    },
    {
      "cell_type": "code",
      "source": [
        "print(f'En la base hay {df.shape[0]:,.2f} filas y {df.shape[1]} columnas. Las variables identificadoras son el Codigo Grupo y el periodo.Hay data real y presupuestada') "
      ],
      "metadata": {
        "id": "L5DUr9DQeKnp",
        "colab": {
          "base_uri": "https://localhost:8080/"
        },
        "outputId": "6fbdbdb1-af61-4206-bc56-26ca5edeb943"
      },
      "execution_count": null,
      "outputs": [
        {
          "output_type": "stream",
          "name": "stdout",
          "text": [
            "En la base hay 25,496.00 filas y 57 columnas. Las variables identificadoras son el Codigo Grupo y el periodo.Hay data real y presupuestada\n"
          ]
        }
      ]
    },
    {
      "cell_type": "markdown",
      "source": [
        "# Calidad de información"
      ],
      "metadata": {
        "id": "7Z9ZQRwE-hQQ"
      }
    },
    {
      "cell_type": "code",
      "source": [
        "# Dividimos la data entre real y presupuestada y eliminanos las notas de credito porque no son transacciones concluidas\n",
        "\n",
        "df_real = df.loc[ (df['REAL_PPTO'] == 'REAL') & (df['Cantidad'] >= 0) ]\n",
        "df_ppto = df.loc[ (df['REAL_PPTO'] == 'Presupuesto') &  (df['Cantidad'] >= 0) ]\n"
      ],
      "metadata": {
        "id": "nmO6iKMeTKvf"
      },
      "execution_count": null,
      "outputs": []
    },
    {
      "cell_type": "markdown",
      "source": [
        "## ¿Cuáles son las conclusiones generales sobre la calidad de la información?"
      ],
      "metadata": {
        "id": "Ya2P1_FBGKlY"
      }
    },
    {
      "cell_type": "markdown",
      "source": [
        "### Missing values\n",
        "Revisamos si existen valores nulos en algunas variables importantes"
      ],
      "metadata": {
        "id": "T6UoGXcQdSnv"
      }
    },
    {
      "cell_type": "code",
      "source": [
        "df_real.shape"
      ],
      "metadata": {
        "id": "zRvrDVIeh9BV",
        "colab": {
          "base_uri": "https://localhost:8080/"
        },
        "outputId": "49800c52-0a6d-494d-ee6c-8c1ff4be03aa"
      },
      "execution_count": null,
      "outputs": [
        {
          "output_type": "execute_result",
          "data": {
            "text/plain": [
              "(14497, 57)"
            ]
          },
          "metadata": {},
          "execution_count": 6
        }
      ]
    },
    {
      "cell_type": "code",
      "source": [
        "df_real.isnull().sum()"
      ],
      "metadata": {
        "id": "ORI-F1ILhJa1",
        "colab": {
          "base_uri": "https://localhost:8080/"
        },
        "outputId": "ca8e4d1b-228e-4ceb-d017-3c72a70475dd"
      },
      "execution_count": null,
      "outputs": [
        {
          "output_type": "execute_result",
          "data": {
            "text/plain": [
              "Documento                1730\n",
              "Tipo producto               0\n",
              "#SAP                     1730\n",
              "Estado                   1730\n",
              "Sub-tipo                 1730\n",
              "Tipo SUNAT               1730\n",
              "Serie                    1730\n",
              "Correlativo              1730\n",
              "Periodo                     0\n",
              "Fecha emisión               0\n",
              "Fecha creación           1730\n",
              "Razón social cliente        0\n",
              "Co-Distribuidor          1730\n",
              "Condición de pago        1730\n",
              "Fecha venc               1730\n",
              "Vendedor SN              1730\n",
              "Canal                       0\n",
              "Bodega                      2\n",
              "Marca                       2\n",
              "Familia                  1730\n",
              "Sub-Familia              1730\n",
              "Inv                      1730\n",
              "Grupo                       0\n",
              "Código                      0\n",
              "Cod. Padre              13248\n",
              "Descripción                 0\n",
              "Lista Precios S/N        5244\n",
              "Moneda                   1730\n",
              "TC                       1730\n",
              "Cantidad                    0\n",
              "Almacén                  1730\n",
              "Prec.Unit                1730\n",
              "%Desc.Item               1730\n",
              "%Desc.Documento          1730\n",
              "%Desc.ListaPrecios       5241\n",
              "Prec.-Desc.              1730\n",
              "Prec.Total               1730\n",
              "Prec.Total-Anticipo      1730\n",
              "Impuesto                 1730\n",
              "IGV                      1730\n",
              "ISC                      1730\n",
              "Total                    1730\n",
              "Percepcion               1730\n",
              "Total+Percepcion         1730\n",
              "# Referencia             2309\n",
              "# Serie GUIA             1730\n",
              "# Correlativo GUIA       1730\n",
              "Costo Unit               1730\n",
              "Costo Total              1730\n",
              "Codigo Grupo                2\n",
              "Descripcion Grupo           2\n",
              "NUEVO CANAL                 0\n",
              "CLASIFICACION               2\n",
              "PAIS                        2\n",
              "Q NORMALIZADA               0\n",
              "CANTIDAD                    0\n",
              "REAL_PPTO                   0\n",
              "dtype: int64"
            ]
          },
          "metadata": {},
          "execution_count": 7
        }
      ]
    },
    {
      "cell_type": "markdown",
      "source": [
        "### Creacion de variables adicionales"
      ],
      "metadata": {
        "id": "zrdzi5jQ-vGR"
      }
    },
    {
      "cell_type": "markdown",
      "source": [
        "Se convirtio el precio a soles porque inicialmente este estaba en dolares y permitia hacer una comparacion con el costo"
      ],
      "metadata": {
        "id": "PoRLqNEB_bx6"
      }
    },
    {
      "cell_type": "code",
      "source": [
        "my_dfs = [df_real, df_ppto]\n",
        "\n",
        "for dfs in my_dfs:\n",
        "\n",
        "  # Convierto el precio de $ a S/\n",
        "  precios = ['Prec.Unit', 'Prec.-Desc.', 'Prec.Total', 'Prec.Total-Anticipo', 'Total', 'Total+Percepcion']  \n",
        "  for p in precios:\n",
        "    dfs[f'{p} S/'] = dfs[f'{p}']*dfs['TC']\n",
        "    dfs[f'{p} S/'] = dfs[f'{p}']*dfs['TC']\n",
        "\n",
        "  # Calculo los margenes de ganancia\n",
        "  dfs['Margen Unitario'] = dfs['Prec.Unit S/'] - dfs['Costo Unit']\n",
        "  dfs['Margen Unitario dsct'] = dfs['Prec.-Desc. S/'] - dfs['Costo Unit']\n",
        "  dfs['Utilidad'] = dfs['Total+Percepcion S/'] - dfs['Costo Total']\n",
        "\n",
        "  # Calculo el mes\n",
        "  new = dfs[\"Periodo\"].str.split(\"-\", n = 1, expand = True)  \n",
        "  dfs[\"Anio\"]= new[0]\n",
        "  dfs[\"Mes\"]= new[1]\n",
        "\n",
        "\n",
        "#Calculo un % de descuento en el precio\n",
        "#df['% Descuento Precio'] = (df['Prec.Unit S/'] - df['Prec.-Desc. S/'])/df['Prec.Unit S/']\n",
        "\n",
        "# Genero una copia de la base sin los datos negativos\n",
        "df_copy = df.copy()\n",
        "df_copy = df_copy[ (df_copy['Cantidad'] >= 0) & (df_copy['Prec.Unit'] > 0) ]\n",
        "df_copy_split = dfs[\"Periodo\"].str.split(\"-\", n = 1, expand = True)  \n",
        "df_copy[\"Anio\"]= new[0]\n",
        "df_copy[\"Mes\"]= new[1]"
      ],
      "metadata": {
        "id": "UsZK9OwK-ob6",
        "colab": {
          "base_uri": "https://localhost:8080/"
        },
        "outputId": "d1365e6e-1f03-4003-a80e-0e20c3774f49"
      },
      "execution_count": null,
      "outputs": [
        {
          "output_type": "stream",
          "name": "stderr",
          "text": [
            "/usr/local/lib/python3.7/dist-packages/ipykernel_launcher.py:8: SettingWithCopyWarning: \n",
            "A value is trying to be set on a copy of a slice from a DataFrame.\n",
            "Try using .loc[row_indexer,col_indexer] = value instead\n",
            "\n",
            "See the caveats in the documentation: https://pandas.pydata.org/pandas-docs/stable/user_guide/indexing.html#returning-a-view-versus-a-copy\n",
            "  \n",
            "/usr/local/lib/python3.7/dist-packages/ipykernel_launcher.py:9: SettingWithCopyWarning: \n",
            "A value is trying to be set on a copy of a slice from a DataFrame.\n",
            "Try using .loc[row_indexer,col_indexer] = value instead\n",
            "\n",
            "See the caveats in the documentation: https://pandas.pydata.org/pandas-docs/stable/user_guide/indexing.html#returning-a-view-versus-a-copy\n",
            "  if __name__ == '__main__':\n",
            "/usr/local/lib/python3.7/dist-packages/ipykernel_launcher.py:12: SettingWithCopyWarning: \n",
            "A value is trying to be set on a copy of a slice from a DataFrame.\n",
            "Try using .loc[row_indexer,col_indexer] = value instead\n",
            "\n",
            "See the caveats in the documentation: https://pandas.pydata.org/pandas-docs/stable/user_guide/indexing.html#returning-a-view-versus-a-copy\n",
            "  if sys.path[0] == '':\n",
            "/usr/local/lib/python3.7/dist-packages/ipykernel_launcher.py:13: SettingWithCopyWarning: \n",
            "A value is trying to be set on a copy of a slice from a DataFrame.\n",
            "Try using .loc[row_indexer,col_indexer] = value instead\n",
            "\n",
            "See the caveats in the documentation: https://pandas.pydata.org/pandas-docs/stable/user_guide/indexing.html#returning-a-view-versus-a-copy\n",
            "  del sys.path[0]\n",
            "/usr/local/lib/python3.7/dist-packages/ipykernel_launcher.py:14: SettingWithCopyWarning: \n",
            "A value is trying to be set on a copy of a slice from a DataFrame.\n",
            "Try using .loc[row_indexer,col_indexer] = value instead\n",
            "\n",
            "See the caveats in the documentation: https://pandas.pydata.org/pandas-docs/stable/user_guide/indexing.html#returning-a-view-versus-a-copy\n",
            "  \n",
            "/usr/local/lib/python3.7/dist-packages/ipykernel_launcher.py:18: SettingWithCopyWarning: \n",
            "A value is trying to be set on a copy of a slice from a DataFrame.\n",
            "Try using .loc[row_indexer,col_indexer] = value instead\n",
            "\n",
            "See the caveats in the documentation: https://pandas.pydata.org/pandas-docs/stable/user_guide/indexing.html#returning-a-view-versus-a-copy\n",
            "/usr/local/lib/python3.7/dist-packages/ipykernel_launcher.py:19: SettingWithCopyWarning: \n",
            "A value is trying to be set on a copy of a slice from a DataFrame.\n",
            "Try using .loc[row_indexer,col_indexer] = value instead\n",
            "\n",
            "See the caveats in the documentation: https://pandas.pydata.org/pandas-docs/stable/user_guide/indexing.html#returning-a-view-versus-a-copy\n"
          ]
        }
      ]
    },
    {
      "cell_type": "code",
      "source": [
        "df_real.describe().transpose()"
      ],
      "metadata": {
        "id": "dBOTnNNukHmQ",
        "colab": {
          "base_uri": "https://localhost:8080/",
          "height": 990
        },
        "outputId": "5da0940c-14fb-492d-c296-db088c33aa20"
      },
      "execution_count": null,
      "outputs": [
        {
          "output_type": "execute_result",
          "data": {
            "text/html": [
              "\n",
              "  <div id=\"df-f62d8d6b-ebd5-408a-a74c-6ecf12987452\">\n",
              "    <div class=\"colab-df-container\">\n",
              "      <div>\n",
              "<style scoped>\n",
              "    .dataframe tbody tr th:only-of-type {\n",
              "        vertical-align: middle;\n",
              "    }\n",
              "\n",
              "    .dataframe tbody tr th {\n",
              "        vertical-align: top;\n",
              "    }\n",
              "\n",
              "    .dataframe thead th {\n",
              "        text-align: right;\n",
              "    }\n",
              "</style>\n",
              "<table border=\"1\" class=\"dataframe\">\n",
              "  <thead>\n",
              "    <tr style=\"text-align: right;\">\n",
              "      <th></th>\n",
              "      <th>count</th>\n",
              "      <th>mean</th>\n",
              "      <th>std</th>\n",
              "      <th>min</th>\n",
              "      <th>25%</th>\n",
              "      <th>50%</th>\n",
              "      <th>75%</th>\n",
              "      <th>max</th>\n",
              "    </tr>\n",
              "  </thead>\n",
              "  <tbody>\n",
              "    <tr>\n",
              "      <th>#SAP</th>\n",
              "      <td>12767.0</td>\n",
              "      <td>1805420093.0762904</td>\n",
              "      <td>2759522.480558725</td>\n",
              "      <td>1801010007.0</td>\n",
              "      <td>1803010689.0</td>\n",
              "      <td>1805012015.0</td>\n",
              "      <td>1808010363.0</td>\n",
              "      <td>1810010784.0</td>\n",
              "    </tr>\n",
              "    <tr>\n",
              "      <th>Correlativo</th>\n",
              "      <td>12767.0</td>\n",
              "      <td>6318.182345108483</td>\n",
              "      <td>4233.626158570541</td>\n",
              "      <td>1.0</td>\n",
              "      <td>2469.0</td>\n",
              "      <td>6067.0</td>\n",
              "      <td>9926.5</td>\n",
              "      <td>122348.0</td>\n",
              "    </tr>\n",
              "    <tr>\n",
              "      <th>TC</th>\n",
              "      <td>12767.0</td>\n",
              "      <td>3.2667508420147233</td>\n",
              "      <td>0.031930774679722426</td>\n",
              "      <td>3.208</td>\n",
              "      <td>3.243</td>\n",
              "      <td>3.27</td>\n",
              "      <td>3.287</td>\n",
              "      <td>3.335</td>\n",
              "    </tr>\n",
              "    <tr>\n",
              "      <th>Cantidad</th>\n",
              "      <td>14497.0</td>\n",
              "      <td>49.231703110988484</td>\n",
              "      <td>99.01723699492658</td>\n",
              "      <td>0.0</td>\n",
              "      <td>6.0</td>\n",
              "      <td>24.0</td>\n",
              "      <td>48.0</td>\n",
              "      <td>4000.0</td>\n",
              "    </tr>\n",
              "    <tr>\n",
              "      <th>Almacén</th>\n",
              "      <td>12767.0</td>\n",
              "      <td>18.9560585885486</td>\n",
              "      <td>99.55281036442892</td>\n",
              "      <td>1.0</td>\n",
              "      <td>1.0</td>\n",
              "      <td>1.0</td>\n",
              "      <td>1.0</td>\n",
              "      <td>609.0</td>\n",
              "    </tr>\n",
              "    <tr>\n",
              "      <th>Prec.Unit</th>\n",
              "      <td>12767.0</td>\n",
              "      <td>1.8332674567243916</td>\n",
              "      <td>0.7535241237589685</td>\n",
              "      <td>0.475015</td>\n",
              "      <td>1.544237</td>\n",
              "      <td>1.6</td>\n",
              "      <td>1.796105</td>\n",
              "      <td>16.1017</td>\n",
              "    </tr>\n",
              "    <tr>\n",
              "      <th>%Desc.Item</th>\n",
              "      <td>12767.0</td>\n",
              "      <td>34.729092965456985</td>\n",
              "      <td>7.438247073234315</td>\n",
              "      <td>0.0</td>\n",
              "      <td>33.0</td>\n",
              "      <td>33.0</td>\n",
              "      <td>33.000008</td>\n",
              "      <td>88.200137</td>\n",
              "    </tr>\n",
              "    <tr>\n",
              "      <th>%Desc.Documento</th>\n",
              "      <td>12767.0</td>\n",
              "      <td>0.0</td>\n",
              "      <td>0.0</td>\n",
              "      <td>0.0</td>\n",
              "      <td>0.0</td>\n",
              "      <td>0.0</td>\n",
              "      <td>0.0</td>\n",
              "      <td>0.0</td>\n",
              "    </tr>\n",
              "    <tr>\n",
              "      <th>%Desc.ListaPrecios</th>\n",
              "      <td>9256.0</td>\n",
              "      <td>30.85901037165082</td>\n",
              "      <td>8.81242804284148</td>\n",
              "      <td>0.0</td>\n",
              "      <td>33.0</td>\n",
              "      <td>33.0</td>\n",
              "      <td>33.0</td>\n",
              "      <td>45.0</td>\n",
              "    </tr>\n",
              "    <tr>\n",
              "      <th>Prec.-Desc.</th>\n",
              "      <td>12767.0</td>\n",
              "      <td>1.1990548854859813</td>\n",
              "      <td>0.5305217757622744</td>\n",
              "      <td>0.222116</td>\n",
              "      <td>0.970593</td>\n",
              "      <td>1.072</td>\n",
              "      <td>1.20339</td>\n",
              "      <td>10.788139</td>\n",
              "    </tr>\n",
              "    <tr>\n",
              "      <th>Prec.Total</th>\n",
              "      <td>12767.0</td>\n",
              "      <td>64.88576144951918</td>\n",
              "      <td>119.61902834861482</td>\n",
              "      <td>0.444369</td>\n",
              "      <td>12.863976</td>\n",
              "      <td>28.88136</td>\n",
              "      <td>72.6102</td>\n",
              "      <td>4372.88</td>\n",
              "    </tr>\n",
              "    <tr>\n",
              "      <th>Prec.Total-Anticipo</th>\n",
              "      <td>12767.0</td>\n",
              "      <td>64.88576144951918</td>\n",
              "      <td>119.61902834861482</td>\n",
              "      <td>0.444369</td>\n",
              "      <td>12.863976</td>\n",
              "      <td>28.88136</td>\n",
              "      <td>72.6102</td>\n",
              "      <td>4372.88</td>\n",
              "    </tr>\n",
              "    <tr>\n",
              "      <th>IGV</th>\n",
              "      <td>12767.0</td>\n",
              "      <td>12.165832005404745</td>\n",
              "      <td>21.869389373335938</td>\n",
              "      <td>0.0</td>\n",
              "      <td>2.709153</td>\n",
              "      <td>5.4432</td>\n",
              "      <td>13.591525</td>\n",
              "      <td>787.118606</td>\n",
              "    </tr>\n",
              "    <tr>\n",
              "      <th>ISC</th>\n",
              "      <td>12767.0</td>\n",
              "      <td>2.870123171457616</td>\n",
              "      <td>9.091093962445099</td>\n",
              "      <td>0.0</td>\n",
              "      <td>0.0</td>\n",
              "      <td>0.0</td>\n",
              "      <td>1.8281209999999999</td>\n",
              "      <td>292.133923</td>\n",
              "    </tr>\n",
              "    <tr>\n",
              "      <th>Total</th>\n",
              "      <td>12767.0</td>\n",
              "      <td>79.92171672898982</td>\n",
              "      <td>143.89936261377827</td>\n",
              "      <td>0.613497</td>\n",
              "      <td>17.760005</td>\n",
              "      <td>35.683198</td>\n",
              "      <td>89.099995</td>\n",
              "      <td>5159.998606</td>\n",
              "    </tr>\n",
              "    <tr>\n",
              "      <th>Percepcion</th>\n",
              "      <td>12767.0</td>\n",
              "      <td>0.6303850067361156</td>\n",
              "      <td>1.3544574856466813</td>\n",
              "      <td>0.0</td>\n",
              "      <td>0.0</td>\n",
              "      <td>0.0</td>\n",
              "      <td>0.6816</td>\n",
              "      <td>30.365194</td>\n",
              "    </tr>\n",
              "    <tr>\n",
              "      <th>Total+Percepcion</th>\n",
              "      <td>12767.0</td>\n",
              "      <td>80.5521017357244</td>\n",
              "      <td>144.3302901941942</td>\n",
              "      <td>0.613497</td>\n",
              "      <td>17.947572</td>\n",
              "      <td>36.230478</td>\n",
              "      <td>90.5760655</td>\n",
              "      <td>5159.998606</td>\n",
              "    </tr>\n",
              "    <tr>\n",
              "      <th>Costo Unit</th>\n",
              "      <td>12767.0</td>\n",
              "      <td>1.8644858525886678</td>\n",
              "      <td>0.7611824569767816</td>\n",
              "      <td>0.167909</td>\n",
              "      <td>1.608929</td>\n",
              "      <td>1.67699</td>\n",
              "      <td>1.889876</td>\n",
              "      <td>34.78254</td>\n",
              "    </tr>\n",
              "    <tr>\n",
              "      <th>Costo Total</th>\n",
              "      <td>12767.0</td>\n",
              "      <td>102.31601778757745</td>\n",
              "      <td>192.98586226568725</td>\n",
              "      <td>0.167909</td>\n",
              "      <td>20.027244</td>\n",
              "      <td>45.262824</td>\n",
              "      <td>113.547735</td>\n",
              "      <td>7220.196</td>\n",
              "    </tr>\n",
              "    <tr>\n",
              "      <th>Q NORMALIZADA</th>\n",
              "      <td>14497.0</td>\n",
              "      <td>48.90184176036421</td>\n",
              "      <td>99.13966046213226</td>\n",
              "      <td>0.0</td>\n",
              "      <td>6.0</td>\n",
              "      <td>24.0</td>\n",
              "      <td>48.0</td>\n",
              "      <td>4000.0</td>\n",
              "    </tr>\n",
              "    <tr>\n",
              "      <th>CANTIDAD</th>\n",
              "      <td>14497.0</td>\n",
              "      <td>48.901979719942055</td>\n",
              "      <td>99.13959310291703</td>\n",
              "      <td>0.0</td>\n",
              "      <td>6.0</td>\n",
              "      <td>24.0</td>\n",
              "      <td>48.0</td>\n",
              "      <td>4000.0</td>\n",
              "    </tr>\n",
              "    <tr>\n",
              "      <th>Prec.Unit S/</th>\n",
              "      <td>12767.0</td>\n",
              "      <td>5.988772672577284</td>\n",
              "      <td>2.46371268696741</td>\n",
              "      <td>1.5399986300000001</td>\n",
              "      <td>5.1175989215</td>\n",
              "      <td>5.279990099999999</td>\n",
              "      <td>5.910981555</td>\n",
              "      <td>52.330525</td>\n",
              "    </tr>\n",
              "    <tr>\n",
              "      <th>Prec.-Desc. S/</th>\n",
              "      <td>12767.0</td>\n",
              "      <td>3.9170721068321925</td>\n",
              "      <td>1.7346746500010763</td>\n",
              "      <td>0.724320276</td>\n",
              "      <td>3.19830923</td>\n",
              "      <td>3.515081442</td>\n",
              "      <td>3.96276327</td>\n",
              "      <td>35.061451749999996</td>\n",
              "    </tr>\n",
              "    <tr>\n",
              "      <th>Prec.Total S/</th>\n",
              "      <td>12767.0</td>\n",
              "      <td>211.8368494479703</td>\n",
              "      <td>390.0171989534995</td>\n",
              "      <td>1.44864294</td>\n",
              "      <td>42.039473568</td>\n",
              "      <td>94.4420472</td>\n",
              "      <td>238.572</td>\n",
              "      <td>14224.978640000001</td>\n",
              "    </tr>\n",
              "    <tr>\n",
              "      <th>Prec.Total-Anticipo S/</th>\n",
              "      <td>12767.0</td>\n",
              "      <td>211.8368494479703</td>\n",
              "      <td>390.0171989534995</td>\n",
              "      <td>1.44864294</td>\n",
              "      <td>42.039473568</td>\n",
              "      <td>94.4420472</td>\n",
              "      <td>238.572</td>\n",
              "      <td>14224.978640000001</td>\n",
              "    </tr>\n",
              "    <tr>\n",
              "      <th>Total S/</th>\n",
              "      <td>12767.0</td>\n",
              "      <td>260.93307933452286</td>\n",
              "      <td>469.174310384473</td>\n",
              "      <td>1.9999979999999997</td>\n",
              "      <td>57.32929775400001</td>\n",
              "      <td>116.22147272</td>\n",
              "      <td>288.80757336399995</td>\n",
              "      <td>16785.475465318003</td>\n",
              "    </tr>\n",
              "    <tr>\n",
              "      <th>Total+Percepcion S/</th>\n",
              "      <td>12767.0</td>\n",
              "      <td>262.99203159637705</td>\n",
              "      <td>470.5807788940388</td>\n",
              "      <td>1.9999979999999997</td>\n",
              "      <td>58.235056394999994</td>\n",
              "      <td>118.190321666</td>\n",
              "      <td>293.15314509899997</td>\n",
              "      <td>16785.475465318003</td>\n",
              "    </tr>\n",
              "    <tr>\n",
              "      <th>Margen Unitario</th>\n",
              "      <td>12767.0</td>\n",
              "      <td>4.124286819988463</td>\n",
              "      <td>1.7713864809969655</td>\n",
              "      <td>0.20689936199999992</td>\n",
              "      <td>3.519305982</td>\n",
              "      <td>3.636378037</td>\n",
              "      <td>4.055528005</td>\n",
              "      <td>22.489863999999997</td>\n",
              "    </tr>\n",
              "    <tr>\n",
              "      <th>Margen Unitario dsct</th>\n",
              "      <td>12767.0</td>\n",
              "      <td>2.052586254243591</td>\n",
              "      <td>1.086155117058065</td>\n",
              "      <td>-1.866341137</td>\n",
              "      <td>1.6591663719999996</td>\n",
              "      <td>1.8706355760000002</td>\n",
              "      <td>2.11708492</td>\n",
              "      <td>12.664863999999998</td>\n",
              "    </tr>\n",
              "    <tr>\n",
              "      <th>Utilidad</th>\n",
              "      <td>12767.0</td>\n",
              "      <td>160.67601380880035</td>\n",
              "      <td>282.07953785899707</td>\n",
              "      <td>-44.32972612000003</td>\n",
              "      <td>35.64251261849999</td>\n",
              "      <td>77.04477424199999</td>\n",
              "      <td>176.88265099200004</td>\n",
              "      <td>9565.279465318003</td>\n",
              "    </tr>\n",
              "  </tbody>\n",
              "</table>\n",
              "</div>\n",
              "      <button class=\"colab-df-convert\" onclick=\"convertToInteractive('df-f62d8d6b-ebd5-408a-a74c-6ecf12987452')\"\n",
              "              title=\"Convert this dataframe to an interactive table.\"\n",
              "              style=\"display:none;\">\n",
              "        \n",
              "  <svg xmlns=\"http://www.w3.org/2000/svg\" height=\"24px\"viewBox=\"0 0 24 24\"\n",
              "       width=\"24px\">\n",
              "    <path d=\"M0 0h24v24H0V0z\" fill=\"none\"/>\n",
              "    <path d=\"M18.56 5.44l.94 2.06.94-2.06 2.06-.94-2.06-.94-.94-2.06-.94 2.06-2.06.94zm-11 1L8.5 8.5l.94-2.06 2.06-.94-2.06-.94L8.5 2.5l-.94 2.06-2.06.94zm10 10l.94 2.06.94-2.06 2.06-.94-2.06-.94-.94-2.06-.94 2.06-2.06.94z\"/><path d=\"M17.41 7.96l-1.37-1.37c-.4-.4-.92-.59-1.43-.59-.52 0-1.04.2-1.43.59L10.3 9.45l-7.72 7.72c-.78.78-.78 2.05 0 2.83L4 21.41c.39.39.9.59 1.41.59.51 0 1.02-.2 1.41-.59l7.78-7.78 2.81-2.81c.8-.78.8-2.07 0-2.86zM5.41 20L4 18.59l7.72-7.72 1.47 1.35L5.41 20z\"/>\n",
              "  </svg>\n",
              "      </button>\n",
              "      \n",
              "  <style>\n",
              "    .colab-df-container {\n",
              "      display:flex;\n",
              "      flex-wrap:wrap;\n",
              "      gap: 12px;\n",
              "    }\n",
              "\n",
              "    .colab-df-convert {\n",
              "      background-color: #E8F0FE;\n",
              "      border: none;\n",
              "      border-radius: 50%;\n",
              "      cursor: pointer;\n",
              "      display: none;\n",
              "      fill: #1967D2;\n",
              "      height: 32px;\n",
              "      padding: 0 0 0 0;\n",
              "      width: 32px;\n",
              "    }\n",
              "\n",
              "    .colab-df-convert:hover {\n",
              "      background-color: #E2EBFA;\n",
              "      box-shadow: 0px 1px 2px rgba(60, 64, 67, 0.3), 0px 1px 3px 1px rgba(60, 64, 67, 0.15);\n",
              "      fill: #174EA6;\n",
              "    }\n",
              "\n",
              "    [theme=dark] .colab-df-convert {\n",
              "      background-color: #3B4455;\n",
              "      fill: #D2E3FC;\n",
              "    }\n",
              "\n",
              "    [theme=dark] .colab-df-convert:hover {\n",
              "      background-color: #434B5C;\n",
              "      box-shadow: 0px 1px 3px 1px rgba(0, 0, 0, 0.15);\n",
              "      filter: drop-shadow(0px 1px 2px rgba(0, 0, 0, 0.3));\n",
              "      fill: #FFFFFF;\n",
              "    }\n",
              "  </style>\n",
              "\n",
              "      <script>\n",
              "        const buttonEl =\n",
              "          document.querySelector('#df-f62d8d6b-ebd5-408a-a74c-6ecf12987452 button.colab-df-convert');\n",
              "        buttonEl.style.display =\n",
              "          google.colab.kernel.accessAllowed ? 'block' : 'none';\n",
              "\n",
              "        async function convertToInteractive(key) {\n",
              "          const element = document.querySelector('#df-f62d8d6b-ebd5-408a-a74c-6ecf12987452');\n",
              "          const dataTable =\n",
              "            await google.colab.kernel.invokeFunction('convertToInteractive',\n",
              "                                                     [key], {});\n",
              "          if (!dataTable) return;\n",
              "\n",
              "          const docLinkHtml = 'Like what you see? Visit the ' +\n",
              "            '<a target=\"_blank\" href=https://colab.research.google.com/notebooks/data_table.ipynb>data table notebook</a>'\n",
              "            + ' to learn more about interactive tables.';\n",
              "          element.innerHTML = '';\n",
              "          dataTable['output_type'] = 'display_data';\n",
              "          await google.colab.output.renderOutput(dataTable, element);\n",
              "          const docLink = document.createElement('div');\n",
              "          docLink.innerHTML = docLinkHtml;\n",
              "          element.appendChild(docLink);\n",
              "        }\n",
              "      </script>\n",
              "    </div>\n",
              "  </div>\n",
              "  "
            ],
            "text/plain": [
              "                         count  ...                max\n",
              "#SAP                   12767.0  ...       1810010784.0\n",
              "Correlativo            12767.0  ...           122348.0\n",
              "TC                     12767.0  ...              3.335\n",
              "Cantidad               14497.0  ...             4000.0\n",
              "Almacén                12767.0  ...              609.0\n",
              "Prec.Unit              12767.0  ...            16.1017\n",
              "%Desc.Item             12767.0  ...          88.200137\n",
              "%Desc.Documento        12767.0  ...                0.0\n",
              "%Desc.ListaPrecios      9256.0  ...               45.0\n",
              "Prec.-Desc.            12767.0  ...          10.788139\n",
              "Prec.Total             12767.0  ...            4372.88\n",
              "Prec.Total-Anticipo    12767.0  ...            4372.88\n",
              "IGV                    12767.0  ...         787.118606\n",
              "ISC                    12767.0  ...         292.133923\n",
              "Total                  12767.0  ...        5159.998606\n",
              "Percepcion             12767.0  ...          30.365194\n",
              "Total+Percepcion       12767.0  ...        5159.998606\n",
              "Costo Unit             12767.0  ...           34.78254\n",
              "Costo Total            12767.0  ...           7220.196\n",
              "Q NORMALIZADA          14497.0  ...             4000.0\n",
              "CANTIDAD               14497.0  ...             4000.0\n",
              "Prec.Unit S/           12767.0  ...          52.330525\n",
              "Prec.-Desc. S/         12767.0  ... 35.061451749999996\n",
              "Prec.Total S/          12767.0  ... 14224.978640000001\n",
              "Prec.Total-Anticipo S/ 12767.0  ... 14224.978640000001\n",
              "Total S/               12767.0  ... 16785.475465318003\n",
              "Total+Percepcion S/    12767.0  ... 16785.475465318003\n",
              "Margen Unitario        12767.0  ... 22.489863999999997\n",
              "Margen Unitario dsct   12767.0  ... 12.664863999999998\n",
              "Utilidad               12767.0  ...  9565.279465318003\n",
              "\n",
              "[30 rows x 8 columns]"
            ]
          },
          "metadata": {},
          "execution_count": 9
        }
      ]
    },
    {
      "cell_type": "markdown",
      "source": [
        "Se podria decir que **la calidad de la informacion brindada fue buena**."
      ],
      "metadata": {
        "id": "RdNlpAwStKkq"
      }
    },
    {
      "cell_type": "markdown",
      "source": [
        "## ¿Existe consistencia en los datos de costos, precios y descuentos aplicados?"
      ],
      "metadata": {
        "id": "SBqCwqpautZ3"
      }
    },
    {
      "cell_type": "code",
      "source": [
        "#No hay una relacion entre descuento de precio por cantidad, por que? De hecho hay mucha varianza para el descuento del 40%\n",
        "sns.scatterplot(x=\"Cantidad\", y=\"%Desc.Item\", hue=\"Marca\", data=df_real)"
      ],
      "metadata": {
        "id": "3ir4BGBYJ5rf",
        "colab": {
          "base_uri": "https://localhost:8080/",
          "height": 296
        },
        "outputId": "924af0cb-e7a8-4fc9-fa0d-916c2f65145b"
      },
      "execution_count": null,
      "outputs": [
        {
          "output_type": "execute_result",
          "data": {
            "text/plain": [
              "<matplotlib.axes._subplots.AxesSubplot at 0x7f5bd89bc190>"
            ]
          },
          "metadata": {},
          "execution_count": 10
        },
        {
          "output_type": "display_data",
          "data": {
            "image/png": "[encoded data removed]",
            "text/plain": [
              "<Figure size 432x288 with 1 Axes>"
            ]
          },
          "metadata": {
            "needs_background": "light"
          }
        }
      ]
    },
    {
      "cell_type": "code",
      "source": [
        "# El margen de ganancia unitaria llega a ser negativo alrededor de un descuento de 75%\n",
        "graph1 = sns.scatterplot(x=\"%Desc.Item\", y=\"Margen Unitario dsct\", hue=\"Marca\", data=df_real)\n",
        "graph1.axhline(0)"
      ],
      "metadata": {
        "id": "cOe7omnCJ4uK",
        "colab": {
          "base_uri": "https://localhost:8080/",
          "height": 296
        },
        "outputId": "f6920e13-f253-4f05-b872-7d7443e053b0"
      },
      "execution_count": null,
      "outputs": [
        {
          "output_type": "execute_result",
          "data": {
            "text/plain": [
              "<matplotlib.lines.Line2D at 0x7f5bd764cc50>"
            ]
          },
          "metadata": {},
          "execution_count": 11
        },
        {
          "output_type": "display_data",
          "data": {
            "image/png": "[encoded data removed]",
            "text/plain": [
              "<Figure size 432x288 with 1 Axes>"
            ]
          },
          "metadata": {
            "needs_background": "light"
          }
        }
      ]
    },
    {
      "cell_type": "code",
      "source": [
        "# Los descuentos entre el 30% y el 50% son los que dan mayor utilidad\n",
        "graph2 = sns.scatterplot(x=\"%Desc.Item\", y=\"Utilidad\", hue=\"Marca\", data=df_real)\n",
        "graph2.axvline(31)\n",
        "graph2.axvline(46)"
      ],
      "metadata": {
        "id": "EZ-ND7PfKHT1",
        "colab": {
          "base_uri": "https://localhost:8080/",
          "height": 299
        },
        "outputId": "3bb21cfe-2c57-4772-f6b7-018917ae2491"
      },
      "execution_count": null,
      "outputs": [
        {
          "output_type": "execute_result",
          "data": {
            "text/plain": [
              "<matplotlib.lines.Line2D at 0x7f5bd7650f90>"
            ]
          },
          "metadata": {},
          "execution_count": 12
        },
        {
          "output_type": "display_data",
          "data": {
            "image/png": "[encoded data removed]",
            "text/plain": [
              "<Figure size 432x288 with 1 Axes>"
            ]
          },
          "metadata": {
            "needs_background": "light"
          }
        }
      ]
    },
    {
      "cell_type": "code",
      "source": [
        "freq_dsct = pd.value_counts(df_real['%Desc.Item']).to_frame().reset_index()\n",
        "freq_dsct\n",
        "kwargs = {'cumulative': True}\n",
        "sns.distplot(df_real['%Desc.Item'], hist_kws=kwargs, kde_kws=kwargs)"
      ],
      "metadata": {
        "id": "u6XMKyK2Evy8",
        "colab": {
          "base_uri": "https://localhost:8080/",
          "height": 351
        },
        "outputId": "021b13c8-b2b3-44aa-8ed6-635bf9d26a25"
      },
      "execution_count": null,
      "outputs": [
        {
          "output_type": "stream",
          "name": "stderr",
          "text": [
            "/usr/local/lib/python3.7/dist-packages/seaborn/distributions.py:2619: FutureWarning: `distplot` is a deprecated function and will be removed in a future version. Please adapt your code to use either `displot` (a figure-level function with similar flexibility) or `histplot` (an axes-level function for histograms).\n",
            "  warnings.warn(msg, FutureWarning)\n"
          ]
        },
        {
          "output_type": "execute_result",
          "data": {
            "text/plain": [
              "<matplotlib.axes._subplots.AxesSubplot at 0x7f5bd73321d0>"
            ]
          },
          "metadata": {},
          "execution_count": 13
        },
        {
          "output_type": "display_data",
          "data": {
            "image/png": "[encoded data removed]",
            "text/plain": [
              "<Figure size 432x288 with 1 Axes>"
            ]
          },
          "metadata": {
            "needs_background": "light"
          }
        }
      ]
    },
    {
      "cell_type": "markdown",
      "source": [
        "## ¿Qué se puede concluir sobre las variables ‘costos’ y ‘cantidad’?"
      ],
      "metadata": {
        "id": "TVTsLG2lLEAV"
      }
    },
    {
      "cell_type": "code",
      "source": [
        "sns.regplot(x=\"Cantidad\", y=\"Costo Total\", data=df_real)"
      ],
      "metadata": {
        "id": "b2CkIfPZ4LdX",
        "colab": {
          "base_uri": "https://localhost:8080/",
          "height": 296
        },
        "outputId": "48719910-25d2-415a-a08b-543f3f26e4b8"
      },
      "execution_count": null,
      "outputs": [
        {
          "output_type": "execute_result",
          "data": {
            "text/plain": [
              "<matplotlib.axes._subplots.AxesSubplot at 0x7f5bd810c590>"
            ]
          },
          "metadata": {},
          "execution_count": 14
        },
        {
          "output_type": "display_data",
          "data": {
            "image/png": "[encoded data removed]",
            "text/plain": [
              "<Figure size 432x288 with 1 Axes>"
            ]
          },
          "metadata": {
            "needs_background": "light"
          }
        }
      ]
    },
    {
      "cell_type": "code",
      "source": [
        "# Los costos totales aumentan con la cantidad\n",
        "sns.scatterplot(x=\"Cantidad\", y=\"Costo Total\", hue=\"Marca\", data=df_real)"
      ],
      "metadata": {
        "id": "_BBp6mUD5wlX",
        "colab": {
          "base_uri": "https://localhost:8080/",
          "height": 296
        },
        "outputId": "a13cd604-d4c8-4408-f17c-a9058ab44160"
      },
      "execution_count": null,
      "outputs": [
        {
          "output_type": "execute_result",
          "data": {
            "text/plain": [
              "<matplotlib.axes._subplots.AxesSubplot at 0x7f5bd85a4fd0>"
            ]
          },
          "metadata": {},
          "execution_count": 15
        },
        {
          "output_type": "display_data",
          "data": {
            "image/png": "[encoded data removed]",
            "text/plain": [
              "<Figure size 432x288 with 1 Axes>"
            ]
          },
          "metadata": {
            "needs_background": "light"
          }
        }
      ]
    },
    {
      "cell_type": "code",
      "source": [
        "# Los costos unitario se mantienen constantes respecto a la cantidad ofertada\n",
        "sns.scatterplot(x=\"Cantidad\", y=\"Costo Unit\", hue=\"Marca\", data=df_real)"
      ],
      "metadata": {
        "id": "70IG-WM3V-oi",
        "colab": {
          "base_uri": "https://localhost:8080/",
          "height": 296
        },
        "outputId": "64dbf9f9-468b-440f-928e-0eeb2b57ca6a"
      },
      "execution_count": null,
      "outputs": [
        {
          "output_type": "execute_result",
          "data": {
            "text/plain": [
              "<matplotlib.axes._subplots.AxesSubplot at 0x7f5bd813e210>"
            ]
          },
          "metadata": {},
          "execution_count": 16
        },
        {
          "output_type": "display_data",
          "data": {
            "image/png": "[encoded data removed]",
            "text/plain": [
              "<Figure size 432x288 with 1 Axes>"
            ]
          },
          "metadata": {
            "needs_background": "light"
          }
        }
      ]
    },
    {
      "cell_type": "markdown",
      "source": [
        "## ¿La data es lo suficientemente consistente como para obtener conclusiones relevantes para la campaña navideña?\n",
        "\n",
        "Si, los datos son consistentes"
      ],
      "metadata": {
        "id": "oJAaohDxXDkt"
      }
    },
    {
      "cell_type": "markdown",
      "source": [
        "# Portafolio"
      ],
      "metadata": {
        "id": "P_9RFbTduWFU"
      }
    },
    {
      "cell_type": "markdown",
      "source": [
        "## ¿Cuáles son los grupos de productos que concentran la mayor venta?"
      ],
      "metadata": {
        "id": "hZq3WLKeXoUR"
      }
    },
    {
      "cell_type": "code",
      "source": [
        "df_sku = df_real.groupby(['Código','Descripción'],as_index = False)['Utilidad', 'Total+Percepcion S/', 'Costo Total'].sum().round(decimals = 2)"
      ],
      "metadata": {
        "id": "WxLOsTwKG0Mx",
        "colab": {
          "base_uri": "https://localhost:8080/"
        },
        "outputId": "a1367b0a-e062-4e1f-8a53-c910373cd27f"
      },
      "execution_count": null,
      "outputs": [
        {
          "output_type": "stream",
          "name": "stderr",
          "text": [
            "/usr/local/lib/python3.7/dist-packages/ipykernel_launcher.py:1: FutureWarning:\n",
            "\n",
            "Indexing with multiple keys (implicitly converted to a tuple of keys) will be deprecated, use a list instead.\n",
            "\n"
          ]
        }
      ]
    },
    {
      "cell_type": "code",
      "source": [
        "#Top 5 utilidad\n",
        "df_sku.sort_values('Utilidad',kind='mergesort',ascending=False, inplace=True)\n",
        "sku_top_util = df_sku.head(5).style.format({\"Utilidad\": \"S/{:20,.0f}\", \n",
        "                          \"Total+Percepcion S/\": \"S/{:20,.0f}\", \n",
        "                          \"Costo Total\" : \"S/{:20,.0f}\"})\n",
        "sku_top_util.to_excel('sku_top_util.xlsx')\n",
        "sku_top_util"
      ],
      "metadata": {
        "id": "iqyBrNGcQTBP",
        "colab": {
          "base_uri": "https://localhost:8080/",
          "height": 206
        },
        "outputId": "20659124-3c2d-448c-973a-f8e234cadd76"
      },
      "execution_count": null,
      "outputs": [
        {
          "output_type": "execute_result",
          "data": {
            "text/html": [
              "<style type=\"text/css\">\n",
              "</style>\n",
              "<table id=\"T_4ba82_\" class=\"dataframe\">\n",
              "  <thead>\n",
              "    <tr>\n",
              "      <th class=\"blank level0\" >&nbsp;</th>\n",
              "      <th class=\"col_heading level0 col0\" >Código</th>\n",
              "      <th class=\"col_heading level0 col1\" >Descripción</th>\n",
              "      <th class=\"col_heading level0 col2\" >Utilidad</th>\n",
              "      <th class=\"col_heading level0 col3\" >Total+Percepcion S/</th>\n",
              "      <th class=\"col_heading level0 col4\" >Costo Total</th>\n",
              "    </tr>\n",
              "  </thead>\n",
              "  <tbody>\n",
              "    <tr>\n",
              "      <th id=\"T_4ba82_level0_row0\" class=\"row_heading level0 row0\" >2</th>\n",
              "      <td id=\"T_4ba82_row0_col0\" class=\"data row0 col0\" >AG300004</td>\n",
              "      <td id=\"T_4ba82_row0_col1\" class=\"data row0 col1\" >CREMATTA AGUA MINERAL SIN GAS GLASS 750ML</td>\n",
              "      <td id=\"T_4ba82_row0_col2\" class=\"data row0 col2\" >S/             299,448</td>\n",
              "      <td id=\"T_4ba82_row0_col3\" class=\"data row0 col3\" >S/             484,587</td>\n",
              "      <td id=\"T_4ba82_row0_col4\" class=\"data row0 col4\" >S/             185,139</td>\n",
              "    </tr>\n",
              "    <tr>\n",
              "      <th id=\"T_4ba82_level0_row1\" class=\"row_heading level0 row1\" >12</th>\n",
              "      <td id=\"T_4ba82_row1_col0\" class=\"data row1 col0\" >AG300016</td>\n",
              "      <td id=\"T_4ba82_row1_col1\" class=\"data row1 col1\" >CREMATTA AGUA MINERAL SIN GAS GLASS 505ML</td>\n",
              "      <td id=\"T_4ba82_row1_col2\" class=\"data row1 col2\" >S/             234,931</td>\n",
              "      <td id=\"T_4ba82_row1_col3\" class=\"data row1 col3\" >S/             395,623</td>\n",
              "      <td id=\"T_4ba82_row1_col4\" class=\"data row1 col4\" >S/             160,692</td>\n",
              "    </tr>\n",
              "    <tr>\n",
              "      <th id=\"T_4ba82_level0_row2\" class=\"row_heading level0 row2\" >10</th>\n",
              "      <td id=\"T_4ba82_row2_col0\" class=\"data row2 col0\" >AG300010</td>\n",
              "      <td id=\"T_4ba82_row2_col1\" class=\"data row2 col1\" >BENEDICTINO AGUA MINERAL GASIFICADA GLASS 750ML</td>\n",
              "      <td id=\"T_4ba82_row2_col2\" class=\"data row2 col2\" >S/             215,681</td>\n",
              "      <td id=\"T_4ba82_row2_col3\" class=\"data row2 col3\" >S/             349,270</td>\n",
              "      <td id=\"T_4ba82_row2_col4\" class=\"data row2 col4\" >S/             133,589</td>\n",
              "    </tr>\n",
              "    <tr>\n",
              "      <th id=\"T_4ba82_level0_row3\" class=\"row_heading level0 row3\" >13</th>\n",
              "      <td id=\"T_4ba82_row3_col0\" class=\"data row3 col0\" >AG300017</td>\n",
              "      <td id=\"T_4ba82_row3_col1\" class=\"data row3 col1\" >BENEDICTINO AGUA MINERAL GASIFICADA GLASS 505ML</td>\n",
              "      <td id=\"T_4ba82_row3_col2\" class=\"data row3 col2\" >S/             211,583</td>\n",
              "      <td id=\"T_4ba82_row3_col3\" class=\"data row3 col3\" >S/             357,263</td>\n",
              "      <td id=\"T_4ba82_row3_col4\" class=\"data row3 col4\" >S/             145,680</td>\n",
              "    </tr>\n",
              "    <tr>\n",
              "      <th id=\"T_4ba82_level0_row4\" class=\"row_heading level0 row4\" >0</th>\n",
              "      <td id=\"T_4ba82_row4_col0\" class=\"data row4 col0\" >AG300001</td>\n",
              "      <td id=\"T_4ba82_row4_col1\" class=\"data row4 col1\" >CREMATTA AGUA MINERAL SIN GAS GLASS 250ML</td>\n",
              "      <td id=\"T_4ba82_row4_col2\" class=\"data row4 col2\" >S/             145,121</td>\n",
              "      <td id=\"T_4ba82_row4_col3\" class=\"data row4 col3\" >S/             245,224</td>\n",
              "      <td id=\"T_4ba82_row4_col4\" class=\"data row4 col4\" >S/             100,103</td>\n",
              "    </tr>\n",
              "  </tbody>\n",
              "</table>\n"
            ],
            "text/plain": [
              "<pandas.io.formats.style.Styler at 0x7f5bcabab810>"
            ]
          },
          "metadata": {},
          "execution_count": 60
        }
      ]
    },
    {
      "cell_type": "code",
      "source": [
        "#Top 5 ingresos\n",
        "df_sku.sort_values('Total+Percepcion S/',kind='mergesort',ascending=False, inplace=True)\n",
        "df_sku.head(5).style.format({\"Utilidad\": \"S/{:20,.0f}\", \n",
        "                          \"Total+Percepcion S/\": \"S/{:20,.0f}\", \n",
        "                          \"Costo Total\" : \"S/{:20,.0f}\"})"
      ],
      "metadata": {
        "id": "2vj-vWUeGy7a"
      },
      "execution_count": null,
      "outputs": []
    },
    {
      "cell_type": "code",
      "source": [
        "#Top 5 costos\n",
        "df_sku.sort_values('Costo Total',kind='mergesort',ascending=False, inplace=True)\n",
        "df_sku.head(5).style.format({\"Utilidad\": \"S/{:20,.0f}\", \n",
        "                          \"Total+Percepcion S/\": \"S/{:20,.0f}\", \n",
        "                          \"Costo Total\" : \"S/{:20,.0f}\"})"
      ],
      "metadata": {
        "id": "iE80VrwPLTTh"
      },
      "execution_count": null,
      "outputs": []
    },
    {
      "cell_type": "code",
      "source": [
        "# Distribucion de la utilidad por SKU\n",
        "df_sku_plt = df_sku.reset_index().sort_values('Utilidad', ascending = False )\n",
        "sns.barplot(x = 'Descripción',\n",
        "            y = 'Utilidad',\n",
        "            data = df_sku_plt)"
      ],
      "metadata": {
        "id": "cG5yY-9d69EH",
        "colab": {
          "base_uri": "https://localhost:8080/",
          "height": 302
        },
        "outputId": "d34ca649-a412-4086-dbbd-b696c6a545d7"
      },
      "execution_count": null,
      "outputs": [
        {
          "output_type": "execute_result",
          "data": {
            "text/plain": [
              "<matplotlib.axes._subplots.AxesSubplot at 0x7f5bcab5f0d0>"
            ]
          },
          "metadata": {},
          "execution_count": 61
        },
        {
          "output_type": "display_data",
          "data": {
            "image/png": "[encoded data removed]",
            "text/plain": [
              "<Figure size 432x288 with 1 Axes>"
            ]
          },
          "metadata": {}
        }
      ]
    },
    {
      "cell_type": "markdown",
      "source": [
        "## Si se tuviera que elegir 5 SKUs en base a su aporte combinado venta margen, ¿cuáles serían?"
      ],
      "metadata": {
        "id": "C8v1wj9uQ7-S"
      }
    },
    {
      "cell_type": "code",
      "source": [
        "df_sku_mean = df_real.groupby(['Código','Descripción'],as_index = False)['Margen Unitario', 'Prec.Unit S/', 'Costo Unit'].mean().round(decimals = 2)\n",
        "df_sku_mean['Margen%'] = (df_sku_mean['Prec.Unit S/'] - df_sku_mean['Costo Unit'])*100/df_sku_mean['Prec.Unit S/'] \n",
        "df_sku_mean.sort_values(by='Margen%', kind='mergesort',ascending=False, inplace=True)"
      ],
      "metadata": {
        "id": "p50vGiveRjVw",
        "colab": {
          "base_uri": "https://localhost:8080/"
        },
        "outputId": "6c22965f-9787-4373-b602-3845fe21e633"
      },
      "execution_count": null,
      "outputs": [
        {
          "output_type": "stream",
          "name": "stderr",
          "text": [
            "/usr/local/lib/python3.7/dist-packages/ipykernel_launcher.py:1: FutureWarning:\n",
            "\n",
            "Indexing with multiple keys (implicitly converted to a tuple of keys) will be deprecated, use a list instead.\n",
            "\n"
          ]
        }
      ]
    },
    {
      "cell_type": "code",
      "source": [
        "top_sku_margen = df_sku_mean.head(5).style.format({\"Margen Unitario\": \"S/{:20,.0f}\", \n",
        "                          \"Prec.Unit S/\": \"S/{:20,.2f}\", \n",
        "                          \"Costo Unit\" : \"S/{:20,.2f}\",\n",
        "                          \"Margen%\" : \"{:20,.2f}%\"})\n",
        "top_sku_margen.to_excel('top_sku_margen.xlsx')"
      ],
      "metadata": {
        "id": "x-xoagqwT-VX"
      },
      "execution_count": null,
      "outputs": []
    },
    {
      "cell_type": "markdown",
      "source": [
        "## ¿Qué se podría concluir sobre la amplitud y profundidad del portafolio? ¿Lo consideras completo? ¿Prescindirías de algún SKU? ¿Por qué?"
      ],
      "metadata": {
        "id": "PsN0YF76W9oI"
      }
    },
    {
      "cell_type": "code",
      "source": [
        "df_real_nm = df_real.dropna(subset=['Familia', 'Sub-Familia','Marca'])"
      ],
      "metadata": {
        "id": "NZWu817XBahL"
      },
      "execution_count": null,
      "outputs": []
    },
    {
      "cell_type": "code",
      "source": [
        "# Amplitud\n",
        "fig = px.treemap(df_real_nm, \n",
        "                 path=['Marca','Familia', 'Sub-Familia'], \n",
        "                 values='Utilidad',\n",
        "                 color='CANTIDAD',\n",
        "                 color_continuous_scale='RdBu'\n",
        "                )\n",
        "fig.show()"
      ],
      "metadata": {
        "id": "ZyXfL9tRXsiJ",
        "colab": {
          "base_uri": "https://localhost:8080/",
          "height": 542
        },
        "outputId": "8867d581-05f4-4022-c985-7ea52f7c123a"
      },
      "execution_count": null,
      "outputs": [
        {
          "output_type": "display_data",
          "data": {
            "text/html": [
              "<html>\n",
              "<head><meta charset=\"utf-8\" /></head>\n",
              "<body>\n",
              "    <div>            <script src=\"https://cdnjs.cloudflare.com/ajax/libs/mathjax/2.7.5/MathJax.js?config=TeX-AMS-MML_SVG\"></script><script type=\"text/javascript\">if (window.MathJax) {MathJax.Hub.Config({SVG: {font: \"STIX-Web\"}});}</script>                <script type=\"text/javascript\">window.PlotlyConfig = {MathJaxConfig: 'local'};</script>\n",
              "        <script src=\"https://cdn.plot.ly/plotly-2.8.3.min.js\"></script>                <div id=\"8f0a5617-2914-452b-9114-080d501863a1\" class=\"plotly-graph-div\" style=\"height:525px; width:100%;\"></div>            <script type=\"text/javascript\">                                    window.PLOTLYENV=window.PLOTLYENV || {};                                    if (document.getElementById(\"8f0a5617-2914-452b-9114-080d501863a1\")) {                    Plotly.newPlot(                        \"8f0a5617-2914-452b-9114-080d501863a1\",                        [{\"branchvalues\":\"total\",\"customdata\":[[17.94384582777621],[255.997424388562],[151.2725635724427],[36.58712170582399],[311.36933883146156],[160.33207645621002],[84.55427687311631],[230.50889218762157],[101.74403242765045],[141.7896890489855],[174.02164541524246],[400.1884854972331],[140.26992278526143],[84.55427687311631],[217.51860080319398],[311.36933883146156],[151.2725635724427],[230.50889218762157],[197.0433886456655],[288.38981623413343],[134.39105737504184]],\"domain\":{\"x\":[0.0,1.0],\"y\":[0.0,1.0]},\"hovertemplate\":\"labels=%{label}<br>Utilidad=%{value}<br>parent=%{parent}<br>id=%{id}<br>CANTIDAD=%{color}<extra></extra>\",\"ids\":[\"BENEDICTINO/GASIFICADA/BITTER\",\"BENEDICTINO/MINERAL/GASIFICADA\",\"TERG\\u00c8ZE/MINERAL/GASIFICADA\",\"BENEDICTINO/MINERAL/MINERAL\",\"CREMATTA/MINERAL/MINERAL\",\"BENEDICTINO/GASIFICADA/REGULAR\",\"TERG\\u00c8ZE/GASIFICADA/REGULAR\",\"CREMATTA/SIN GAS/REGULAR\",\"BENEDICTINO/GASIFICADA/SABORIZADA\",\"BENEDICTINO/MINERAL/SABORIZADA\",\"BENEDICTINO/GASIFICADA/TONICA\",\"BENEDICTINO/MINERAL/TONICA\",\"BENEDICTINO/GASIFICADA\",\"TERG\\u00c8ZE/GASIFICADA\",\"BENEDICTINO/MINERAL\",\"CREMATTA/MINERAL\",\"TERG\\u00c8ZE/MINERAL\",\"CREMATTA/SIN GAS\",\"BENEDICTINO\",\"CREMATTA\",\"TERG\\u00c8ZE\"],\"labels\":[\"BITTER\",\"GASIFICADA\",\"GASIFICADA\",\"MINERAL\",\"MINERAL\",\"REGULAR\",\"REGULAR\",\"REGULAR\",\"SABORIZADA\",\"SABORIZADA\",\"TONICA\",\"TONICA\",\"GASIFICADA\",\"GASIFICADA\",\"MINERAL\",\"MINERAL\",\"MINERAL\",\"SIN GAS\",\"BENEDICTINO\",\"CREMATTA\",\"TERG\\u00c8ZE\"],\"marker\":{\"coloraxis\":\"coloraxis\",\"colors\":[17.94384582777621,255.997424388562,151.2725635724427,36.58712170582399,311.36933883146156,160.33207645621002,84.55427687311631,230.50889218762157,101.74403242765045,141.7896890489855,174.02164541524246,400.1884854972331,140.26992278526143,84.55427687311631,217.51860080319398,311.36933883146156,151.2725635724427,230.50889218762157,197.0433886456655,288.38981623413343,134.39105737504184]},\"name\":\"\",\"parents\":[\"BENEDICTINO/GASIFICADA\",\"BENEDICTINO/MINERAL\",\"TERG\\u00c8ZE/MINERAL\",\"BENEDICTINO/MINERAL\",\"CREMATTA/MINERAL\",\"BENEDICTINO/GASIFICADA\",\"TERG\\u00c8ZE/GASIFICADA\",\"CREMATTA/SIN GAS\",\"BENEDICTINO/GASIFICADA\",\"BENEDICTINO/MINERAL\",\"BENEDICTINO/GASIFICADA\",\"BENEDICTINO/MINERAL\",\"BENEDICTINO\",\"TERG\\u00c8ZE\",\"BENEDICTINO\",\"CREMATTA\",\"TERG\\u00c8ZE\",\"CREMATTA\",\"\",\"\",\"\"],\"values\":[829.205025166,449969.617806454,85576.046842037,13128.751845272,555429.98584599,177711.285539254,28987.678388597,220513.340469911,108232.69598483,333556.286475825,20915.177116465,56500.596957148,307688.363665715,28987.678388597,853155.253084699,555429.98584599,85576.046842037,220513.340469911,1160843.616750414,775943.326315901,114563.725230634],\"type\":\"treemap\"}],                        {\"template\":{\"data\":{\"bar\":[{\"error_x\":{\"color\":\"#2a3f5f\"},\"error_y\":{\"color\":\"#2a3f5f\"},\"marker\":{\"line\":{\"color\":\"#E5ECF6\",\"width\":0.5},\"pattern\":{\"fillmode\":\"overlay\",\"size\":10,\"solidity\":0.2}},\"type\":\"bar\"}],\"barpolar\":[{\"marker\":{\"line\":{\"color\":\"#E5ECF6\",\"width\":0.5},\"pattern\":{\"fillmode\":\"overlay\",\"size\":10,\"solidity\":0.2}},\"type\":\"barpolar\"}],\"carpet\":[{\"aaxis\":{\"endlinecolor\":\"#2a3f5f\",\"gridcolor\":\"white\",\"linecolor\":\"white\",\"minorgridcolor\":\"white\",\"startlinecolor\":\"#2a3f5f\"},\"baxis\":{\"endlinecolor\":\"#2a3f5f\",\"gridcolor\":\"white\",\"linecolor\":\"white\",\"minorgridcolor\":\"white\",\"startlinecolor\":\"#2a3f5f\"},\"type\":\"carpet\"}],\"choropleth\":[{\"colorbar\":{\"outlinewidth\":0,\"ticks\":\"\"},\"type\":\"choropleth\"}],\"contour\":[{\"colorbar\":{\"outlinewidth\":0,\"ticks\":\"\"},\"colorscale\":[[0.0,\"#0d0887\"],[0.1111111111111111,\"#46039f\"],[0.2222222222222222,\"#7201a8\"],[0.3333333333333333,\"#9c179e\"],[0.4444444444444444,\"#bd3786\"],[0.5555555555555556,\"#d8576b\"],[0.6666666666666666,\"#ed7953\"],[0.7777777777777778,\"#fb9f3a\"],[0.8888888888888888,\"#fdca26\"],[1.0,\"#f0f921\"]],\"type\":\"contour\"}],\"contourcarpet\":[{\"colorbar\":{\"outlinewidth\":0,\"ticks\":\"\"},\"type\":\"contourcarpet\"}],\"heatmap\":[{\"colorbar\":{\"outlinewidth\":0,\"ticks\":\"\"},\"colorscale\":[[0.0,\"#0d0887\"],[0.1111111111111111,\"#46039f\"],[0.2222222222222222,\"#7201a8\"],[0.3333333333333333,\"#9c179e\"],[0.4444444444444444,\"#bd3786\"],[0.5555555555555556,\"#d8576b\"],[0.6666666666666666,\"#ed7953\"],[0.7777777777777778,\"#fb9f3a\"],[0.8888888888888888,\"#fdca26\"],[1.0,\"#f0f921\"]],\"type\":\"heatmap\"}],\"heatmapgl\":[{\"colorbar\":{\"outlinewidth\":0,\"ticks\":\"\"},\"colorscale\":[[0.0,\"#0d0887\"],[0.1111111111111111,\"#46039f\"],[0.2222222222222222,\"#7201a8\"],[0.3333333333333333,\"#9c179e\"],[0.4444444444444444,\"#bd3786\"],[0.5555555555555556,\"#d8576b\"],[0.6666666666666666,\"#ed7953\"],[0.7777777777777778,\"#fb9f3a\"],[0.8888888888888888,\"#fdca26\"],[1.0,\"#f0f921\"]],\"type\":\"heatmapgl\"}],\"histogram\":[{\"marker\":{\"pattern\":{\"fillmode\":\"overlay\",\"size\":10,\"solidity\":0.2}},\"type\":\"histogram\"}],\"histogram2d\":[{\"colorbar\":{\"outlinewidth\":0,\"ticks\":\"\"},\"colorscale\":[[0.0,\"#0d0887\"],[0.1111111111111111,\"#46039f\"],[0.2222222222222222,\"#7201a8\"],[0.3333333333333333,\"#9c179e\"],[0.4444444444444444,\"#bd3786\"],[0.5555555555555556,\"#d8576b\"],[0.6666666666666666,\"#ed7953\"],[0.7777777777777778,\"#fb9f3a\"],[0.8888888888888888,\"#fdca26\"],[1.0,\"#f0f921\"]],\"type\":\"histogram2d\"}],\"histogram2dcontour\":[{\"colorbar\":{\"outlinewidth\":0,\"ticks\":\"\"},\"colorscale\":[[0.0,\"#0d0887\"],[0.1111111111111111,\"#46039f\"],[0.2222222222222222,\"#7201a8\"],[0.3333333333333333,\"#9c179e\"],[0.4444444444444444,\"#bd3786\"],[0.5555555555555556,\"#d8576b\"],[0.6666666666666666,\"#ed7953\"],[0.7777777777777778,\"#fb9f3a\"],[0.8888888888888888,\"#fdca26\"],[1.0,\"#f0f921\"]],\"type\":\"histogram2dcontour\"}],\"mesh3d\":[{\"colorbar\":{\"outlinewidth\":0,\"ticks\":\"\"},\"type\":\"mesh3d\"}],\"parcoords\":[{\"line\":{\"colorbar\":{\"outlinewidth\":0,\"ticks\":\"\"}},\"type\":\"parcoords\"}],\"pie\":[{\"automargin\":true,\"type\":\"pie\"}],\"scatter\":[{\"marker\":{\"colorbar\":{\"outlinewidth\":0,\"ticks\":\"\"}},\"type\":\"scatter\"}],\"scatter3d\":[{\"line\":{\"colorbar\":{\"outlinewidth\":0,\"ticks\":\"\"}},\"marker\":{\"colorbar\":{\"outlinewidth\":0,\"ticks\":\"\"}},\"type\":\"scatter3d\"}],\"scattercarpet\":[{\"marker\":{\"colorbar\":{\"outlinewidth\":0,\"ticks\":\"\"}},\"type\":\"scattercarpet\"}],\"scattergeo\":[{\"marker\":{\"colorbar\":{\"outlinewidth\":0,\"ticks\":\"\"}},\"type\":\"scattergeo\"}],\"scattergl\":[{\"marker\":{\"colorbar\":{\"outlinewidth\":0,\"ticks\":\"\"}},\"type\":\"scattergl\"}],\"scattermapbox\":[{\"marker\":{\"colorbar\":{\"outlinewidth\":0,\"ticks\":\"\"}},\"type\":\"scattermapbox\"}],\"scatterpolar\":[{\"marker\":{\"colorbar\":{\"outlinewidth\":0,\"ticks\":\"\"}},\"type\":\"scatterpolar\"}],\"scatterpolargl\":[{\"marker\":{\"colorbar\":{\"outlinewidth\":0,\"ticks\":\"\"}},\"type\":\"scatterpolargl\"}],\"scatterternary\":[{\"marker\":{\"colorbar\":{\"outlinewidth\":0,\"ticks\":\"\"}},\"type\":\"scatterternary\"}],\"surface\":[{\"colorbar\":{\"outlinewidth\":0,\"ticks\":\"\"},\"colorscale\":[[0.0,\"#0d0887\"],[0.1111111111111111,\"#46039f\"],[0.2222222222222222,\"#7201a8\"],[0.3333333333333333,\"#9c179e\"],[0.4444444444444444,\"#bd3786\"],[0.5555555555555556,\"#d8576b\"],[0.6666666666666666,\"#ed7953\"],[0.7777777777777778,\"#fb9f3a\"],[0.8888888888888888,\"#fdca26\"],[1.0,\"#f0f921\"]],\"type\":\"surface\"}],\"table\":[{\"cells\":{\"fill\":{\"color\":\"#EBF0F8\"},\"line\":{\"color\":\"white\"}},\"header\":{\"fill\":{\"color\":\"#C8D4E3\"},\"line\":{\"color\":\"white\"}},\"type\":\"table\"}]},\"layout\":{\"annotationdefaults\":{\"arrowcolor\":\"#2a3f5f\",\"arrowhead\":0,\"arrowwidth\":1},\"autotypenumbers\":\"strict\",\"coloraxis\":{\"colorbar\":{\"outlinewidth\":0,\"ticks\":\"\"}},\"colorscale\":{\"diverging\":[[0,\"#8e0152\"],[0.1,\"#c51b7d\"],[0.2,\"#de77ae\"],[0.3,\"#f1b6da\"],[0.4,\"#fde0ef\"],[0.5,\"#f7f7f7\"],[0.6,\"#e6f5d0\"],[0.7,\"#b8e186\"],[0.8,\"#7fbc41\"],[0.9,\"#4d9221\"],[1,\"#276419\"]],\"sequential\":[[0.0,\"#0d0887\"],[0.1111111111111111,\"#46039f\"],[0.2222222222222222,\"#7201a8\"],[0.3333333333333333,\"#9c179e\"],[0.4444444444444444,\"#bd3786\"],[0.5555555555555556,\"#d8576b\"],[0.6666666666666666,\"#ed7953\"],[0.7777777777777778,\"#fb9f3a\"],[0.8888888888888888,\"#fdca26\"],[1.0,\"#f0f921\"]],\"sequentialminus\":[[0.0,\"#0d0887\"],[0.1111111111111111,\"#46039f\"],[0.2222222222222222,\"#7201a8\"],[0.3333333333333333,\"#9c179e\"],[0.4444444444444444,\"#bd3786\"],[0.5555555555555556,\"#d8576b\"],[0.6666666666666666,\"#ed7953\"],[0.7777777777777778,\"#fb9f3a\"],[0.8888888888888888,\"#fdca26\"],[1.0,\"#f0f921\"]]},\"colorway\":[\"#636efa\",\"#EF553B\",\"#00cc96\",\"#ab63fa\",\"#FFA15A\",\"#19d3f3\",\"#FF6692\",\"#B6E880\",\"#FF97FF\",\"#FECB52\"],\"font\":{\"color\":\"#2a3f5f\"},\"geo\":{\"bgcolor\":\"white\",\"lakecolor\":\"white\",\"landcolor\":\"#E5ECF6\",\"showlakes\":true,\"showland\":true,\"subunitcolor\":\"white\"},\"hoverlabel\":{\"align\":\"left\"},\"hovermode\":\"closest\",\"mapbox\":{\"style\":\"light\"},\"paper_bgcolor\":\"white\",\"plot_bgcolor\":\"#E5ECF6\",\"polar\":{\"angularaxis\":{\"gridcolor\":\"white\",\"linecolor\":\"white\",\"ticks\":\"\"},\"bgcolor\":\"#E5ECF6\",\"radialaxis\":{\"gridcolor\":\"white\",\"linecolor\":\"white\",\"ticks\":\"\"}},\"scene\":{\"xaxis\":{\"backgroundcolor\":\"#E5ECF6\",\"gridcolor\":\"white\",\"gridwidth\":2,\"linecolor\":\"white\",\"showbackground\":true,\"ticks\":\"\",\"zerolinecolor\":\"white\"},\"yaxis\":{\"backgroundcolor\":\"#E5ECF6\",\"gridcolor\":\"white\",\"gridwidth\":2,\"linecolor\":\"white\",\"showbackground\":true,\"ticks\":\"\",\"zerolinecolor\":\"white\"},\"zaxis\":{\"backgroundcolor\":\"#E5ECF6\",\"gridcolor\":\"white\",\"gridwidth\":2,\"linecolor\":\"white\",\"showbackground\":true,\"ticks\":\"\",\"zerolinecolor\":\"white\"}},\"shapedefaults\":{\"line\":{\"color\":\"#2a3f5f\"}},\"ternary\":{\"aaxis\":{\"gridcolor\":\"white\",\"linecolor\":\"white\",\"ticks\":\"\"},\"baxis\":{\"gridcolor\":\"white\",\"linecolor\":\"white\",\"ticks\":\"\"},\"bgcolor\":\"#E5ECF6\",\"caxis\":{\"gridcolor\":\"white\",\"linecolor\":\"white\",\"ticks\":\"\"}},\"title\":{\"x\":0.05},\"xaxis\":{\"automargin\":true,\"gridcolor\":\"white\",\"linecolor\":\"white\",\"ticks\":\"\",\"title\":{\"standoff\":15},\"zerolinecolor\":\"white\",\"zerolinewidth\":2},\"yaxis\":{\"automargin\":true,\"gridcolor\":\"white\",\"linecolor\":\"white\",\"ticks\":\"\",\"title\":{\"standoff\":15},\"zerolinecolor\":\"white\",\"zerolinewidth\":2}}},\"coloraxis\":{\"colorbar\":{\"title\":{\"text\":\"CANTIDAD\"}},\"colorscale\":[[0.0,\"rgb(103,0,31)\"],[0.1,\"rgb(178,24,43)\"],[0.2,\"rgb(214,96,77)\"],[0.3,\"rgb(244,165,130)\"],[0.4,\"rgb(253,219,199)\"],[0.5,\"rgb(247,247,247)\"],[0.6,\"rgb(209,229,240)\"],[0.7,\"rgb(146,197,222)\"],[0.8,\"rgb(67,147,195)\"],[0.9,\"rgb(33,102,172)\"],[1.0,\"rgb(5,48,97)\"]]},\"legend\":{\"tracegroupgap\":0},\"margin\":{\"t\":60}},                        {\"responsive\": true}                    ).then(function(){\n",
              "                            \n",
              "var gd = document.getElementById('8f0a5617-2914-452b-9114-080d501863a1');\n",
              "var x = new MutationObserver(function (mutations, observer) {{\n",
              "        var display = window.getComputedStyle(gd).display;\n",
              "        if (!display || display === 'none') {{\n",
              "            console.log([gd, 'removed!']);\n",
              "            Plotly.purge(gd);\n",
              "            observer.disconnect();\n",
              "        }}\n",
              "}});\n",
              "\n",
              "// Listen for the removal of the full notebook cells\n",
              "var notebookContainer = gd.closest('#notebook-container');\n",
              "if (notebookContainer) {{\n",
              "    x.observe(notebookContainer, {childList: true});\n",
              "}}\n",
              "\n",
              "// Listen for the clearing of the current output cell\n",
              "var outputEl = gd.closest('.output');\n",
              "if (outputEl) {{\n",
              "    x.observe(outputEl, {childList: true});\n",
              "}}\n",
              "\n",
              "                        })                };                            </script>        </div>\n",
              "</body>\n",
              "</html>"
            ]
          },
          "metadata": {}
        }
      ]
    },
    {
      "cell_type": "code",
      "source": [
        "# Amplitud\n",
        "fig = px.treemap(df_real_nm, \n",
        "                 path=['Marca','Familia', 'Sub-Familia'], \n",
        "                 values='Utilidad',\n",
        "                 color_continuous_scale='RdBu'\n",
        "                )\n",
        "fig.show()"
      ],
      "metadata": {
        "id": "pOfUxS7bB2dY",
        "colab": {
          "base_uri": "https://localhost:8080/",
          "height": 542
        },
        "outputId": "178a503f-d2ec-4163-a2f3-14636c6c0bbb"
      },
      "execution_count": null,
      "outputs": [
        {
          "output_type": "display_data",
          "data": {
            "text/html": [
              "<html>\n",
              "<head><meta charset=\"utf-8\" /></head>\n",
              "<body>\n",
              "    <div>            <script src=\"https://cdnjs.cloudflare.com/ajax/libs/mathjax/2.7.5/MathJax.js?config=TeX-AMS-MML_SVG\"></script><script type=\"text/javascript\">if (window.MathJax) {MathJax.Hub.Config({SVG: {font: \"STIX-Web\"}});}</script>                <script type=\"text/javascript\">window.PlotlyConfig = {MathJaxConfig: 'local'};</script>\n",
              "        <script src=\"https://cdn.plot.ly/plotly-2.8.3.min.js\"></script>                <div id=\"3780bf0c-81ff-40af-aaa3-900426592dfb\" class=\"plotly-graph-div\" style=\"height:525px; width:100%;\"></div>            <script type=\"text/javascript\">                                    window.PLOTLYENV=window.PLOTLYENV || {};                                    if (document.getElementById(\"3780bf0c-81ff-40af-aaa3-900426592dfb\")) {                    Plotly.newPlot(                        \"3780bf0c-81ff-40af-aaa3-900426592dfb\",                        [{\"branchvalues\":\"total\",\"domain\":{\"x\":[0.0,1.0],\"y\":[0.0,1.0]},\"hovertemplate\":\"labels=%{label}<br>Utilidad=%{value}<br>parent=%{parent}<br>id=%{id}<extra></extra>\",\"ids\":[\"BENEDICTINO/GASIFICADA/BITTER\",\"BENEDICTINO/MINERAL/GASIFICADA\",\"TERG\\u00c8ZE/MINERAL/GASIFICADA\",\"BENEDICTINO/MINERAL/MINERAL\",\"CREMATTA/MINERAL/MINERAL\",\"BENEDICTINO/GASIFICADA/REGULAR\",\"TERG\\u00c8ZE/GASIFICADA/REGULAR\",\"CREMATTA/SIN GAS/REGULAR\",\"BENEDICTINO/GASIFICADA/SABORIZADA\",\"BENEDICTINO/MINERAL/SABORIZADA\",\"BENEDICTINO/GASIFICADA/TONICA\",\"BENEDICTINO/MINERAL/TONICA\",\"BENEDICTINO/GASIFICADA\",\"TERG\\u00c8ZE/GASIFICADA\",\"BENEDICTINO/MINERAL\",\"CREMATTA/MINERAL\",\"TERG\\u00c8ZE/MINERAL\",\"CREMATTA/SIN GAS\",\"BENEDICTINO\",\"CREMATTA\",\"TERG\\u00c8ZE\"],\"labels\":[\"BITTER\",\"GASIFICADA\",\"GASIFICADA\",\"MINERAL\",\"MINERAL\",\"REGULAR\",\"REGULAR\",\"REGULAR\",\"SABORIZADA\",\"SABORIZADA\",\"TONICA\",\"TONICA\",\"GASIFICADA\",\"GASIFICADA\",\"MINERAL\",\"MINERAL\",\"MINERAL\",\"SIN GAS\",\"BENEDICTINO\",\"CREMATTA\",\"TERG\\u00c8ZE\"],\"name\":\"\",\"parents\":[\"BENEDICTINO/GASIFICADA\",\"BENEDICTINO/MINERAL\",\"TERG\\u00c8ZE/MINERAL\",\"BENEDICTINO/MINERAL\",\"CREMATTA/MINERAL\",\"BENEDICTINO/GASIFICADA\",\"TERG\\u00c8ZE/GASIFICADA\",\"CREMATTA/SIN GAS\",\"BENEDICTINO/GASIFICADA\",\"BENEDICTINO/MINERAL\",\"BENEDICTINO/GASIFICADA\",\"BENEDICTINO/MINERAL\",\"BENEDICTINO\",\"TERG\\u00c8ZE\",\"BENEDICTINO\",\"CREMATTA\",\"TERG\\u00c8ZE\",\"CREMATTA\",\"\",\"\",\"\"],\"values\":[829.205025166,449969.617806454,85576.046842037,13128.751845272,555429.98584599,177711.285539254,28987.678388597,220513.340469911,108232.69598483,333556.286475825,20915.177116465,56500.596957148,307688.363665715,28987.678388597,853155.253084699,555429.98584599,85576.046842037,220513.340469911,1160843.616750414,775943.326315901,114563.725230634],\"type\":\"treemap\"}],                        {\"template\":{\"data\":{\"bar\":[{\"error_x\":{\"color\":\"#2a3f5f\"},\"error_y\":{\"color\":\"#2a3f5f\"},\"marker\":{\"line\":{\"color\":\"#E5ECF6\",\"width\":0.5},\"pattern\":{\"fillmode\":\"overlay\",\"size\":10,\"solidity\":0.2}},\"type\":\"bar\"}],\"barpolar\":[{\"marker\":{\"line\":{\"color\":\"#E5ECF6\",\"width\":0.5},\"pattern\":{\"fillmode\":\"overlay\",\"size\":10,\"solidity\":0.2}},\"type\":\"barpolar\"}],\"carpet\":[{\"aaxis\":{\"endlinecolor\":\"#2a3f5f\",\"gridcolor\":\"white\",\"linecolor\":\"white\",\"minorgridcolor\":\"white\",\"startlinecolor\":\"#2a3f5f\"},\"baxis\":{\"endlinecolor\":\"#2a3f5f\",\"gridcolor\":\"white\",\"linecolor\":\"white\",\"minorgridcolor\":\"white\",\"startlinecolor\":\"#2a3f5f\"},\"type\":\"carpet\"}],\"choropleth\":[{\"colorbar\":{\"outlinewidth\":0,\"ticks\":\"\"},\"type\":\"choropleth\"}],\"contour\":[{\"colorbar\":{\"outlinewidth\":0,\"ticks\":\"\"},\"colorscale\":[[0.0,\"#0d0887\"],[0.1111111111111111,\"#46039f\"],[0.2222222222222222,\"#7201a8\"],[0.3333333333333333,\"#9c179e\"],[0.4444444444444444,\"#bd3786\"],[0.5555555555555556,\"#d8576b\"],[0.6666666666666666,\"#ed7953\"],[0.7777777777777778,\"#fb9f3a\"],[0.8888888888888888,\"#fdca26\"],[1.0,\"#f0f921\"]],\"type\":\"contour\"}],\"contourcarpet\":[{\"colorbar\":{\"outlinewidth\":0,\"ticks\":\"\"},\"type\":\"contourcarpet\"}],\"heatmap\":[{\"colorbar\":{\"outlinewidth\":0,\"ticks\":\"\"},\"colorscale\":[[0.0,\"#0d0887\"],[0.1111111111111111,\"#46039f\"],[0.2222222222222222,\"#7201a8\"],[0.3333333333333333,\"#9c179e\"],[0.4444444444444444,\"#bd3786\"],[0.5555555555555556,\"#d8576b\"],[0.6666666666666666,\"#ed7953\"],[0.7777777777777778,\"#fb9f3a\"],[0.8888888888888888,\"#fdca26\"],[1.0,\"#f0f921\"]],\"type\":\"heatmap\"}],\"heatmapgl\":[{\"colorbar\":{\"outlinewidth\":0,\"ticks\":\"\"},\"colorscale\":[[0.0,\"#0d0887\"],[0.1111111111111111,\"#46039f\"],[0.2222222222222222,\"#7201a8\"],[0.3333333333333333,\"#9c179e\"],[0.4444444444444444,\"#bd3786\"],[0.5555555555555556,\"#d8576b\"],[0.6666666666666666,\"#ed7953\"],[0.7777777777777778,\"#fb9f3a\"],[0.8888888888888888,\"#fdca26\"],[1.0,\"#f0f921\"]],\"type\":\"heatmapgl\"}],\"histogram\":[{\"marker\":{\"pattern\":{\"fillmode\":\"overlay\",\"size\":10,\"solidity\":0.2}},\"type\":\"histogram\"}],\"histogram2d\":[{\"colorbar\":{\"outlinewidth\":0,\"ticks\":\"\"},\"colorscale\":[[0.0,\"#0d0887\"],[0.1111111111111111,\"#46039f\"],[0.2222222222222222,\"#7201a8\"],[0.3333333333333333,\"#9c179e\"],[0.4444444444444444,\"#bd3786\"],[0.5555555555555556,\"#d8576b\"],[0.6666666666666666,\"#ed7953\"],[0.7777777777777778,\"#fb9f3a\"],[0.8888888888888888,\"#fdca26\"],[1.0,\"#f0f921\"]],\"type\":\"histogram2d\"}],\"histogram2dcontour\":[{\"colorbar\":{\"outlinewidth\":0,\"ticks\":\"\"},\"colorscale\":[[0.0,\"#0d0887\"],[0.1111111111111111,\"#46039f\"],[0.2222222222222222,\"#7201a8\"],[0.3333333333333333,\"#9c179e\"],[0.4444444444444444,\"#bd3786\"],[0.5555555555555556,\"#d8576b\"],[0.6666666666666666,\"#ed7953\"],[0.7777777777777778,\"#fb9f3a\"],[0.8888888888888888,\"#fdca26\"],[1.0,\"#f0f921\"]],\"type\":\"histogram2dcontour\"}],\"mesh3d\":[{\"colorbar\":{\"outlinewidth\":0,\"ticks\":\"\"},\"type\":\"mesh3d\"}],\"parcoords\":[{\"line\":{\"colorbar\":{\"outlinewidth\":0,\"ticks\":\"\"}},\"type\":\"parcoords\"}],\"pie\":[{\"automargin\":true,\"type\":\"pie\"}],\"scatter\":[{\"marker\":{\"colorbar\":{\"outlinewidth\":0,\"ticks\":\"\"}},\"type\":\"scatter\"}],\"scatter3d\":[{\"line\":{\"colorbar\":{\"outlinewidth\":0,\"ticks\":\"\"}},\"marker\":{\"colorbar\":{\"outlinewidth\":0,\"ticks\":\"\"}},\"type\":\"scatter3d\"}],\"scattercarpet\":[{\"marker\":{\"colorbar\":{\"outlinewidth\":0,\"ticks\":\"\"}},\"type\":\"scattercarpet\"}],\"scattergeo\":[{\"marker\":{\"colorbar\":{\"outlinewidth\":0,\"ticks\":\"\"}},\"type\":\"scattergeo\"}],\"scattergl\":[{\"marker\":{\"colorbar\":{\"outlinewidth\":0,\"ticks\":\"\"}},\"type\":\"scattergl\"}],\"scattermapbox\":[{\"marker\":{\"colorbar\":{\"outlinewidth\":0,\"ticks\":\"\"}},\"type\":\"scattermapbox\"}],\"scatterpolar\":[{\"marker\":{\"colorbar\":{\"outlinewidth\":0,\"ticks\":\"\"}},\"type\":\"scatterpolar\"}],\"scatterpolargl\":[{\"marker\":{\"colorbar\":{\"outlinewidth\":0,\"ticks\":\"\"}},\"type\":\"scatterpolargl\"}],\"scatterternary\":[{\"marker\":{\"colorbar\":{\"outlinewidth\":0,\"ticks\":\"\"}},\"type\":\"scatterternary\"}],\"surface\":[{\"colorbar\":{\"outlinewidth\":0,\"ticks\":\"\"},\"colorscale\":[[0.0,\"#0d0887\"],[0.1111111111111111,\"#46039f\"],[0.2222222222222222,\"#7201a8\"],[0.3333333333333333,\"#9c179e\"],[0.4444444444444444,\"#bd3786\"],[0.5555555555555556,\"#d8576b\"],[0.6666666666666666,\"#ed7953\"],[0.7777777777777778,\"#fb9f3a\"],[0.8888888888888888,\"#fdca26\"],[1.0,\"#f0f921\"]],\"type\":\"surface\"}],\"table\":[{\"cells\":{\"fill\":{\"color\":\"#EBF0F8\"},\"line\":{\"color\":\"white\"}},\"header\":{\"fill\":{\"color\":\"#C8D4E3\"},\"line\":{\"color\":\"white\"}},\"type\":\"table\"}]},\"layout\":{\"annotationdefaults\":{\"arrowcolor\":\"#2a3f5f\",\"arrowhead\":0,\"arrowwidth\":1},\"autotypenumbers\":\"strict\",\"coloraxis\":{\"colorbar\":{\"outlinewidth\":0,\"ticks\":\"\"}},\"colorscale\":{\"diverging\":[[0,\"#8e0152\"],[0.1,\"#c51b7d\"],[0.2,\"#de77ae\"],[0.3,\"#f1b6da\"],[0.4,\"#fde0ef\"],[0.5,\"#f7f7f7\"],[0.6,\"#e6f5d0\"],[0.7,\"#b8e186\"],[0.8,\"#7fbc41\"],[0.9,\"#4d9221\"],[1,\"#276419\"]],\"sequential\":[[0.0,\"#0d0887\"],[0.1111111111111111,\"#46039f\"],[0.2222222222222222,\"#7201a8\"],[0.3333333333333333,\"#9c179e\"],[0.4444444444444444,\"#bd3786\"],[0.5555555555555556,\"#d8576b\"],[0.6666666666666666,\"#ed7953\"],[0.7777777777777778,\"#fb9f3a\"],[0.8888888888888888,\"#fdca26\"],[1.0,\"#f0f921\"]],\"sequentialminus\":[[0.0,\"#0d0887\"],[0.1111111111111111,\"#46039f\"],[0.2222222222222222,\"#7201a8\"],[0.3333333333333333,\"#9c179e\"],[0.4444444444444444,\"#bd3786\"],[0.5555555555555556,\"#d8576b\"],[0.6666666666666666,\"#ed7953\"],[0.7777777777777778,\"#fb9f3a\"],[0.8888888888888888,\"#fdca26\"],[1.0,\"#f0f921\"]]},\"colorway\":[\"#636efa\",\"#EF553B\",\"#00cc96\",\"#ab63fa\",\"#FFA15A\",\"#19d3f3\",\"#FF6692\",\"#B6E880\",\"#FF97FF\",\"#FECB52\"],\"font\":{\"color\":\"#2a3f5f\"},\"geo\":{\"bgcolor\":\"white\",\"lakecolor\":\"white\",\"landcolor\":\"#E5ECF6\",\"showlakes\":true,\"showland\":true,\"subunitcolor\":\"white\"},\"hoverlabel\":{\"align\":\"left\"},\"hovermode\":\"closest\",\"mapbox\":{\"style\":\"light\"},\"paper_bgcolor\":\"white\",\"plot_bgcolor\":\"#E5ECF6\",\"polar\":{\"angularaxis\":{\"gridcolor\":\"white\",\"linecolor\":\"white\",\"ticks\":\"\"},\"bgcolor\":\"#E5ECF6\",\"radialaxis\":{\"gridcolor\":\"white\",\"linecolor\":\"white\",\"ticks\":\"\"}},\"scene\":{\"xaxis\":{\"backgroundcolor\":\"#E5ECF6\",\"gridcolor\":\"white\",\"gridwidth\":2,\"linecolor\":\"white\",\"showbackground\":true,\"ticks\":\"\",\"zerolinecolor\":\"white\"},\"yaxis\":{\"backgroundcolor\":\"#E5ECF6\",\"gridcolor\":\"white\",\"gridwidth\":2,\"linecolor\":\"white\",\"showbackground\":true,\"ticks\":\"\",\"zerolinecolor\":\"white\"},\"zaxis\":{\"backgroundcolor\":\"#E5ECF6\",\"gridcolor\":\"white\",\"gridwidth\":2,\"linecolor\":\"white\",\"showbackground\":true,\"ticks\":\"\",\"zerolinecolor\":\"white\"}},\"shapedefaults\":{\"line\":{\"color\":\"#2a3f5f\"}},\"ternary\":{\"aaxis\":{\"gridcolor\":\"white\",\"linecolor\":\"white\",\"ticks\":\"\"},\"baxis\":{\"gridcolor\":\"white\",\"linecolor\":\"white\",\"ticks\":\"\"},\"bgcolor\":\"#E5ECF6\",\"caxis\":{\"gridcolor\":\"white\",\"linecolor\":\"white\",\"ticks\":\"\"}},\"title\":{\"x\":0.05},\"xaxis\":{\"automargin\":true,\"gridcolor\":\"white\",\"linecolor\":\"white\",\"ticks\":\"\",\"title\":{\"standoff\":15},\"zerolinecolor\":\"white\",\"zerolinewidth\":2},\"yaxis\":{\"automargin\":true,\"gridcolor\":\"white\",\"linecolor\":\"white\",\"ticks\":\"\",\"title\":{\"standoff\":15},\"zerolinecolor\":\"white\",\"zerolinewidth\":2}}},\"legend\":{\"tracegroupgap\":0},\"margin\":{\"t\":60}},                        {\"responsive\": true}                    ).then(function(){\n",
              "                            \n",
              "var gd = document.getElementById('3780bf0c-81ff-40af-aaa3-900426592dfb');\n",
              "var x = new MutationObserver(function (mutations, observer) {{\n",
              "        var display = window.getComputedStyle(gd).display;\n",
              "        if (!display || display === 'none') {{\n",
              "            console.log([gd, 'removed!']);\n",
              "            Plotly.purge(gd);\n",
              "            observer.disconnect();\n",
              "        }}\n",
              "}});\n",
              "\n",
              "// Listen for the removal of the full notebook cells\n",
              "var notebookContainer = gd.closest('#notebook-container');\n",
              "if (notebookContainer) {{\n",
              "    x.observe(notebookContainer, {childList: true});\n",
              "}}\n",
              "\n",
              "// Listen for the clearing of the current output cell\n",
              "var outputEl = gd.closest('.output');\n",
              "if (outputEl) {{\n",
              "    x.observe(outputEl, {childList: true});\n",
              "}}\n",
              "\n",
              "                        })                };                            </script>        </div>\n",
              "</body>\n",
              "</html>"
            ]
          },
          "metadata": {}
        }
      ]
    },
    {
      "cell_type": "code",
      "source": [
        "# Profundidad\n",
        "fig = px.treemap(df_real_nm, \n",
        "                 path=['Marca','Familia', 'Descripción'], \n",
        "                 values='Utilidad',\n",
        "                 color='CANTIDAD',\n",
        "                 color_continuous_scale='RdBu'\n",
        "                )\n",
        "fig.show()"
      ],
      "metadata": {
        "id": "mV7I85Ud68jM",
        "colab": {
          "base_uri": "https://localhost:8080/",
          "height": 542
        },
        "outputId": "293fff08-aad9-4012-fa9e-41402b677a74"
      },
      "execution_count": null,
      "outputs": [
        {
          "output_type": "display_data",
          "data": {
            "text/html": [
              "<html>\n",
              "<head><meta charset=\"utf-8\" /></head>\n",
              "<body>\n",
              "    <div>            <script src=\"https://cdnjs.cloudflare.com/ajax/libs/mathjax/2.7.5/MathJax.js?config=TeX-AMS-MML_SVG\"></script><script type=\"text/javascript\">if (window.MathJax) {MathJax.Hub.Config({SVG: {font: \"STIX-Web\"}});}</script>                <script type=\"text/javascript\">window.PlotlyConfig = {MathJaxConfig: 'local'};</script>\n",
              "        <script src=\"https://cdn.plot.ly/plotly-2.8.3.min.js\"></script>                <div id=\"d24db233-3b8e-46d2-b6ae-229a07e9fc1f\" class=\"plotly-graph-div\" style=\"height:525px; width:100%;\"></div>            <script type=\"text/javascript\">                                    window.PLOTLYENV=window.PLOTLYENV || {};                                    if (document.getElementById(\"d24db233-3b8e-46d2-b6ae-229a07e9fc1f\")) {                    Plotly.newPlot(                        \"d24db233-3b8e-46d2-b6ae-229a07e9fc1f\",                        [{\"branchvalues\":\"total\",\"customdata\":[[1.0],[152.94149831450443],[175.33138752410827],[223.55046573034627],[468.54270246195574],[112.98920005804028],[123.42884289730574],[185.07184313164709],[148.61463730683718],[22.750715105773022],[36.58712170582399],[179.86247966065642],[340.6054561612473],[78.73701320038978],[690.7340335958334],[101.06236533616006],[121.54502914590195],[12.095960103003609],[109.87963733601822],[169.27092527811968],[0.0],[16.456011359412493],[13.06220190488937],[97.56226811903132],[90.333405310395],[133.26612789768953],[364.91755124695794],[99.4329795565315],[120.61824249525725],[2.0],[0.0],[10.4702086876597],[114.21893666518923],[244.11664172471708],[76.83728563898218],[105.91760687067521],[124.34588810615872],[106.58982275481208],[0.0],[17.94384582777621],[21.784149985409204],[60.0],[220.5714192279571],[224.66815833241571],[492.1790217195801],[231.3501557107852],[239.6453254935214],[223.49493695840917],[94.98082452351473],[103.44719628351591],[282.2663335742],[293.81697372743747],[18.491238248830822],[25.647960059596482],[7.791175635772578],[225.78709182240308],[33.35540348610477],[84.16264890038869],[117.75991734053999],[245.32803467362706],[95.8482090051867],[160.7249411827038],[83.36917979004156],[268.8488796171345],[0.0],[64.12008834695119],[140.26992278526143],[84.55427687311631],[217.51860080319398],[311.36933883146156],[151.2725635724427],[230.50889218762157],[197.0433886456655],[288.38981623413343],[134.39105737504184]],\"domain\":{\"x\":[0.0,1.0],\"y\":[0.0,1.0]},\"hovertemplate\":\"labels=%{label}<br>Utilidad=%{value}<br>parent=%{parent}<br>id=%{id}<br>CANTIDAD=%{color}<extra></extra>\",\"ids\":[\"BENEDICTINO/MINERAL/BENEDICTINO AGUA MINERAL GASIFICADA GLASS 1500ML\",\"BENEDICTINO/GASIFICADA/BENEDICTINO AGUA MINERAL GASIFICADA GLASS 250ML\",\"BENEDICTINO/MINERAL/BENEDICTINO AGUA MINERAL GASIFICADA GLASS 250ML\",\"BENEDICTINO/GASIFICADA/BENEDICTINO AGUA MINERAL GASIFICADA GLASS 505ML\",\"BENEDICTINO/MINERAL/BENEDICTINO AGUA MINERAL GASIFICADA GLASS 505ML\",\"BENEDICTINO/GASIFICADA/BENEDICTINO AGUA MINERAL GASIFICADA GLASS 750ML\",\"BENEDICTINO/MINERAL/BENEDICTINO AGUA MINERAL GASIFICADA GLASS 750ML\",\"BENEDICTINO/GASIFICADA/BENEDICTINO AGUA MINERAL GASIFICADA PET 500ML\",\"BENEDICTINO/MINERAL/BENEDICTINO AGUA MINERAL GASIFICADA PET 500ML\",\"BENEDICTINO/GASIFICADA/BENEDICTINO AGUA MINERAL GASIFICADA PET 500ML SIX PACK  FOODIE\",\"BENEDICTINO/MINERAL/BENEDICTINO AGUA MINERAL GASIFICADA PET 500ML SIX PACK  FOODIE\",\"BENEDICTINO/GASIFICADA/BENEDICTINO AGUA TONICA CAN 330ML\",\"BENEDICTINO/MINERAL/BENEDICTINO AGUA TONICA CAN 330ML\",\"BENEDICTINO/GASIFICADA/BENEDICTINO AGUA TONICA GLASS 200ML\",\"BENEDICTINO/MINERAL/BENEDICTINO AGUA TONICA GLASS 200ML\",\"BENEDICTINO/GASIFICADA/BENEDICTINO ARANCIATA NARANJA CAN 330ML\",\"BENEDICTINO/MINERAL/BENEDICTINO ARANCIATA NARANJA CAN 330ML\",\"BENEDICTINO/MINERAL/BENEDICTINO ARANCIATA NARANJA GLASS 200ML\",\"BENEDICTINO/GASIFICADA/BENEDICTINO ARANCIATA ROSSA CAN 330ML\",\"BENEDICTINO/MINERAL/BENEDICTINO ARANCIATA ROSSA CAN 330ML\",\"BENEDICTINO/GASIFICADA/BENEDICTINO ARANCIATA ROSSA GLASS 200ML\",\"BENEDICTINO/GASIFICADA/BENEDICTINO CHINOTTO GASIFICADA CAN 330ML\",\"BENEDICTINO/MINERAL/BENEDICTINO CHINOTTO GASIFICADA CAN 330ML\",\"BENEDICTINO/GASIFICADA/BENEDICTINO CLEMENTINA GASIFICADA CAN 330ML\",\"BENEDICTINO/MINERAL/BENEDICTINO CLEMENTINA GASIFICADA CAN 330ML\",\"BENEDICTINO/GASIFICADA/BENEDICTINO FICODINDIA E ARANCIA GASIFICADA CAN 330ML\",\"BENEDICTINO/MINERAL/BENEDICTINO FICODINDIA E ARANCIA GASIFICADA CAN 330ML\",\"BENEDICTINO/GASIFICADA/BENEDICTINO LIMONATA LIMON CAN 330ML\",\"BENEDICTINO/MINERAL/BENEDICTINO LIMONATA LIMON CAN 330ML\",\"BENEDICTINO/MINERAL/BENEDICTINO LIMONATA LIMON CAN 330ML.\",\"BENEDICTINO/GASIFICADA/BENEDICTINO LIMONATA LIMON GLASS 200ML\",\"BENEDICTINO/MINERAL/BENEDICTINO LIMONATA LIMON GLASS 200ML\",\"BENEDICTINO/GASIFICADA/BENEDICTINO LIMONE E MENTA GASIFICADA CAN 330ML\",\"BENEDICTINO/MINERAL/BENEDICTINO LIMONE E MENTA GASIFICADA CAN 330ML\",\"BENEDICTINO/GASIFICADA/BENEDICTINO MELOGRANO E ARANCIA GASIFICADA CAN 330ML\",\"BENEDICTINO/MINERAL/BENEDICTINO MELOGRANO E ARANCIA GASIFICADA CAN 330ML\",\"BENEDICTINO/GASIFICADA/BENEDICTINO POMPELMO TORONJA CAN 330ML\",\"BENEDICTINO/MINERAL/BENEDICTINO POMPELMO TORONJA CAN 330ML\",\"BENEDICTINO/GASIFICADA/BENEDICTINO POMPELMO TORONJA GLASS 200ML\",\"BENEDICTINO/GASIFICADA/BENEDICTINO SANBITTER ROSSO GLASS 100ML\",\"BENEDICTINO/MINERAL/BENEDICTINO SANBITTER ROSSO GLASS 100ML\",\"CREMATTA/MINERAL/CREMATTA AGUA MINERAL SIN GAS GLASS   1000ML\",\"CREMATTA/MINERAL/CREMATTA AGUA MINERAL SIN GAS GLASS 250ML\",\"CREMATTA/SIN GAS/CREMATTA AGUA MINERAL SIN GAS GLASS 250ML\",\"CREMATTA/MINERAL/CREMATTA AGUA MINERAL SIN GAS GLASS 505ML\",\"CREMATTA/SIN GAS/CREMATTA AGUA MINERAL SIN GAS GLASS 505ML\",\"CREMATTA/MINERAL/CREMATTA AGUA MINERAL SIN GAS GLASS 750ML\",\"CREMATTA/SIN GAS/CREMATTA AGUA MINERAL SIN GAS GLASS 750ML\",\"CREMATTA/MINERAL/CREMATTA AGUA MINERAL SIN GAS PET 1000ML\",\"CREMATTA/SIN GAS/CREMATTA AGUA MINERAL SIN GAS PET 1000ML\",\"CREMATTA/MINERAL/CREMATTA AGUA MINERAL SIN GAS PET 500ML\",\"CREMATTA/SIN GAS/CREMATTA AGUA MINERAL SIN GAS PET 500ML\",\"TERG\\u00c8ZE/GASIFICADA/FOUR PACK TERG\\u00c8ZE AGUA MINERAL GASIFICADA GLASS 330ML\",\"TERG\\u00c8ZE/MINERAL/FOUR PACK TERG\\u00c8ZE AGUA MINERAL GASIFICADA GLASS 330ML\",\"TERG\\u00c8ZE/GASIFICADA/TERG\\u00c8ZE AGUA MINERAL GASIFICADA CAN 250 ML\",\"TERG\\u00c8ZE/MINERAL/TERG\\u00c8ZE AGUA MINERAL GASIFICADA CAN 250 ML\",\"TERG\\u00c8ZE/GASIFICADA/TERG\\u00c8ZE AGUA MINERAL GASIFICADA CAN 250ML - GRAPEFRUIT\",\"TERG\\u00c8ZE/MINERAL/TERG\\u00c8ZE AGUA MINERAL GASIFICADA CAN 250ML - GRAPEFRUIT\",\"TERG\\u00c8ZE/GASIFICADA/TERG\\u00c8ZE AGUA MINERAL GASIFICADA CAN 250ML - LIMON\",\"TERG\\u00c8ZE/MINERAL/TERG\\u00c8ZE AGUA MINERAL GASIFICADA CAN 250ML - LIMON\",\"TERG\\u00c8ZE/GASIFICADA/TERG\\u00c8ZE AGUA MINERAL GASIFICADA GLASS 330ML\",\"TERG\\u00c8ZE/MINERAL/TERG\\u00c8ZE AGUA MINERAL GASIFICADA GLASS 330ML\",\"TERG\\u00c8ZE/GASIFICADA/TERG\\u00c8ZE AGUA MINERAL GASIFICADA GLASS 330ML - LIMON\",\"TERG\\u00c8ZE/MINERAL/TERG\\u00c8ZE AGUA MINERAL GASIFICADA GLASS 330ML - LIMON\",\"TERG\\u00c8ZE/GASIFICADA/TERG\\u00c8ZE AGUA MINERAL GASIFICADA GLASS 750ML\",\"TERG\\u00c8ZE/MINERAL/TERG\\u00c8ZE AGUA MINERAL GASIFICADA GLASS 750ML\",\"BENEDICTINO/GASIFICADA\",\"TERG\\u00c8ZE/GASIFICADA\",\"BENEDICTINO/MINERAL\",\"CREMATTA/MINERAL\",\"TERG\\u00c8ZE/MINERAL\",\"CREMATTA/SIN GAS\",\"BENEDICTINO\",\"CREMATTA\",\"TERG\\u00c8ZE\"],\"labels\":[\"BENEDICTINO AGUA MINERAL GASIFICADA GLASS 1500ML\",\"BENEDICTINO AGUA MINERAL GASIFICADA GLASS 250ML\",\"BENEDICTINO AGUA MINERAL GASIFICADA GLASS 250ML\",\"BENEDICTINO AGUA MINERAL GASIFICADA GLASS 505ML\",\"BENEDICTINO AGUA MINERAL GASIFICADA GLASS 505ML\",\"BENEDICTINO AGUA MINERAL GASIFICADA GLASS 750ML\",\"BENEDICTINO AGUA MINERAL GASIFICADA GLASS 750ML\",\"BENEDICTINO AGUA MINERAL GASIFICADA PET 500ML\",\"BENEDICTINO AGUA MINERAL GASIFICADA PET 500ML\",\"BENEDICTINO AGUA MINERAL GASIFICADA PET 500ML SIX PACK  FOODIE\",\"BENEDICTINO AGUA MINERAL GASIFICADA PET 500ML SIX PACK  FOODIE\",\"BENEDICTINO AGUA TONICA CAN 330ML\",\"BENEDICTINO AGUA TONICA CAN 330ML\",\"BENEDICTINO AGUA TONICA GLASS 200ML\",\"BENEDICTINO AGUA TONICA GLASS 200ML\",\"BENEDICTINO ARANCIATA NARANJA CAN 330ML\",\"BENEDICTINO ARANCIATA NARANJA CAN 330ML\",\"BENEDICTINO ARANCIATA NARANJA GLASS 200ML\",\"BENEDICTINO ARANCIATA ROSSA CAN 330ML\",\"BENEDICTINO ARANCIATA ROSSA CAN 330ML\",\"BENEDICTINO ARANCIATA ROSSA GLASS 200ML\",\"BENEDICTINO CHINOTTO GASIFICADA CAN 330ML\",\"BENEDICTINO CHINOTTO GASIFICADA CAN 330ML\",\"BENEDICTINO CLEMENTINA GASIFICADA CAN 330ML\",\"BENEDICTINO CLEMENTINA GASIFICADA CAN 330ML\",\"BENEDICTINO FICODINDIA E ARANCIA GASIFICADA CAN 330ML\",\"BENEDICTINO FICODINDIA E ARANCIA GASIFICADA CAN 330ML\",\"BENEDICTINO LIMONATA LIMON CAN 330ML\",\"BENEDICTINO LIMONATA LIMON CAN 330ML\",\"BENEDICTINO LIMONATA LIMON CAN 330ML.\",\"BENEDICTINO LIMONATA LIMON GLASS 200ML\",\"BENEDICTINO LIMONATA LIMON GLASS 200ML\",\"BENEDICTINO LIMONE E MENTA GASIFICADA CAN 330ML\",\"BENEDICTINO LIMONE E MENTA GASIFICADA CAN 330ML\",\"BENEDICTINO MELOGRANO E ARANCIA GASIFICADA CAN 330ML\",\"BENEDICTINO MELOGRANO E ARANCIA GASIFICADA CAN 330ML\",\"BENEDICTINO POMPELMO TORONJA CAN 330ML\",\"BENEDICTINO POMPELMO TORONJA CAN 330ML\",\"BENEDICTINO POMPELMO TORONJA GLASS 200ML\",\"BENEDICTINO SANBITTER ROSSO GLASS 100ML\",\"BENEDICTINO SANBITTER ROSSO GLASS 100ML\",\"CREMATTA AGUA MINERAL SIN GAS GLASS   1000ML\",\"CREMATTA AGUA MINERAL SIN GAS GLASS 250ML\",\"CREMATTA AGUA MINERAL SIN GAS GLASS 250ML\",\"CREMATTA AGUA MINERAL SIN GAS GLASS 505ML\",\"CREMATTA AGUA MINERAL SIN GAS GLASS 505ML\",\"CREMATTA AGUA MINERAL SIN GAS GLASS 750ML\",\"CREMATTA AGUA MINERAL SIN GAS GLASS 750ML\",\"CREMATTA AGUA MINERAL SIN GAS PET 1000ML\",\"CREMATTA AGUA MINERAL SIN GAS PET 1000ML\",\"CREMATTA AGUA MINERAL SIN GAS PET 500ML\",\"CREMATTA AGUA MINERAL SIN GAS PET 500ML\",\"FOUR PACK TERG\\u00c8ZE AGUA MINERAL GASIFICADA GLASS 330ML\",\"FOUR PACK TERG\\u00c8ZE AGUA MINERAL GASIFICADA GLASS 330ML\",\"TERG\\u00c8ZE AGUA MINERAL GASIFICADA CAN 250 ML\",\"TERG\\u00c8ZE AGUA MINERAL GASIFICADA CAN 250 ML\",\"TERG\\u00c8ZE AGUA MINERAL GASIFICADA CAN 250ML - GRAPEFRUIT\",\"TERG\\u00c8ZE AGUA MINERAL GASIFICADA CAN 250ML - GRAPEFRUIT\",\"TERG\\u00c8ZE AGUA MINERAL GASIFICADA CAN 250ML - LIMON\",\"TERG\\u00c8ZE AGUA MINERAL GASIFICADA CAN 250ML - LIMON\",\"TERG\\u00c8ZE AGUA MINERAL GASIFICADA GLASS 330ML\",\"TERG\\u00c8ZE AGUA MINERAL GASIFICADA GLASS 330ML\",\"TERG\\u00c8ZE AGUA MINERAL GASIFICADA GLASS 330ML - LIMON\",\"TERG\\u00c8ZE AGUA MINERAL GASIFICADA GLASS 330ML - LIMON\",\"TERG\\u00c8ZE AGUA MINERAL GASIFICADA GLASS 750ML\",\"TERG\\u00c8ZE AGUA MINERAL GASIFICADA GLASS 750ML\",\"GASIFICADA\",\"GASIFICADA\",\"MINERAL\",\"MINERAL\",\"MINERAL\",\"SIN GAS\",\"BENEDICTINO\",\"CREMATTA\",\"TERG\\u00c8ZE\"],\"marker\":{\"coloraxis\":\"coloraxis\",\"colors\":[1.0,152.94149831450443,175.33138752410827,223.55046573034627,468.54270246195574,112.98920005804028,123.42884289730574,185.07184313164709,148.61463730683718,22.750715105773022,36.58712170582399,179.86247966065642,340.6054561612473,78.73701320038978,690.7340335958334,101.06236533616006,121.54502914590195,12.095960103003609,109.87963733601822,169.27092527811968,0.0,16.456011359412493,13.06220190488937,97.56226811903132,90.333405310395,133.26612789768953,364.91755124695794,99.4329795565315,120.61824249525725,2.0,0.0,10.4702086876597,114.21893666518923,244.11664172471708,76.83728563898218,105.91760687067521,124.34588810615872,106.58982275481208,0.0,17.94384582777621,21.784149985409204,60.0,220.5714192279571,224.66815833241571,492.1790217195801,231.3501557107852,239.6453254935214,223.49493695840917,94.98082452351473,103.44719628351591,282.2663335742,293.81697372743747,18.491238248830822,25.647960059596482,7.791175635772578,225.78709182240308,33.35540348610477,84.16264890038869,117.75991734053999,245.32803467362706,95.8482090051867,160.7249411827038,83.36917979004156,268.8488796171345,0.0,64.12008834695119,140.26992278526143,84.55427687311631,217.51860080319398,311.36933883146156,151.2725635724427,230.50889218762157,197.0433886456655,288.38981623413343,134.39105737504184]},\"name\":\"\",\"parents\":[\"BENEDICTINO/MINERAL\",\"BENEDICTINO/GASIFICADA\",\"BENEDICTINO/MINERAL\",\"BENEDICTINO/GASIFICADA\",\"BENEDICTINO/MINERAL\",\"BENEDICTINO/GASIFICADA\",\"BENEDICTINO/MINERAL\",\"BENEDICTINO/GASIFICADA\",\"BENEDICTINO/MINERAL\",\"BENEDICTINO/GASIFICADA\",\"BENEDICTINO/MINERAL\",\"BENEDICTINO/GASIFICADA\",\"BENEDICTINO/MINERAL\",\"BENEDICTINO/GASIFICADA\",\"BENEDICTINO/MINERAL\",\"BENEDICTINO/GASIFICADA\",\"BENEDICTINO/MINERAL\",\"BENEDICTINO/MINERAL\",\"BENEDICTINO/GASIFICADA\",\"BENEDICTINO/MINERAL\",\"BENEDICTINO/GASIFICADA\",\"BENEDICTINO/GASIFICADA\",\"BENEDICTINO/MINERAL\",\"BENEDICTINO/GASIFICADA\",\"BENEDICTINO/MINERAL\",\"BENEDICTINO/GASIFICADA\",\"BENEDICTINO/MINERAL\",\"BENEDICTINO/GASIFICADA\",\"BENEDICTINO/MINERAL\",\"BENEDICTINO/MINERAL\",\"BENEDICTINO/GASIFICADA\",\"BENEDICTINO/MINERAL\",\"BENEDICTINO/GASIFICADA\",\"BENEDICTINO/MINERAL\",\"BENEDICTINO/GASIFICADA\",\"BENEDICTINO/MINERAL\",\"BENEDICTINO/GASIFICADA\",\"BENEDICTINO/MINERAL\",\"BENEDICTINO/GASIFICADA\",\"BENEDICTINO/GASIFICADA\",\"BENEDICTINO/MINERAL\",\"CREMATTA/MINERAL\",\"CREMATTA/MINERAL\",\"CREMATTA/SIN GAS\",\"CREMATTA/MINERAL\",\"CREMATTA/SIN GAS\",\"CREMATTA/MINERAL\",\"CREMATTA/SIN GAS\",\"CREMATTA/MINERAL\",\"CREMATTA/SIN GAS\",\"CREMATTA/MINERAL\",\"CREMATTA/SIN GAS\",\"TERG\\u00c8ZE/GASIFICADA\",\"TERG\\u00c8ZE/MINERAL\",\"TERG\\u00c8ZE/GASIFICADA\",\"TERG\\u00c8ZE/MINERAL\",\"TERG\\u00c8ZE/GASIFICADA\",\"TERG\\u00c8ZE/MINERAL\",\"TERG\\u00c8ZE/GASIFICADA\",\"TERG\\u00c8ZE/MINERAL\",\"TERG\\u00c8ZE/GASIFICADA\",\"TERG\\u00c8ZE/MINERAL\",\"TERG\\u00c8ZE/GASIFICADA\",\"TERG\\u00c8ZE/MINERAL\",\"TERG\\u00c8ZE/GASIFICADA\",\"TERG\\u00c8ZE/MINERAL\",\"BENEDICTINO\",\"TERG\\u00c8ZE\",\"BENEDICTINO\",\"CREMATTA\",\"TERG\\u00c8ZE\",\"CREMATTA\",\"\",\"\",\"\"],\"values\":[6.5899730000000005,40700.313506617,100996.27180773701,56601.462816948,154981.395920902,58400.362396475,157280.16340225498,15496.658310605,36705.19670256,6512.488508609,13128.751845272,19707.152204177,46885.624221517995,1208.024912288,9614.97273563,22406.462694761,63584.544393211996,70.223846339,5543.238492103,58035.48469192199,34.912074299999986,1038.237647084,606.787478183,15753.189823974,42696.364453443995,8175.098940734,20138.373294431,18660.450565293,50050.805673909,5.444483195999999,46.882088831999994,96.29430555899998,5265.166137599001,15670.509150609,17974.587822472,47138.485752923,13326.225937378,34188.629721815996,8.243760299999998,829.205025166,1274.339230282,196.421130717,105028.242564117,40092.438526727,165962.950963407,68968.099853758,216244.008652556,83204.484734564,15661.347812493,5403.196584591,52337.0147227,22845.120770270998,1952.648158931,3588.281678954,595.5484128449999,5418.928613828,3309.8023635289996,3199.675580015,4673.602248429,4076.986174984,17094.984497517,44832.449619866,1331.413182186,7747.8452989709995,29.679525159999994,16711.879875419,307688.363665715,28987.678388597,853155.253084699,555429.98584599,85576.046842037,220513.340469911,1160843.616750414,775943.326315901,114563.725230634],\"type\":\"treemap\"}],                        {\"template\":{\"data\":{\"bar\":[{\"error_x\":{\"color\":\"#2a3f5f\"},\"error_y\":{\"color\":\"#2a3f5f\"},\"marker\":{\"line\":{\"color\":\"#E5ECF6\",\"width\":0.5},\"pattern\":{\"fillmode\":\"overlay\",\"size\":10,\"solidity\":0.2}},\"type\":\"bar\"}],\"barpolar\":[{\"marker\":{\"line\":{\"color\":\"#E5ECF6\",\"width\":0.5},\"pattern\":{\"fillmode\":\"overlay\",\"size\":10,\"solidity\":0.2}},\"type\":\"barpolar\"}],\"carpet\":[{\"aaxis\":{\"endlinecolor\":\"#2a3f5f\",\"gridcolor\":\"white\",\"linecolor\":\"white\",\"minorgridcolor\":\"white\",\"startlinecolor\":\"#2a3f5f\"},\"baxis\":{\"endlinecolor\":\"#2a3f5f\",\"gridcolor\":\"white\",\"linecolor\":\"white\",\"minorgridcolor\":\"white\",\"startlinecolor\":\"#2a3f5f\"},\"type\":\"carpet\"}],\"choropleth\":[{\"colorbar\":{\"outlinewidth\":0,\"ticks\":\"\"},\"type\":\"choropleth\"}],\"contour\":[{\"colorbar\":{\"outlinewidth\":0,\"ticks\":\"\"},\"colorscale\":[[0.0,\"#0d0887\"],[0.1111111111111111,\"#46039f\"],[0.2222222222222222,\"#7201a8\"],[0.3333333333333333,\"#9c179e\"],[0.4444444444444444,\"#bd3786\"],[0.5555555555555556,\"#d8576b\"],[0.6666666666666666,\"#ed7953\"],[0.7777777777777778,\"#fb9f3a\"],[0.8888888888888888,\"#fdca26\"],[1.0,\"#f0f921\"]],\"type\":\"contour\"}],\"contourcarpet\":[{\"colorbar\":{\"outlinewidth\":0,\"ticks\":\"\"},\"type\":\"contourcarpet\"}],\"heatmap\":[{\"colorbar\":{\"outlinewidth\":0,\"ticks\":\"\"},\"colorscale\":[[0.0,\"#0d0887\"],[0.1111111111111111,\"#46039f\"],[0.2222222222222222,\"#7201a8\"],[0.3333333333333333,\"#9c179e\"],[0.4444444444444444,\"#bd3786\"],[0.5555555555555556,\"#d8576b\"],[0.6666666666666666,\"#ed7953\"],[0.7777777777777778,\"#fb9f3a\"],[0.8888888888888888,\"#fdca26\"],[1.0,\"#f0f921\"]],\"type\":\"heatmap\"}],\"heatmapgl\":[{\"colorbar\":{\"outlinewidth\":0,\"ticks\":\"\"},\"colorscale\":[[0.0,\"#0d0887\"],[0.1111111111111111,\"#46039f\"],[0.2222222222222222,\"#7201a8\"],[0.3333333333333333,\"#9c179e\"],[0.4444444444444444,\"#bd3786\"],[0.5555555555555556,\"#d8576b\"],[0.6666666666666666,\"#ed7953\"],[0.7777777777777778,\"#fb9f3a\"],[0.8888888888888888,\"#fdca26\"],[1.0,\"#f0f921\"]],\"type\":\"heatmapgl\"}],\"histogram\":[{\"marker\":{\"pattern\":{\"fillmode\":\"overlay\",\"size\":10,\"solidity\":0.2}},\"type\":\"histogram\"}],\"histogram2d\":[{\"colorbar\":{\"outlinewidth\":0,\"ticks\":\"\"},\"colorscale\":[[0.0,\"#0d0887\"],[0.1111111111111111,\"#46039f\"],[0.2222222222222222,\"#7201a8\"],[0.3333333333333333,\"#9c179e\"],[0.4444444444444444,\"#bd3786\"],[0.5555555555555556,\"#d8576b\"],[0.6666666666666666,\"#ed7953\"],[0.7777777777777778,\"#fb9f3a\"],[0.8888888888888888,\"#fdca26\"],[1.0,\"#f0f921\"]],\"type\":\"histogram2d\"}],\"histogram2dcontour\":[{\"colorbar\":{\"outlinewidth\":0,\"ticks\":\"\"},\"colorscale\":[[0.0,\"#0d0887\"],[0.1111111111111111,\"#46039f\"],[0.2222222222222222,\"#7201a8\"],[0.3333333333333333,\"#9c179e\"],[0.4444444444444444,\"#bd3786\"],[0.5555555555555556,\"#d8576b\"],[0.6666666666666666,\"#ed7953\"],[0.7777777777777778,\"#fb9f3a\"],[0.8888888888888888,\"#fdca26\"],[1.0,\"#f0f921\"]],\"type\":\"histogram2dcontour\"}],\"mesh3d\":[{\"colorbar\":{\"outlinewidth\":0,\"ticks\":\"\"},\"type\":\"mesh3d\"}],\"parcoords\":[{\"line\":{\"colorbar\":{\"outlinewidth\":0,\"ticks\":\"\"}},\"type\":\"parcoords\"}],\"pie\":[{\"automargin\":true,\"type\":\"pie\"}],\"scatter\":[{\"marker\":{\"colorbar\":{\"outlinewidth\":0,\"ticks\":\"\"}},\"type\":\"scatter\"}],\"scatter3d\":[{\"line\":{\"colorbar\":{\"outlinewidth\":0,\"ticks\":\"\"}},\"marker\":{\"colorbar\":{\"outlinewidth\":0,\"ticks\":\"\"}},\"type\":\"scatter3d\"}],\"scattercarpet\":[{\"marker\":{\"colorbar\":{\"outlinewidth\":0,\"ticks\":\"\"}},\"type\":\"scattercarpet\"}],\"scattergeo\":[{\"marker\":{\"colorbar\":{\"outlinewidth\":0,\"ticks\":\"\"}},\"type\":\"scattergeo\"}],\"scattergl\":[{\"marker\":{\"colorbar\":{\"outlinewidth\":0,\"ticks\":\"\"}},\"type\":\"scattergl\"}],\"scattermapbox\":[{\"marker\":{\"colorbar\":{\"outlinewidth\":0,\"ticks\":\"\"}},\"type\":\"scattermapbox\"}],\"scatterpolar\":[{\"marker\":{\"colorbar\":{\"outlinewidth\":0,\"ticks\":\"\"}},\"type\":\"scatterpolar\"}],\"scatterpolargl\":[{\"marker\":{\"colorbar\":{\"outlinewidth\":0,\"ticks\":\"\"}},\"type\":\"scatterpolargl\"}],\"scatterternary\":[{\"marker\":{\"colorbar\":{\"outlinewidth\":0,\"ticks\":\"\"}},\"type\":\"scatterternary\"}],\"surface\":[{\"colorbar\":{\"outlinewidth\":0,\"ticks\":\"\"},\"colorscale\":[[0.0,\"#0d0887\"],[0.1111111111111111,\"#46039f\"],[0.2222222222222222,\"#7201a8\"],[0.3333333333333333,\"#9c179e\"],[0.4444444444444444,\"#bd3786\"],[0.5555555555555556,\"#d8576b\"],[0.6666666666666666,\"#ed7953\"],[0.7777777777777778,\"#fb9f3a\"],[0.8888888888888888,\"#fdca26\"],[1.0,\"#f0f921\"]],\"type\":\"surface\"}],\"table\":[{\"cells\":{\"fill\":{\"color\":\"#EBF0F8\"},\"line\":{\"color\":\"white\"}},\"header\":{\"fill\":{\"color\":\"#C8D4E3\"},\"line\":{\"color\":\"white\"}},\"type\":\"table\"}]},\"layout\":{\"annotationdefaults\":{\"arrowcolor\":\"#2a3f5f\",\"arrowhead\":0,\"arrowwidth\":1},\"autotypenumbers\":\"strict\",\"coloraxis\":{\"colorbar\":{\"outlinewidth\":0,\"ticks\":\"\"}},\"colorscale\":{\"diverging\":[[0,\"#8e0152\"],[0.1,\"#c51b7d\"],[0.2,\"#de77ae\"],[0.3,\"#f1b6da\"],[0.4,\"#fde0ef\"],[0.5,\"#f7f7f7\"],[0.6,\"#e6f5d0\"],[0.7,\"#b8e186\"],[0.8,\"#7fbc41\"],[0.9,\"#4d9221\"],[1,\"#276419\"]],\"sequential\":[[0.0,\"#0d0887\"],[0.1111111111111111,\"#46039f\"],[0.2222222222222222,\"#7201a8\"],[0.3333333333333333,\"#9c179e\"],[0.4444444444444444,\"#bd3786\"],[0.5555555555555556,\"#d8576b\"],[0.6666666666666666,\"#ed7953\"],[0.7777777777777778,\"#fb9f3a\"],[0.8888888888888888,\"#fdca26\"],[1.0,\"#f0f921\"]],\"sequentialminus\":[[0.0,\"#0d0887\"],[0.1111111111111111,\"#46039f\"],[0.2222222222222222,\"#7201a8\"],[0.3333333333333333,\"#9c179e\"],[0.4444444444444444,\"#bd3786\"],[0.5555555555555556,\"#d8576b\"],[0.6666666666666666,\"#ed7953\"],[0.7777777777777778,\"#fb9f3a\"],[0.8888888888888888,\"#fdca26\"],[1.0,\"#f0f921\"]]},\"colorway\":[\"#636efa\",\"#EF553B\",\"#00cc96\",\"#ab63fa\",\"#FFA15A\",\"#19d3f3\",\"#FF6692\",\"#B6E880\",\"#FF97FF\",\"#FECB52\"],\"font\":{\"color\":\"#2a3f5f\"},\"geo\":{\"bgcolor\":\"white\",\"lakecolor\":\"white\",\"landcolor\":\"#E5ECF6\",\"showlakes\":true,\"showland\":true,\"subunitcolor\":\"white\"},\"hoverlabel\":{\"align\":\"left\"},\"hovermode\":\"closest\",\"mapbox\":{\"style\":\"light\"},\"paper_bgcolor\":\"white\",\"plot_bgcolor\":\"#E5ECF6\",\"polar\":{\"angularaxis\":{\"gridcolor\":\"white\",\"linecolor\":\"white\",\"ticks\":\"\"},\"bgcolor\":\"#E5ECF6\",\"radialaxis\":{\"gridcolor\":\"white\",\"linecolor\":\"white\",\"ticks\":\"\"}},\"scene\":{\"xaxis\":{\"backgroundcolor\":\"#E5ECF6\",\"gridcolor\":\"white\",\"gridwidth\":2,\"linecolor\":\"white\",\"showbackground\":true,\"ticks\":\"\",\"zerolinecolor\":\"white\"},\"yaxis\":{\"backgroundcolor\":\"#E5ECF6\",\"gridcolor\":\"white\",\"gridwidth\":2,\"linecolor\":\"white\",\"showbackground\":true,\"ticks\":\"\",\"zerolinecolor\":\"white\"},\"zaxis\":{\"backgroundcolor\":\"#E5ECF6\",\"gridcolor\":\"white\",\"gridwidth\":2,\"linecolor\":\"white\",\"showbackground\":true,\"ticks\":\"\",\"zerolinecolor\":\"white\"}},\"shapedefaults\":{\"line\":{\"color\":\"#2a3f5f\"}},\"ternary\":{\"aaxis\":{\"gridcolor\":\"white\",\"linecolor\":\"white\",\"ticks\":\"\"},\"baxis\":{\"gridcolor\":\"white\",\"linecolor\":\"white\",\"ticks\":\"\"},\"bgcolor\":\"#E5ECF6\",\"caxis\":{\"gridcolor\":\"white\",\"linecolor\":\"white\",\"ticks\":\"\"}},\"title\":{\"x\":0.05},\"xaxis\":{\"automargin\":true,\"gridcolor\":\"white\",\"linecolor\":\"white\",\"ticks\":\"\",\"title\":{\"standoff\":15},\"zerolinecolor\":\"white\",\"zerolinewidth\":2},\"yaxis\":{\"automargin\":true,\"gridcolor\":\"white\",\"linecolor\":\"white\",\"ticks\":\"\",\"title\":{\"standoff\":15},\"zerolinecolor\":\"white\",\"zerolinewidth\":2}}},\"coloraxis\":{\"colorbar\":{\"title\":{\"text\":\"CANTIDAD\"}},\"colorscale\":[[0.0,\"rgb(103,0,31)\"],[0.1,\"rgb(178,24,43)\"],[0.2,\"rgb(214,96,77)\"],[0.3,\"rgb(244,165,130)\"],[0.4,\"rgb(253,219,199)\"],[0.5,\"rgb(247,247,247)\"],[0.6,\"rgb(209,229,240)\"],[0.7,\"rgb(146,197,222)\"],[0.8,\"rgb(67,147,195)\"],[0.9,\"rgb(33,102,172)\"],[1.0,\"rgb(5,48,97)\"]]},\"legend\":{\"tracegroupgap\":0},\"margin\":{\"t\":60}},                        {\"responsive\": true}                    ).then(function(){\n",
              "                            \n",
              "var gd = document.getElementById('d24db233-3b8e-46d2-b6ae-229a07e9fc1f');\n",
              "var x = new MutationObserver(function (mutations, observer) {{\n",
              "        var display = window.getComputedStyle(gd).display;\n",
              "        if (!display || display === 'none') {{\n",
              "            console.log([gd, 'removed!']);\n",
              "            Plotly.purge(gd);\n",
              "            observer.disconnect();\n",
              "        }}\n",
              "}});\n",
              "\n",
              "// Listen for the removal of the full notebook cells\n",
              "var notebookContainer = gd.closest('#notebook-container');\n",
              "if (notebookContainer) {{\n",
              "    x.observe(notebookContainer, {childList: true});\n",
              "}}\n",
              "\n",
              "// Listen for the clearing of the current output cell\n",
              "var outputEl = gd.closest('.output');\n",
              "if (outputEl) {{\n",
              "    x.observe(outputEl, {childList: true});\n",
              "}}\n",
              "\n",
              "                        })                };                            </script>        </div>\n",
              "</body>\n",
              "</html>"
            ]
          },
          "metadata": {}
        }
      ]
    },
    {
      "cell_type": "code",
      "source": [
        "# Profundidad\n",
        "fig = px.treemap(df_real_nm, \n",
        "                 path=['Marca','Familia', 'Descripción'], \n",
        "                 values='Utilidad',\n",
        "                 color_continuous_scale='RdBu'\n",
        "                )\n",
        "fig.show()"
      ],
      "metadata": {
        "id": "XI21w4Y6KR8t",
        "colab": {
          "base_uri": "https://localhost:8080/",
          "height": 542
        },
        "outputId": "5a91748a-2617-49bf-fe9f-f94701701fb0"
      },
      "execution_count": null,
      "outputs": [
        {
          "output_type": "display_data",
          "data": {
            "text/html": [
              "<html>\n",
              "<head><meta charset=\"utf-8\" /></head>\n",
              "<body>\n",
              "    <div>            <script src=\"https://cdnjs.cloudflare.com/ajax/libs/mathjax/2.7.5/MathJax.js?config=TeX-AMS-MML_SVG\"></script><script type=\"text/javascript\">if (window.MathJax) {MathJax.Hub.Config({SVG: {font: \"STIX-Web\"}});}</script>                <script type=\"text/javascript\">window.PlotlyConfig = {MathJaxConfig: 'local'};</script>\n",
              "        <script src=\"https://cdn.plot.ly/plotly-2.8.3.min.js\"></script>                <div id=\"f5da7149-b314-4b5f-a108-dfc9a8da7c7a\" class=\"plotly-graph-div\" style=\"height:525px; width:100%;\"></div>            <script type=\"text/javascript\">                                    window.PLOTLYENV=window.PLOTLYENV || {};                                    if (document.getElementById(\"f5da7149-b314-4b5f-a108-dfc9a8da7c7a\")) {                    Plotly.newPlot(                        \"f5da7149-b314-4b5f-a108-dfc9a8da7c7a\",                        [{\"branchvalues\":\"total\",\"domain\":{\"x\":[0.0,1.0],\"y\":[0.0,1.0]},\"hovertemplate\":\"labels=%{label}<br>Utilidad=%{value}<br>parent=%{parent}<br>id=%{id}<extra></extra>\",\"ids\":[\"BENEDICTINO/MINERAL/BENEDICTINO AGUA MINERAL GASIFICADA GLASS 1500ML\",\"BENEDICTINO/GASIFICADA/BENEDICTINO AGUA MINERAL GASIFICADA GLASS 250ML\",\"BENEDICTINO/MINERAL/BENEDICTINO AGUA MINERAL GASIFICADA GLASS 250ML\",\"BENEDICTINO/GASIFICADA/BENEDICTINO AGUA MINERAL GASIFICADA GLASS 505ML\",\"BENEDICTINO/MINERAL/BENEDICTINO AGUA MINERAL GASIFICADA GLASS 505ML\",\"BENEDICTINO/GASIFICADA/BENEDICTINO AGUA MINERAL GASIFICADA GLASS 750ML\",\"BENEDICTINO/MINERAL/BENEDICTINO AGUA MINERAL GASIFICADA GLASS 750ML\",\"BENEDICTINO/GASIFICADA/BENEDICTINO AGUA MINERAL GASIFICADA PET 500ML\",\"BENEDICTINO/MINERAL/BENEDICTINO AGUA MINERAL GASIFICADA PET 500ML\",\"BENEDICTINO/GASIFICADA/BENEDICTINO AGUA MINERAL GASIFICADA PET 500ML SIX PACK  FOODIE\",\"BENEDICTINO/MINERAL/BENEDICTINO AGUA MINERAL GASIFICADA PET 500ML SIX PACK  FOODIE\",\"BENEDICTINO/GASIFICADA/BENEDICTINO AGUA TONICA CAN 330ML\",\"BENEDICTINO/MINERAL/BENEDICTINO AGUA TONICA CAN 330ML\",\"BENEDICTINO/GASIFICADA/BENEDICTINO AGUA TONICA GLASS 200ML\",\"BENEDICTINO/MINERAL/BENEDICTINO AGUA TONICA GLASS 200ML\",\"BENEDICTINO/GASIFICADA/BENEDICTINO ARANCIATA NARANJA CAN 330ML\",\"BENEDICTINO/MINERAL/BENEDICTINO ARANCIATA NARANJA CAN 330ML\",\"BENEDICTINO/MINERAL/BENEDICTINO ARANCIATA NARANJA GLASS 200ML\",\"BENEDICTINO/GASIFICADA/BENEDICTINO ARANCIATA ROSSA CAN 330ML\",\"BENEDICTINO/MINERAL/BENEDICTINO ARANCIATA ROSSA CAN 330ML\",\"BENEDICTINO/GASIFICADA/BENEDICTINO ARANCIATA ROSSA GLASS 200ML\",\"BENEDICTINO/GASIFICADA/BENEDICTINO CHINOTTO GASIFICADA CAN 330ML\",\"BENEDICTINO/MINERAL/BENEDICTINO CHINOTTO GASIFICADA CAN 330ML\",\"BENEDICTINO/GASIFICADA/BENEDICTINO CLEMENTINA GASIFICADA CAN 330ML\",\"BENEDICTINO/MINERAL/BENEDICTINO CLEMENTINA GASIFICADA CAN 330ML\",\"BENEDICTINO/GASIFICADA/BENEDICTINO FICODINDIA E ARANCIA GASIFICADA CAN 330ML\",\"BENEDICTINO/MINERAL/BENEDICTINO FICODINDIA E ARANCIA GASIFICADA CAN 330ML\",\"BENEDICTINO/GASIFICADA/BENEDICTINO LIMONATA LIMON CAN 330ML\",\"BENEDICTINO/MINERAL/BENEDICTINO LIMONATA LIMON CAN 330ML\",\"BENEDICTINO/MINERAL/BENEDICTINO LIMONATA LIMON CAN 330ML.\",\"BENEDICTINO/GASIFICADA/BENEDICTINO LIMONATA LIMON GLASS 200ML\",\"BENEDICTINO/MINERAL/BENEDICTINO LIMONATA LIMON GLASS 200ML\",\"BENEDICTINO/GASIFICADA/BENEDICTINO LIMONE E MENTA GASIFICADA CAN 330ML\",\"BENEDICTINO/MINERAL/BENEDICTINO LIMONE E MENTA GASIFICADA CAN 330ML\",\"BENEDICTINO/GASIFICADA/BENEDICTINO MELOGRANO E ARANCIA GASIFICADA CAN 330ML\",\"BENEDICTINO/MINERAL/BENEDICTINO MELOGRANO E ARANCIA GASIFICADA CAN 330ML\",\"BENEDICTINO/GASIFICADA/BENEDICTINO POMPELMO TORONJA CAN 330ML\",\"BENEDICTINO/MINERAL/BENEDICTINO POMPELMO TORONJA CAN 330ML\",\"BENEDICTINO/GASIFICADA/BENEDICTINO POMPELMO TORONJA GLASS 200ML\",\"BENEDICTINO/GASIFICADA/BENEDICTINO SANBITTER ROSSO GLASS 100ML\",\"BENEDICTINO/MINERAL/BENEDICTINO SANBITTER ROSSO GLASS 100ML\",\"CREMATTA/MINERAL/CREMATTA AGUA MINERAL SIN GAS GLASS   1000ML\",\"CREMATTA/MINERAL/CREMATTA AGUA MINERAL SIN GAS GLASS 250ML\",\"CREMATTA/SIN GAS/CREMATTA AGUA MINERAL SIN GAS GLASS 250ML\",\"CREMATTA/MINERAL/CREMATTA AGUA MINERAL SIN GAS GLASS 505ML\",\"CREMATTA/SIN GAS/CREMATTA AGUA MINERAL SIN GAS GLASS 505ML\",\"CREMATTA/MINERAL/CREMATTA AGUA MINERAL SIN GAS GLASS 750ML\",\"CREMATTA/SIN GAS/CREMATTA AGUA MINERAL SIN GAS GLASS 750ML\",\"CREMATTA/MINERAL/CREMATTA AGUA MINERAL SIN GAS PET 1000ML\",\"CREMATTA/SIN GAS/CREMATTA AGUA MINERAL SIN GAS PET 1000ML\",\"CREMATTA/MINERAL/CREMATTA AGUA MINERAL SIN GAS PET 500ML\",\"CREMATTA/SIN GAS/CREMATTA AGUA MINERAL SIN GAS PET 500ML\",\"TERG\\u00c8ZE/GASIFICADA/FOUR PACK TERG\\u00c8ZE AGUA MINERAL GASIFICADA GLASS 330ML\",\"TERG\\u00c8ZE/MINERAL/FOUR PACK TERG\\u00c8ZE AGUA MINERAL GASIFICADA GLASS 330ML\",\"TERG\\u00c8ZE/GASIFICADA/TERG\\u00c8ZE AGUA MINERAL GASIFICADA CAN 250 ML\",\"TERG\\u00c8ZE/MINERAL/TERG\\u00c8ZE AGUA MINERAL GASIFICADA CAN 250 ML\",\"TERG\\u00c8ZE/GASIFICADA/TERG\\u00c8ZE AGUA MINERAL GASIFICADA CAN 250ML - GRAPEFRUIT\",\"TERG\\u00c8ZE/MINERAL/TERG\\u00c8ZE AGUA MINERAL GASIFICADA CAN 250ML - GRAPEFRUIT\",\"TERG\\u00c8ZE/GASIFICADA/TERG\\u00c8ZE AGUA MINERAL GASIFICADA CAN 250ML - LIMON\",\"TERG\\u00c8ZE/MINERAL/TERG\\u00c8ZE AGUA MINERAL GASIFICADA CAN 250ML - LIMON\",\"TERG\\u00c8ZE/GASIFICADA/TERG\\u00c8ZE AGUA MINERAL GASIFICADA GLASS 330ML\",\"TERG\\u00c8ZE/MINERAL/TERG\\u00c8ZE AGUA MINERAL GASIFICADA GLASS 330ML\",\"TERG\\u00c8ZE/GASIFICADA/TERG\\u00c8ZE AGUA MINERAL GASIFICADA GLASS 330ML - LIMON\",\"TERG\\u00c8ZE/MINERAL/TERG\\u00c8ZE AGUA MINERAL GASIFICADA GLASS 330ML - LIMON\",\"TERG\\u00c8ZE/GASIFICADA/TERG\\u00c8ZE AGUA MINERAL GASIFICADA GLASS 750ML\",\"TERG\\u00c8ZE/MINERAL/TERG\\u00c8ZE AGUA MINERAL GASIFICADA GLASS 750ML\",\"BENEDICTINO/GASIFICADA\",\"TERG\\u00c8ZE/GASIFICADA\",\"BENEDICTINO/MINERAL\",\"CREMATTA/MINERAL\",\"TERG\\u00c8ZE/MINERAL\",\"CREMATTA/SIN GAS\",\"BENEDICTINO\",\"CREMATTA\",\"TERG\\u00c8ZE\"],\"labels\":[\"BENEDICTINO AGUA MINERAL GASIFICADA GLASS 1500ML\",\"BENEDICTINO AGUA MINERAL GASIFICADA GLASS 250ML\",\"BENEDICTINO AGUA MINERAL GASIFICADA GLASS 250ML\",\"BENEDICTINO AGUA MINERAL GASIFICADA GLASS 505ML\",\"BENEDICTINO AGUA MINERAL GASIFICADA GLASS 505ML\",\"BENEDICTINO AGUA MINERAL GASIFICADA GLASS 750ML\",\"BENEDICTINO AGUA MINERAL GASIFICADA GLASS 750ML\",\"BENEDICTINO AGUA MINERAL GASIFICADA PET 500ML\",\"BENEDICTINO AGUA MINERAL GASIFICADA PET 500ML\",\"BENEDICTINO AGUA MINERAL GASIFICADA PET 500ML SIX PACK  FOODIE\",\"BENEDICTINO AGUA MINERAL GASIFICADA PET 500ML SIX PACK  FOODIE\",\"BENEDICTINO AGUA TONICA CAN 330ML\",\"BENEDICTINO AGUA TONICA CAN 330ML\",\"BENEDICTINO AGUA TONICA GLASS 200ML\",\"BENEDICTINO AGUA TONICA GLASS 200ML\",\"BENEDICTINO ARANCIATA NARANJA CAN 330ML\",\"BENEDICTINO ARANCIATA NARANJA CAN 330ML\",\"BENEDICTINO ARANCIATA NARANJA GLASS 200ML\",\"BENEDICTINO ARANCIATA ROSSA CAN 330ML\",\"BENEDICTINO ARANCIATA ROSSA CAN 330ML\",\"BENEDICTINO ARANCIATA ROSSA GLASS 200ML\",\"BENEDICTINO CHINOTTO GASIFICADA CAN 330ML\",\"BENEDICTINO CHINOTTO GASIFICADA CAN 330ML\",\"BENEDICTINO CLEMENTINA GASIFICADA CAN 330ML\",\"BENEDICTINO CLEMENTINA GASIFICADA CAN 330ML\",\"BENEDICTINO FICODINDIA E ARANCIA GASIFICADA CAN 330ML\",\"BENEDICTINO FICODINDIA E ARANCIA GASIFICADA CAN 330ML\",\"BENEDICTINO LIMONATA LIMON CAN 330ML\",\"BENEDICTINO LIMONATA LIMON CAN 330ML\",\"BENEDICTINO LIMONATA LIMON CAN 330ML.\",\"BENEDICTINO LIMONATA LIMON GLASS 200ML\",\"BENEDICTINO LIMONATA LIMON GLASS 200ML\",\"BENEDICTINO LIMONE E MENTA GASIFICADA CAN 330ML\",\"BENEDICTINO LIMONE E MENTA GASIFICADA CAN 330ML\",\"BENEDICTINO MELOGRANO E ARANCIA GASIFICADA CAN 330ML\",\"BENEDICTINO MELOGRANO E ARANCIA GASIFICADA CAN 330ML\",\"BENEDICTINO POMPELMO TORONJA CAN 330ML\",\"BENEDICTINO POMPELMO TORONJA CAN 330ML\",\"BENEDICTINO POMPELMO TORONJA GLASS 200ML\",\"BENEDICTINO SANBITTER ROSSO GLASS 100ML\",\"BENEDICTINO SANBITTER ROSSO GLASS 100ML\",\"CREMATTA AGUA MINERAL SIN GAS GLASS   1000ML\",\"CREMATTA AGUA MINERAL SIN GAS GLASS 250ML\",\"CREMATTA AGUA MINERAL SIN GAS GLASS 250ML\",\"CREMATTA AGUA MINERAL SIN GAS GLASS 505ML\",\"CREMATTA AGUA MINERAL SIN GAS GLASS 505ML\",\"CREMATTA AGUA MINERAL SIN GAS GLASS 750ML\",\"CREMATTA AGUA MINERAL SIN GAS GLASS 750ML\",\"CREMATTA AGUA MINERAL SIN GAS PET 1000ML\",\"CREMATTA AGUA MINERAL SIN GAS PET 1000ML\",\"CREMATTA AGUA MINERAL SIN GAS PET 500ML\",\"CREMATTA AGUA MINERAL SIN GAS PET 500ML\",\"FOUR PACK TERG\\u00c8ZE AGUA MINERAL GASIFICADA GLASS 330ML\",\"FOUR PACK TERG\\u00c8ZE AGUA MINERAL GASIFICADA GLASS 330ML\",\"TERG\\u00c8ZE AGUA MINERAL GASIFICADA CAN 250 ML\",\"TERG\\u00c8ZE AGUA MINERAL GASIFICADA CAN 250 ML\",\"TERG\\u00c8ZE AGUA MINERAL GASIFICADA CAN 250ML - GRAPEFRUIT\",\"TERG\\u00c8ZE AGUA MINERAL GASIFICADA CAN 250ML - GRAPEFRUIT\",\"TERG\\u00c8ZE AGUA MINERAL GASIFICADA CAN 250ML - LIMON\",\"TERG\\u00c8ZE AGUA MINERAL GASIFICADA CAN 250ML - LIMON\",\"TERG\\u00c8ZE AGUA MINERAL GASIFICADA GLASS 330ML\",\"TERG\\u00c8ZE AGUA MINERAL GASIFICADA GLASS 330ML\",\"TERG\\u00c8ZE AGUA MINERAL GASIFICADA GLASS 330ML - LIMON\",\"TERG\\u00c8ZE AGUA MINERAL GASIFICADA GLASS 330ML - LIMON\",\"TERG\\u00c8ZE AGUA MINERAL GASIFICADA GLASS 750ML\",\"TERG\\u00c8ZE AGUA MINERAL GASIFICADA GLASS 750ML\",\"GASIFICADA\",\"GASIFICADA\",\"MINERAL\",\"MINERAL\",\"MINERAL\",\"SIN GAS\",\"BENEDICTINO\",\"CREMATTA\",\"TERG\\u00c8ZE\"],\"name\":\"\",\"parents\":[\"BENEDICTINO/MINERAL\",\"BENEDICTINO/GASIFICADA\",\"BENEDICTINO/MINERAL\",\"BENEDICTINO/GASIFICADA\",\"BENEDICTINO/MINERAL\",\"BENEDICTINO/GASIFICADA\",\"BENEDICTINO/MINERAL\",\"BENEDICTINO/GASIFICADA\",\"BENEDICTINO/MINERAL\",\"BENEDICTINO/GASIFICADA\",\"BENEDICTINO/MINERAL\",\"BENEDICTINO/GASIFICADA\",\"BENEDICTINO/MINERAL\",\"BENEDICTINO/GASIFICADA\",\"BENEDICTINO/MINERAL\",\"BENEDICTINO/GASIFICADA\",\"BENEDICTINO/MINERAL\",\"BENEDICTINO/MINERAL\",\"BENEDICTINO/GASIFICADA\",\"BENEDICTINO/MINERAL\",\"BENEDICTINO/GASIFICADA\",\"BENEDICTINO/GASIFICADA\",\"BENEDICTINO/MINERAL\",\"BENEDICTINO/GASIFICADA\",\"BENEDICTINO/MINERAL\",\"BENEDICTINO/GASIFICADA\",\"BENEDICTINO/MINERAL\",\"BENEDICTINO/GASIFICADA\",\"BENEDICTINO/MINERAL\",\"BENEDICTINO/MINERAL\",\"BENEDICTINO/GASIFICADA\",\"BENEDICTINO/MINERAL\",\"BENEDICTINO/GASIFICADA\",\"BENEDICTINO/MINERAL\",\"BENEDICTINO/GASIFICADA\",\"BENEDICTINO/MINERAL\",\"BENEDICTINO/GASIFICADA\",\"BENEDICTINO/MINERAL\",\"BENEDICTINO/GASIFICADA\",\"BENEDICTINO/GASIFICADA\",\"BENEDICTINO/MINERAL\",\"CREMATTA/MINERAL\",\"CREMATTA/MINERAL\",\"CREMATTA/SIN GAS\",\"CREMATTA/MINERAL\",\"CREMATTA/SIN GAS\",\"CREMATTA/MINERAL\",\"CREMATTA/SIN GAS\",\"CREMATTA/MINERAL\",\"CREMATTA/SIN GAS\",\"CREMATTA/MINERAL\",\"CREMATTA/SIN GAS\",\"TERG\\u00c8ZE/GASIFICADA\",\"TERG\\u00c8ZE/MINERAL\",\"TERG\\u00c8ZE/GASIFICADA\",\"TERG\\u00c8ZE/MINERAL\",\"TERG\\u00c8ZE/GASIFICADA\",\"TERG\\u00c8ZE/MINERAL\",\"TERG\\u00c8ZE/GASIFICADA\",\"TERG\\u00c8ZE/MINERAL\",\"TERG\\u00c8ZE/GASIFICADA\",\"TERG\\u00c8ZE/MINERAL\",\"TERG\\u00c8ZE/GASIFICADA\",\"TERG\\u00c8ZE/MINERAL\",\"TERG\\u00c8ZE/GASIFICADA\",\"TERG\\u00c8ZE/MINERAL\",\"BENEDICTINO\",\"TERG\\u00c8ZE\",\"BENEDICTINO\",\"CREMATTA\",\"TERG\\u00c8ZE\",\"CREMATTA\",\"\",\"\",\"\"],\"values\":[6.5899730000000005,40700.313506617,100996.27180773701,56601.462816948,154981.395920902,58400.362396475,157280.16340225498,15496.658310605,36705.19670256,6512.488508609,13128.751845272,19707.152204177,46885.624221517995,1208.024912288,9614.97273563,22406.462694761,63584.544393211996,70.223846339,5543.238492103,58035.48469192199,34.912074299999986,1038.237647084,606.787478183,15753.189823974,42696.364453443995,8175.098940734,20138.373294431,18660.450565293,50050.805673909,5.444483195999999,46.882088831999994,96.29430555899998,5265.166137599001,15670.509150609,17974.587822472,47138.485752923,13326.225937378,34188.629721815996,8.243760299999998,829.205025166,1274.339230282,196.421130717,105028.242564117,40092.438526727,165962.950963407,68968.099853758,216244.008652556,83204.484734564,15661.347812493,5403.196584591,52337.0147227,22845.120770270998,1952.648158931,3588.281678954,595.5484128449999,5418.928613828,3309.8023635289996,3199.675580015,4673.602248429,4076.986174984,17094.984497517,44832.449619866,1331.413182186,7747.8452989709995,29.679525159999994,16711.879875419,307688.363665715,28987.678388597,853155.253084699,555429.98584599,85576.046842037,220513.340469911,1160843.616750414,775943.326315901,114563.725230634],\"type\":\"treemap\"}],                        {\"template\":{\"data\":{\"bar\":[{\"error_x\":{\"color\":\"#2a3f5f\"},\"error_y\":{\"color\":\"#2a3f5f\"},\"marker\":{\"line\":{\"color\":\"#E5ECF6\",\"width\":0.5},\"pattern\":{\"fillmode\":\"overlay\",\"size\":10,\"solidity\":0.2}},\"type\":\"bar\"}],\"barpolar\":[{\"marker\":{\"line\":{\"color\":\"#E5ECF6\",\"width\":0.5},\"pattern\":{\"fillmode\":\"overlay\",\"size\":10,\"solidity\":0.2}},\"type\":\"barpolar\"}],\"carpet\":[{\"aaxis\":{\"endlinecolor\":\"#2a3f5f\",\"gridcolor\":\"white\",\"linecolor\":\"white\",\"minorgridcolor\":\"white\",\"startlinecolor\":\"#2a3f5f\"},\"baxis\":{\"endlinecolor\":\"#2a3f5f\",\"gridcolor\":\"white\",\"linecolor\":\"white\",\"minorgridcolor\":\"white\",\"startlinecolor\":\"#2a3f5f\"},\"type\":\"carpet\"}],\"choropleth\":[{\"colorbar\":{\"outlinewidth\":0,\"ticks\":\"\"},\"type\":\"choropleth\"}],\"contour\":[{\"colorbar\":{\"outlinewidth\":0,\"ticks\":\"\"},\"colorscale\":[[0.0,\"#0d0887\"],[0.1111111111111111,\"#46039f\"],[0.2222222222222222,\"#7201a8\"],[0.3333333333333333,\"#9c179e\"],[0.4444444444444444,\"#bd3786\"],[0.5555555555555556,\"#d8576b\"],[0.6666666666666666,\"#ed7953\"],[0.7777777777777778,\"#fb9f3a\"],[0.8888888888888888,\"#fdca26\"],[1.0,\"#f0f921\"]],\"type\":\"contour\"}],\"contourcarpet\":[{\"colorbar\":{\"outlinewidth\":0,\"ticks\":\"\"},\"type\":\"contourcarpet\"}],\"heatmap\":[{\"colorbar\":{\"outlinewidth\":0,\"ticks\":\"\"},\"colorscale\":[[0.0,\"#0d0887\"],[0.1111111111111111,\"#46039f\"],[0.2222222222222222,\"#7201a8\"],[0.3333333333333333,\"#9c179e\"],[0.4444444444444444,\"#bd3786\"],[0.5555555555555556,\"#d8576b\"],[0.6666666666666666,\"#ed7953\"],[0.7777777777777778,\"#fb9f3a\"],[0.8888888888888888,\"#fdca26\"],[1.0,\"#f0f921\"]],\"type\":\"heatmap\"}],\"heatmapgl\":[{\"colorbar\":{\"outlinewidth\":0,\"ticks\":\"\"},\"colorscale\":[[0.0,\"#0d0887\"],[0.1111111111111111,\"#46039f\"],[0.2222222222222222,\"#7201a8\"],[0.3333333333333333,\"#9c179e\"],[0.4444444444444444,\"#bd3786\"],[0.5555555555555556,\"#d8576b\"],[0.6666666666666666,\"#ed7953\"],[0.7777777777777778,\"#fb9f3a\"],[0.8888888888888888,\"#fdca26\"],[1.0,\"#f0f921\"]],\"type\":\"heatmapgl\"}],\"histogram\":[{\"marker\":{\"pattern\":{\"fillmode\":\"overlay\",\"size\":10,\"solidity\":0.2}},\"type\":\"histogram\"}],\"histogram2d\":[{\"colorbar\":{\"outlinewidth\":0,\"ticks\":\"\"},\"colorscale\":[[0.0,\"#0d0887\"],[0.1111111111111111,\"#46039f\"],[0.2222222222222222,\"#7201a8\"],[0.3333333333333333,\"#9c179e\"],[0.4444444444444444,\"#bd3786\"],[0.5555555555555556,\"#d8576b\"],[0.6666666666666666,\"#ed7953\"],[0.7777777777777778,\"#fb9f3a\"],[0.8888888888888888,\"#fdca26\"],[1.0,\"#f0f921\"]],\"type\":\"histogram2d\"}],\"histogram2dcontour\":[{\"colorbar\":{\"outlinewidth\":0,\"ticks\":\"\"},\"colorscale\":[[0.0,\"#0d0887\"],[0.1111111111111111,\"#46039f\"],[0.2222222222222222,\"#7201a8\"],[0.3333333333333333,\"#9c179e\"],[0.4444444444444444,\"#bd3786\"],[0.5555555555555556,\"#d8576b\"],[0.6666666666666666,\"#ed7953\"],[0.7777777777777778,\"#fb9f3a\"],[0.8888888888888888,\"#fdca26\"],[1.0,\"#f0f921\"]],\"type\":\"histogram2dcontour\"}],\"mesh3d\":[{\"colorbar\":{\"outlinewidth\":0,\"ticks\":\"\"},\"type\":\"mesh3d\"}],\"parcoords\":[{\"line\":{\"colorbar\":{\"outlinewidth\":0,\"ticks\":\"\"}},\"type\":\"parcoords\"}],\"pie\":[{\"automargin\":true,\"type\":\"pie\"}],\"scatter\":[{\"marker\":{\"colorbar\":{\"outlinewidth\":0,\"ticks\":\"\"}},\"type\":\"scatter\"}],\"scatter3d\":[{\"line\":{\"colorbar\":{\"outlinewidth\":0,\"ticks\":\"\"}},\"marker\":{\"colorbar\":{\"outlinewidth\":0,\"ticks\":\"\"}},\"type\":\"scatter3d\"}],\"scattercarpet\":[{\"marker\":{\"colorbar\":{\"outlinewidth\":0,\"ticks\":\"\"}},\"type\":\"scattercarpet\"}],\"scattergeo\":[{\"marker\":{\"colorbar\":{\"outlinewidth\":0,\"ticks\":\"\"}},\"type\":\"scattergeo\"}],\"scattergl\":[{\"marker\":{\"colorbar\":{\"outlinewidth\":0,\"ticks\":\"\"}},\"type\":\"scattergl\"}],\"scattermapbox\":[{\"marker\":{\"colorbar\":{\"outlinewidth\":0,\"ticks\":\"\"}},\"type\":\"scattermapbox\"}],\"scatterpolar\":[{\"marker\":{\"colorbar\":{\"outlinewidth\":0,\"ticks\":\"\"}},\"type\":\"scatterpolar\"}],\"scatterpolargl\":[{\"marker\":{\"colorbar\":{\"outlinewidth\":0,\"ticks\":\"\"}},\"type\":\"scatterpolargl\"}],\"scatterternary\":[{\"marker\":{\"colorbar\":{\"outlinewidth\":0,\"ticks\":\"\"}},\"type\":\"scatterternary\"}],\"surface\":[{\"colorbar\":{\"outlinewidth\":0,\"ticks\":\"\"},\"colorscale\":[[0.0,\"#0d0887\"],[0.1111111111111111,\"#46039f\"],[0.2222222222222222,\"#7201a8\"],[0.3333333333333333,\"#9c179e\"],[0.4444444444444444,\"#bd3786\"],[0.5555555555555556,\"#d8576b\"],[0.6666666666666666,\"#ed7953\"],[0.7777777777777778,\"#fb9f3a\"],[0.8888888888888888,\"#fdca26\"],[1.0,\"#f0f921\"]],\"type\":\"surface\"}],\"table\":[{\"cells\":{\"fill\":{\"color\":\"#EBF0F8\"},\"line\":{\"color\":\"white\"}},\"header\":{\"fill\":{\"color\":\"#C8D4E3\"},\"line\":{\"color\":\"white\"}},\"type\":\"table\"}]},\"layout\":{\"annotationdefaults\":{\"arrowcolor\":\"#2a3f5f\",\"arrowhead\":0,\"arrowwidth\":1},\"autotypenumbers\":\"strict\",\"coloraxis\":{\"colorbar\":{\"outlinewidth\":0,\"ticks\":\"\"}},\"colorscale\":{\"diverging\":[[0,\"#8e0152\"],[0.1,\"#c51b7d\"],[0.2,\"#de77ae\"],[0.3,\"#f1b6da\"],[0.4,\"#fde0ef\"],[0.5,\"#f7f7f7\"],[0.6,\"#e6f5d0\"],[0.7,\"#b8e186\"],[0.8,\"#7fbc41\"],[0.9,\"#4d9221\"],[1,\"#276419\"]],\"sequential\":[[0.0,\"#0d0887\"],[0.1111111111111111,\"#46039f\"],[0.2222222222222222,\"#7201a8\"],[0.3333333333333333,\"#9c179e\"],[0.4444444444444444,\"#bd3786\"],[0.5555555555555556,\"#d8576b\"],[0.6666666666666666,\"#ed7953\"],[0.7777777777777778,\"#fb9f3a\"],[0.8888888888888888,\"#fdca26\"],[1.0,\"#f0f921\"]],\"sequentialminus\":[[0.0,\"#0d0887\"],[0.1111111111111111,\"#46039f\"],[0.2222222222222222,\"#7201a8\"],[0.3333333333333333,\"#9c179e\"],[0.4444444444444444,\"#bd3786\"],[0.5555555555555556,\"#d8576b\"],[0.6666666666666666,\"#ed7953\"],[0.7777777777777778,\"#fb9f3a\"],[0.8888888888888888,\"#fdca26\"],[1.0,\"#f0f921\"]]},\"colorway\":[\"#636efa\",\"#EF553B\",\"#00cc96\",\"#ab63fa\",\"#FFA15A\",\"#19d3f3\",\"#FF6692\",\"#B6E880\",\"#FF97FF\",\"#FECB52\"],\"font\":{\"color\":\"#2a3f5f\"},\"geo\":{\"bgcolor\":\"white\",\"lakecolor\":\"white\",\"landcolor\":\"#E5ECF6\",\"showlakes\":true,\"showland\":true,\"subunitcolor\":\"white\"},\"hoverlabel\":{\"align\":\"left\"},\"hovermode\":\"closest\",\"mapbox\":{\"style\":\"light\"},\"paper_bgcolor\":\"white\",\"plot_bgcolor\":\"#E5ECF6\",\"polar\":{\"angularaxis\":{\"gridcolor\":\"white\",\"linecolor\":\"white\",\"ticks\":\"\"},\"bgcolor\":\"#E5ECF6\",\"radialaxis\":{\"gridcolor\":\"white\",\"linecolor\":\"white\",\"ticks\":\"\"}},\"scene\":{\"xaxis\":{\"backgroundcolor\":\"#E5ECF6\",\"gridcolor\":\"white\",\"gridwidth\":2,\"linecolor\":\"white\",\"showbackground\":true,\"ticks\":\"\",\"zerolinecolor\":\"white\"},\"yaxis\":{\"backgroundcolor\":\"#E5ECF6\",\"gridcolor\":\"white\",\"gridwidth\":2,\"linecolor\":\"white\",\"showbackground\":true,\"ticks\":\"\",\"zerolinecolor\":\"white\"},\"zaxis\":{\"backgroundcolor\":\"#E5ECF6\",\"gridcolor\":\"white\",\"gridwidth\":2,\"linecolor\":\"white\",\"showbackground\":true,\"ticks\":\"\",\"zerolinecolor\":\"white\"}},\"shapedefaults\":{\"line\":{\"color\":\"#2a3f5f\"}},\"ternary\":{\"aaxis\":{\"gridcolor\":\"white\",\"linecolor\":\"white\",\"ticks\":\"\"},\"baxis\":{\"gridcolor\":\"white\",\"linecolor\":\"white\",\"ticks\":\"\"},\"bgcolor\":\"#E5ECF6\",\"caxis\":{\"gridcolor\":\"white\",\"linecolor\":\"white\",\"ticks\":\"\"}},\"title\":{\"x\":0.05},\"xaxis\":{\"automargin\":true,\"gridcolor\":\"white\",\"linecolor\":\"white\",\"ticks\":\"\",\"title\":{\"standoff\":15},\"zerolinecolor\":\"white\",\"zerolinewidth\":2},\"yaxis\":{\"automargin\":true,\"gridcolor\":\"white\",\"linecolor\":\"white\",\"ticks\":\"\",\"title\":{\"standoff\":15},\"zerolinecolor\":\"white\",\"zerolinewidth\":2}}},\"legend\":{\"tracegroupgap\":0},\"margin\":{\"t\":60}},                        {\"responsive\": true}                    ).then(function(){\n",
              "                            \n",
              "var gd = document.getElementById('f5da7149-b314-4b5f-a108-dfc9a8da7c7a');\n",
              "var x = new MutationObserver(function (mutations, observer) {{\n",
              "        var display = window.getComputedStyle(gd).display;\n",
              "        if (!display || display === 'none') {{\n",
              "            console.log([gd, 'removed!']);\n",
              "            Plotly.purge(gd);\n",
              "            observer.disconnect();\n",
              "        }}\n",
              "}});\n",
              "\n",
              "// Listen for the removal of the full notebook cells\n",
              "var notebookContainer = gd.closest('#notebook-container');\n",
              "if (notebookContainer) {{\n",
              "    x.observe(notebookContainer, {childList: true});\n",
              "}}\n",
              "\n",
              "// Listen for the clearing of the current output cell\n",
              "var outputEl = gd.closest('.output');\n",
              "if (outputEl) {{\n",
              "    x.observe(outputEl, {childList: true});\n",
              "}}\n",
              "\n",
              "                        })                };                            </script>        </div>\n",
              "</body>\n",
              "</html>"
            ]
          },
          "metadata": {}
        }
      ]
    },
    {
      "cell_type": "code",
      "source": [
        "# Exploracion de la cartera ¿Prescindirías de algún SKU? ¿Por qué?\n",
        "fig = px.treemap(df_real_nm, \n",
        "                 path=['Familia','Sub-Familia', 'Marca'], \n",
        "                 values='CANTIDAD',\n",
        "                 color='Utilidad',\n",
        "                 color_continuous_scale='RdBu'\n",
        "                )\n",
        "fig.show()"
      ],
      "metadata": {
        "id": "lrV8wOMj51Bt",
        "colab": {
          "base_uri": "https://localhost:8080/",
          "height": 542
        },
        "outputId": "da314a89-1a3b-48d7-8ff2-df29ede56e20"
      },
      "execution_count": null,
      "outputs": [
        {
          "output_type": "display_data",
          "data": {
            "text/html": [
              "<html>\n",
              "<head><meta charset=\"utf-8\" /></head>\n",
              "<body>\n",
              "    <div>            <script src=\"https://cdnjs.cloudflare.com/ajax/libs/mathjax/2.7.5/MathJax.js?config=TeX-AMS-MML_SVG\"></script><script type=\"text/javascript\">if (window.MathJax) {MathJax.Hub.Config({SVG: {font: \"STIX-Web\"}});}</script>                <script type=\"text/javascript\">window.PlotlyConfig = {MathJaxConfig: 'local'};</script>\n",
              "        <script src=\"https://cdn.plot.ly/plotly-2.8.3.min.js\"></script>                <div id=\"ca1020cb-b23c-4a82-bb01-73edc4f3ff9c\" class=\"plotly-graph-div\" style=\"height:525px; width:100%;\"></div>            <script type=\"text/javascript\">                                    window.PLOTLYENV=window.PLOTLYENV || {};                                    if (document.getElementById(\"ca1020cb-b23c-4a82-bb01-73edc4f3ff9c\")) {                    Plotly.newPlot(                        \"ca1020cb-b23c-4a82-bb01-73edc4f3ff9c\",                        [{\"branchvalues\":\"total\",\"customdata\":[[63.58601338117949],[700.6670430503146],[542.7607249813875],[472.26711231537234],[350.0216436226622],[408.3195957777183],[586.2908401994952],[1090.627451571032],[912.343677252764],[672.9368613796386],[443.029020745735],[219.1552382312483],[63.58601338117949],[661.7862184965976],[910.6262212273489],[432.6843168604134],[672.9368613796386],[350.0216436226622],[408.3195957777183],[586.2908401994952],[1090.627451571032],[416.84218643646494],[713.497979100398],[672.9368613796386]],\"domain\":{\"x\":[0.0,1.0],\"y\":[0.0,1.0]},\"hovertemplate\":\"labels=%{label}<br>CANTIDAD=%{value}<br>parent=%{parent}<br>id=%{id}<br>Utilidad=%{color}<extra></extra>\",\"ids\":[\"GASIFICADA/BITTER/BENEDICTINO\",\"MINERAL/GASIFICADA/BENEDICTINO\",\"MINERAL/MINERAL/BENEDICTINO\",\"GASIFICADA/REGULAR/BENEDICTINO\",\"GASIFICADA/SABORIZADA/BENEDICTINO\",\"MINERAL/SABORIZADA/BENEDICTINO\",\"GASIFICADA/TONICA/BENEDICTINO\",\"MINERAL/TONICA/BENEDICTINO\",\"MINERAL/MINERAL/CREMATTA\",\"SIN GAS/REGULAR/CREMATTA\",\"MINERAL/GASIFICADA/TERG\\u00c8ZE\",\"GASIFICADA/REGULAR/TERG\\u00c8ZE\",\"GASIFICADA/BITTER\",\"MINERAL/GASIFICADA\",\"MINERAL/MINERAL\",\"GASIFICADA/REGULAR\",\"SIN GAS/REGULAR\",\"GASIFICADA/SABORIZADA\",\"MINERAL/SABORIZADA\",\"GASIFICADA/TONICA\",\"MINERAL/TONICA\",\"GASIFICADA\",\"MINERAL\",\"SIN GAS\"],\"labels\":[\"BENEDICTINO\",\"BENEDICTINO\",\"BENEDICTINO\",\"BENEDICTINO\",\"BENEDICTINO\",\"BENEDICTINO\",\"BENEDICTINO\",\"BENEDICTINO\",\"CREMATTA\",\"CREMATTA\",\"TERG\\u00c8ZE\",\"TERG\\u00c8ZE\",\"BITTER\",\"GASIFICADA\",\"MINERAL\",\"REGULAR\",\"REGULAR\",\"SABORIZADA\",\"SABORIZADA\",\"TONICA\",\"TONICA\",\"GASIFICADA\",\"MINERAL\",\"SIN GAS\"],\"marker\":{\"coloraxis\":\"coloraxis\",\"colors\":[63.58601338117949,700.6670430503146,542.7607249813875,472.26711231537234,350.0216436226622,408.3195957777183,586.2908401994952,1090.627451571032,912.343677252764,672.9368613796386,443.029020745735,219.1552382312483,63.58601338117949,661.7862184965976,910.6262212273489,432.6843168604134,672.9368613796386,350.0216436226622,408.3195957777183,586.2908401994952,1090.627451571032,416.84218643646494,713.497979100398,672.9368613796386]},\"name\":\"\",\"parents\":[\"GASIFICADA/BITTER\",\"MINERAL/GASIFICADA\",\"MINERAL/MINERAL\",\"GASIFICADA/REGULAR\",\"GASIFICADA/SABORIZADA\",\"MINERAL/SABORIZADA\",\"GASIFICADA/TONICA\",\"MINERAL/TONICA\",\"MINERAL/MINERAL\",\"SIN GAS/REGULAR\",\"MINERAL/GASIFICADA\",\"GASIFICADA/REGULAR\",\"GASIFICADA\",\"MINERAL\",\"MINERAL\",\"GASIFICADA\",\"SIN GAS\",\"GASIFICADA\",\"MINERAL\",\"GASIFICADA\",\"MINERAL\",\"\",\"\",\"\"],\"values\":[234.0,164402.0,885.0,60332.0,31461.0,115828.0,6208.0,20732.0,189560.0,75535.0,29220.0,11184.0,234.0,193622.0,190445.0,71516.0,75535.0,31461.0,115828.0,6208.0,20732.0,109419.0,520627.0,75535.0],\"type\":\"treemap\"}],                        {\"template\":{\"data\":{\"bar\":[{\"error_x\":{\"color\":\"#2a3f5f\"},\"error_y\":{\"color\":\"#2a3f5f\"},\"marker\":{\"line\":{\"color\":\"#E5ECF6\",\"width\":0.5},\"pattern\":{\"fillmode\":\"overlay\",\"size\":10,\"solidity\":0.2}},\"type\":\"bar\"}],\"barpolar\":[{\"marker\":{\"line\":{\"color\":\"#E5ECF6\",\"width\":0.5},\"pattern\":{\"fillmode\":\"overlay\",\"size\":10,\"solidity\":0.2}},\"type\":\"barpolar\"}],\"carpet\":[{\"aaxis\":{\"endlinecolor\":\"#2a3f5f\",\"gridcolor\":\"white\",\"linecolor\":\"white\",\"minorgridcolor\":\"white\",\"startlinecolor\":\"#2a3f5f\"},\"baxis\":{\"endlinecolor\":\"#2a3f5f\",\"gridcolor\":\"white\",\"linecolor\":\"white\",\"minorgridcolor\":\"white\",\"startlinecolor\":\"#2a3f5f\"},\"type\":\"carpet\"}],\"choropleth\":[{\"colorbar\":{\"outlinewidth\":0,\"ticks\":\"\"},\"type\":\"choropleth\"}],\"contour\":[{\"colorbar\":{\"outlinewidth\":0,\"ticks\":\"\"},\"colorscale\":[[0.0,\"#0d0887\"],[0.1111111111111111,\"#46039f\"],[0.2222222222222222,\"#7201a8\"],[0.3333333333333333,\"#9c179e\"],[0.4444444444444444,\"#bd3786\"],[0.5555555555555556,\"#d8576b\"],[0.6666666666666666,\"#ed7953\"],[0.7777777777777778,\"#fb9f3a\"],[0.8888888888888888,\"#fdca26\"],[1.0,\"#f0f921\"]],\"type\":\"contour\"}],\"contourcarpet\":[{\"colorbar\":{\"outlinewidth\":0,\"ticks\":\"\"},\"type\":\"contourcarpet\"}],\"heatmap\":[{\"colorbar\":{\"outlinewidth\":0,\"ticks\":\"\"},\"colorscale\":[[0.0,\"#0d0887\"],[0.1111111111111111,\"#46039f\"],[0.2222222222222222,\"#7201a8\"],[0.3333333333333333,\"#9c179e\"],[0.4444444444444444,\"#bd3786\"],[0.5555555555555556,\"#d8576b\"],[0.6666666666666666,\"#ed7953\"],[0.7777777777777778,\"#fb9f3a\"],[0.8888888888888888,\"#fdca26\"],[1.0,\"#f0f921\"]],\"type\":\"heatmap\"}],\"heatmapgl\":[{\"colorbar\":{\"outlinewidth\":0,\"ticks\":\"\"},\"colorscale\":[[0.0,\"#0d0887\"],[0.1111111111111111,\"#46039f\"],[0.2222222222222222,\"#7201a8\"],[0.3333333333333333,\"#9c179e\"],[0.4444444444444444,\"#bd3786\"],[0.5555555555555556,\"#d8576b\"],[0.6666666666666666,\"#ed7953\"],[0.7777777777777778,\"#fb9f3a\"],[0.8888888888888888,\"#fdca26\"],[1.0,\"#f0f921\"]],\"type\":\"heatmapgl\"}],\"histogram\":[{\"marker\":{\"pattern\":{\"fillmode\":\"overlay\",\"size\":10,\"solidity\":0.2}},\"type\":\"histogram\"}],\"histogram2d\":[{\"colorbar\":{\"outlinewidth\":0,\"ticks\":\"\"},\"colorscale\":[[0.0,\"#0d0887\"],[0.1111111111111111,\"#46039f\"],[0.2222222222222222,\"#7201a8\"],[0.3333333333333333,\"#9c179e\"],[0.4444444444444444,\"#bd3786\"],[0.5555555555555556,\"#d8576b\"],[0.6666666666666666,\"#ed7953\"],[0.7777777777777778,\"#fb9f3a\"],[0.8888888888888888,\"#fdca26\"],[1.0,\"#f0f921\"]],\"type\":\"histogram2d\"}],\"histogram2dcontour\":[{\"colorbar\":{\"outlinewidth\":0,\"ticks\":\"\"},\"colorscale\":[[0.0,\"#0d0887\"],[0.1111111111111111,\"#46039f\"],[0.2222222222222222,\"#7201a8\"],[0.3333333333333333,\"#9c179e\"],[0.4444444444444444,\"#bd3786\"],[0.5555555555555556,\"#d8576b\"],[0.6666666666666666,\"#ed7953\"],[0.7777777777777778,\"#fb9f3a\"],[0.8888888888888888,\"#fdca26\"],[1.0,\"#f0f921\"]],\"type\":\"histogram2dcontour\"}],\"mesh3d\":[{\"colorbar\":{\"outlinewidth\":0,\"ticks\":\"\"},\"type\":\"mesh3d\"}],\"parcoords\":[{\"line\":{\"colorbar\":{\"outlinewidth\":0,\"ticks\":\"\"}},\"type\":\"parcoords\"}],\"pie\":[{\"automargin\":true,\"type\":\"pie\"}],\"scatter\":[{\"marker\":{\"colorbar\":{\"outlinewidth\":0,\"ticks\":\"\"}},\"type\":\"scatter\"}],\"scatter3d\":[{\"line\":{\"colorbar\":{\"outlinewidth\":0,\"ticks\":\"\"}},\"marker\":{\"colorbar\":{\"outlinewidth\":0,\"ticks\":\"\"}},\"type\":\"scatter3d\"}],\"scattercarpet\":[{\"marker\":{\"colorbar\":{\"outlinewidth\":0,\"ticks\":\"\"}},\"type\":\"scattercarpet\"}],\"scattergeo\":[{\"marker\":{\"colorbar\":{\"outlinewidth\":0,\"ticks\":\"\"}},\"type\":\"scattergeo\"}],\"scattergl\":[{\"marker\":{\"colorbar\":{\"outlinewidth\":0,\"ticks\":\"\"}},\"type\":\"scattergl\"}],\"scattermapbox\":[{\"marker\":{\"colorbar\":{\"outlinewidth\":0,\"ticks\":\"\"}},\"type\":\"scattermapbox\"}],\"scatterpolar\":[{\"marker\":{\"colorbar\":{\"outlinewidth\":0,\"ticks\":\"\"}},\"type\":\"scatterpolar\"}],\"scatterpolargl\":[{\"marker\":{\"colorbar\":{\"outlinewidth\":0,\"ticks\":\"\"}},\"type\":\"scatterpolargl\"}],\"scatterternary\":[{\"marker\":{\"colorbar\":{\"outlinewidth\":0,\"ticks\":\"\"}},\"type\":\"scatterternary\"}],\"surface\":[{\"colorbar\":{\"outlinewidth\":0,\"ticks\":\"\"},\"colorscale\":[[0.0,\"#0d0887\"],[0.1111111111111111,\"#46039f\"],[0.2222222222222222,\"#7201a8\"],[0.3333333333333333,\"#9c179e\"],[0.4444444444444444,\"#bd3786\"],[0.5555555555555556,\"#d8576b\"],[0.6666666666666666,\"#ed7953\"],[0.7777777777777778,\"#fb9f3a\"],[0.8888888888888888,\"#fdca26\"],[1.0,\"#f0f921\"]],\"type\":\"surface\"}],\"table\":[{\"cells\":{\"fill\":{\"color\":\"#EBF0F8\"},\"line\":{\"color\":\"white\"}},\"header\":{\"fill\":{\"color\":\"#C8D4E3\"},\"line\":{\"color\":\"white\"}},\"type\":\"table\"}]},\"layout\":{\"annotationdefaults\":{\"arrowcolor\":\"#2a3f5f\",\"arrowhead\":0,\"arrowwidth\":1},\"autotypenumbers\":\"strict\",\"coloraxis\":{\"colorbar\":{\"outlinewidth\":0,\"ticks\":\"\"}},\"colorscale\":{\"diverging\":[[0,\"#8e0152\"],[0.1,\"#c51b7d\"],[0.2,\"#de77ae\"],[0.3,\"#f1b6da\"],[0.4,\"#fde0ef\"],[0.5,\"#f7f7f7\"],[0.6,\"#e6f5d0\"],[0.7,\"#b8e186\"],[0.8,\"#7fbc41\"],[0.9,\"#4d9221\"],[1,\"#276419\"]],\"sequential\":[[0.0,\"#0d0887\"],[0.1111111111111111,\"#46039f\"],[0.2222222222222222,\"#7201a8\"],[0.3333333333333333,\"#9c179e\"],[0.4444444444444444,\"#bd3786\"],[0.5555555555555556,\"#d8576b\"],[0.6666666666666666,\"#ed7953\"],[0.7777777777777778,\"#fb9f3a\"],[0.8888888888888888,\"#fdca26\"],[1.0,\"#f0f921\"]],\"sequentialminus\":[[0.0,\"#0d0887\"],[0.1111111111111111,\"#46039f\"],[0.2222222222222222,\"#7201a8\"],[0.3333333333333333,\"#9c179e\"],[0.4444444444444444,\"#bd3786\"],[0.5555555555555556,\"#d8576b\"],[0.6666666666666666,\"#ed7953\"],[0.7777777777777778,\"#fb9f3a\"],[0.8888888888888888,\"#fdca26\"],[1.0,\"#f0f921\"]]},\"colorway\":[\"#636efa\",\"#EF553B\",\"#00cc96\",\"#ab63fa\",\"#FFA15A\",\"#19d3f3\",\"#FF6692\",\"#B6E880\",\"#FF97FF\",\"#FECB52\"],\"font\":{\"color\":\"#2a3f5f\"},\"geo\":{\"bgcolor\":\"white\",\"lakecolor\":\"white\",\"landcolor\":\"#E5ECF6\",\"showlakes\":true,\"showland\":true,\"subunitcolor\":\"white\"},\"hoverlabel\":{\"align\":\"left\"},\"hovermode\":\"closest\",\"mapbox\":{\"style\":\"light\"},\"paper_bgcolor\":\"white\",\"plot_bgcolor\":\"#E5ECF6\",\"polar\":{\"angularaxis\":{\"gridcolor\":\"white\",\"linecolor\":\"white\",\"ticks\":\"\"},\"bgcolor\":\"#E5ECF6\",\"radialaxis\":{\"gridcolor\":\"white\",\"linecolor\":\"white\",\"ticks\":\"\"}},\"scene\":{\"xaxis\":{\"backgroundcolor\":\"#E5ECF6\",\"gridcolor\":\"white\",\"gridwidth\":2,\"linecolor\":\"white\",\"showbackground\":true,\"ticks\":\"\",\"zerolinecolor\":\"white\"},\"yaxis\":{\"backgroundcolor\":\"#E5ECF6\",\"gridcolor\":\"white\",\"gridwidth\":2,\"linecolor\":\"white\",\"showbackground\":true,\"ticks\":\"\",\"zerolinecolor\":\"white\"},\"zaxis\":{\"backgroundcolor\":\"#E5ECF6\",\"gridcolor\":\"white\",\"gridwidth\":2,\"linecolor\":\"white\",\"showbackground\":true,\"ticks\":\"\",\"zerolinecolor\":\"white\"}},\"shapedefaults\":{\"line\":{\"color\":\"#2a3f5f\"}},\"ternary\":{\"aaxis\":{\"gridcolor\":\"white\",\"linecolor\":\"white\",\"ticks\":\"\"},\"baxis\":{\"gridcolor\":\"white\",\"linecolor\":\"white\",\"ticks\":\"\"},\"bgcolor\":\"#E5ECF6\",\"caxis\":{\"gridcolor\":\"white\",\"linecolor\":\"white\",\"ticks\":\"\"}},\"title\":{\"x\":0.05},\"xaxis\":{\"automargin\":true,\"gridcolor\":\"white\",\"linecolor\":\"white\",\"ticks\":\"\",\"title\":{\"standoff\":15},\"zerolinecolor\":\"white\",\"zerolinewidth\":2},\"yaxis\":{\"automargin\":true,\"gridcolor\":\"white\",\"linecolor\":\"white\",\"ticks\":\"\",\"title\":{\"standoff\":15},\"zerolinecolor\":\"white\",\"zerolinewidth\":2}}},\"coloraxis\":{\"colorbar\":{\"title\":{\"text\":\"Utilidad\"}},\"colorscale\":[[0.0,\"rgb(103,0,31)\"],[0.1,\"rgb(178,24,43)\"],[0.2,\"rgb(214,96,77)\"],[0.3,\"rgb(244,165,130)\"],[0.4,\"rgb(253,219,199)\"],[0.5,\"rgb(247,247,247)\"],[0.6,\"rgb(209,229,240)\"],[0.7,\"rgb(146,197,222)\"],[0.8,\"rgb(67,147,195)\"],[0.9,\"rgb(33,102,172)\"],[1.0,\"rgb(5,48,97)\"]]},\"legend\":{\"tracegroupgap\":0},\"margin\":{\"t\":60}},                        {\"responsive\": true}                    ).then(function(){\n",
              "                            \n",
              "var gd = document.getElementById('ca1020cb-b23c-4a82-bb01-73edc4f3ff9c');\n",
              "var x = new MutationObserver(function (mutations, observer) {{\n",
              "        var display = window.getComputedStyle(gd).display;\n",
              "        if (!display || display === 'none') {{\n",
              "            console.log([gd, 'removed!']);\n",
              "            Plotly.purge(gd);\n",
              "            observer.disconnect();\n",
              "        }}\n",
              "}});\n",
              "\n",
              "// Listen for the removal of the full notebook cells\n",
              "var notebookContainer = gd.closest('#notebook-container');\n",
              "if (notebookContainer) {{\n",
              "    x.observe(notebookContainer, {childList: true});\n",
              "}}\n",
              "\n",
              "// Listen for the clearing of the current output cell\n",
              "var outputEl = gd.closest('.output');\n",
              "if (outputEl) {{\n",
              "    x.observe(outputEl, {childList: true});\n",
              "}}\n",
              "\n",
              "                        })                };                            </script>        </div>\n",
              "</body>\n",
              "</html>"
            ]
          },
          "metadata": {}
        }
      ]
    },
    {
      "cell_type": "code",
      "source": [
        "# ¿Cuáles canales de venta son los más relevantes para la categoría? \n",
        "fig = px.treemap(df_real_nm, \n",
        "                 path=['NUEVO CANAL','Sub-Familia'], \n",
        "                 values='Utilidad'\n",
        "                )\n",
        "fig.show()"
      ],
      "metadata": {
        "id": "bw7xjbWPE11k",
        "colab": {
          "base_uri": "https://localhost:8080/",
          "height": 542
        },
        "outputId": "30ba8323-4885-4a44-f561-7457c6d53468"
      },
      "execution_count": null,
      "outputs": [
        {
          "output_type": "display_data",
          "data": {
            "text/html": [
              "<html>\n",
              "<head><meta charset=\"utf-8\" /></head>\n",
              "<body>\n",
              "    <div>            <script src=\"https://cdnjs.cloudflare.com/ajax/libs/mathjax/2.7.5/MathJax.js?config=TeX-AMS-MML_SVG\"></script><script type=\"text/javascript\">if (window.MathJax) {MathJax.Hub.Config({SVG: {font: \"STIX-Web\"}});}</script>                <script type=\"text/javascript\">window.PlotlyConfig = {MathJaxConfig: 'local'};</script>\n",
              "        <script src=\"https://cdn.plot.ly/plotly-2.8.3.min.js\"></script>                <div id=\"47675cee-23d2-4d5c-9716-ae0dd9c4e3dc\" class=\"plotly-graph-div\" style=\"height:525px; width:100%;\"></div>            <script type=\"text/javascript\">                                    window.PLOTLYENV=window.PLOTLYENV || {};                                    if (document.getElementById(\"47675cee-23d2-4d5c-9716-ae0dd9c4e3dc\")) {                    Plotly.newPlot(                        \"47675cee-23d2-4d5c-9716-ae0dd9c4e3dc\",                        [{\"branchvalues\":\"total\",\"domain\":{\"x\":[0.0,1.0],\"y\":[0.0,1.0]},\"hovertemplate\":\"labels=%{label}<br>Utilidad=%{value}<br>parent=%{parent}<br>id=%{id}<extra></extra>\",\"ids\":[\"CLF/BITTER\",\"HRC/BITTER\",\"TDG/BITTER\",\"CLF/GASIFICADA\",\"CODISTRIBUCI\\u00d3N/GASIFICADA\",\"DIS/GASIFICADA\",\"HRC/GASIFICADA\",\"HRC-ILLY/GASIFICADA\",\"SPM/GASIFICADA\",\"TDG/GASIFICADA\",\"CLF/MINERAL\",\"CODISTRIBUCI\\u00d3N/MINERAL\",\"DIS/MINERAL\",\"HRC/MINERAL\",\"HRC-ILLY/MINERAL\",\"SPM/MINERAL\",\"TDG/MINERAL\",\"CLF/REGULAR\",\"DIS/REGULAR\",\"HRC/REGULAR\",\"HRC-ILLY/REGULAR\",\"SPM/REGULAR\",\"TDG/REGULAR\",\"CLF/SABORIZADA\",\"CODISTRIBUCI\\u00d3N/SABORIZADA\",\"DIS/SABORIZADA\",\"HRC/SABORIZADA\",\"HRC-ILLY/SABORIZADA\",\"SPM/SABORIZADA\",\"TDG/SABORIZADA\",\"CLF/TONICA\",\"CODISTRIBUCI\\u00d3N/TONICA\",\"DIS/TONICA\",\"HRC/TONICA\",\"HRC-ILLY/TONICA\",\"SPM/TONICA\",\"TDG/TONICA\",\"CLF\",\"CODISTRIBUCI\\u00d3N\",\"DIS\",\"HRC\",\"HRC-ILLY\",\"SPM\",\"TDG\"],\"labels\":[\"BITTER\",\"BITTER\",\"BITTER\",\"GASIFICADA\",\"GASIFICADA\",\"GASIFICADA\",\"GASIFICADA\",\"GASIFICADA\",\"GASIFICADA\",\"GASIFICADA\",\"MINERAL\",\"MINERAL\",\"MINERAL\",\"MINERAL\",\"MINERAL\",\"MINERAL\",\"MINERAL\",\"REGULAR\",\"REGULAR\",\"REGULAR\",\"REGULAR\",\"REGULAR\",\"REGULAR\",\"SABORIZADA\",\"SABORIZADA\",\"SABORIZADA\",\"SABORIZADA\",\"SABORIZADA\",\"SABORIZADA\",\"SABORIZADA\",\"TONICA\",\"TONICA\",\"TONICA\",\"TONICA\",\"TONICA\",\"TONICA\",\"TONICA\",\"CLF\",\"CODISTRIBUCI\\u00d3N\",\"DIS\",\"HRC\",\"HRC-ILLY\",\"SPM\",\"TDG\"],\"name\":\"\",\"parents\":[\"CLF\",\"HRC\",\"TDG\",\"CLF\",\"CODISTRIBUCI\\u00d3N\",\"DIS\",\"HRC\",\"HRC-ILLY\",\"SPM\",\"TDG\",\"CLF\",\"CODISTRIBUCI\\u00d3N\",\"DIS\",\"HRC\",\"HRC-ILLY\",\"SPM\",\"TDG\",\"CLF\",\"DIS\",\"HRC\",\"HRC-ILLY\",\"SPM\",\"TDG\",\"CLF\",\"CODISTRIBUCI\\u00d3N\",\"DIS\",\"HRC\",\"HRC-ILLY\",\"SPM\",\"TDG\",\"CLF\",\"CODISTRIBUCI\\u00d3N\",\"DIS\",\"HRC\",\"HRC-ILLY\",\"SPM\",\"TDG\",\"\",\"\",\"\",\"\",\"\",\"\",\"\"],\"values\":[520.608016484,213.430515623,95.166493059,59108.842616835,121.35405584499999,56564.498381831,304220.38579634903,7410.592088307,98499.315697527,9620.676011797,48063.138034137,192.91940212400002,67837.177558013,406615.95271185803,8670.101827024,36149.180993721,1030.2671643850001,45471.497333515,46383.382627918996,275973.635761157,7002.528695586,47563.683961999,4817.576017586,73145.713632104,312.931890693,28659.132001425998,23442.433017917,13637.734415532,270314.023853929,32277.013649054,39792.019432255,9.508129135,1172.162752249,1937.0081307970001,122.61811258600001,32569.977254325,1812.480262266,266101.81906533,636.713477797,200616.353321438,1012402.845933701,36843.575139035,485096.181761501,49653.179598147],\"type\":\"treemap\"}],                        {\"template\":{\"data\":{\"bar\":[{\"error_x\":{\"color\":\"#2a3f5f\"},\"error_y\":{\"color\":\"#2a3f5f\"},\"marker\":{\"line\":{\"color\":\"#E5ECF6\",\"width\":0.5},\"pattern\":{\"fillmode\":\"overlay\",\"size\":10,\"solidity\":0.2}},\"type\":\"bar\"}],\"barpolar\":[{\"marker\":{\"line\":{\"color\":\"#E5ECF6\",\"width\":0.5},\"pattern\":{\"fillmode\":\"overlay\",\"size\":10,\"solidity\":0.2}},\"type\":\"barpolar\"}],\"carpet\":[{\"aaxis\":{\"endlinecolor\":\"#2a3f5f\",\"gridcolor\":\"white\",\"linecolor\":\"white\",\"minorgridcolor\":\"white\",\"startlinecolor\":\"#2a3f5f\"},\"baxis\":{\"endlinecolor\":\"#2a3f5f\",\"gridcolor\":\"white\",\"linecolor\":\"white\",\"minorgridcolor\":\"white\",\"startlinecolor\":\"#2a3f5f\"},\"type\":\"carpet\"}],\"choropleth\":[{\"colorbar\":{\"outlinewidth\":0,\"ticks\":\"\"},\"type\":\"choropleth\"}],\"contour\":[{\"colorbar\":{\"outlinewidth\":0,\"ticks\":\"\"},\"colorscale\":[[0.0,\"#0d0887\"],[0.1111111111111111,\"#46039f\"],[0.2222222222222222,\"#7201a8\"],[0.3333333333333333,\"#9c179e\"],[0.4444444444444444,\"#bd3786\"],[0.5555555555555556,\"#d8576b\"],[0.6666666666666666,\"#ed7953\"],[0.7777777777777778,\"#fb9f3a\"],[0.8888888888888888,\"#fdca26\"],[1.0,\"#f0f921\"]],\"type\":\"contour\"}],\"contourcarpet\":[{\"colorbar\":{\"outlinewidth\":0,\"ticks\":\"\"},\"type\":\"contourcarpet\"}],\"heatmap\":[{\"colorbar\":{\"outlinewidth\":0,\"ticks\":\"\"},\"colorscale\":[[0.0,\"#0d0887\"],[0.1111111111111111,\"#46039f\"],[0.2222222222222222,\"#7201a8\"],[0.3333333333333333,\"#9c179e\"],[0.4444444444444444,\"#bd3786\"],[0.5555555555555556,\"#d8576b\"],[0.6666666666666666,\"#ed7953\"],[0.7777777777777778,\"#fb9f3a\"],[0.8888888888888888,\"#fdca26\"],[1.0,\"#f0f921\"]],\"type\":\"heatmap\"}],\"heatmapgl\":[{\"colorbar\":{\"outlinewidth\":0,\"ticks\":\"\"},\"colorscale\":[[0.0,\"#0d0887\"],[0.1111111111111111,\"#46039f\"],[0.2222222222222222,\"#7201a8\"],[0.3333333333333333,\"#9c179e\"],[0.4444444444444444,\"#bd3786\"],[0.5555555555555556,\"#d8576b\"],[0.6666666666666666,\"#ed7953\"],[0.7777777777777778,\"#fb9f3a\"],[0.8888888888888888,\"#fdca26\"],[1.0,\"#f0f921\"]],\"type\":\"heatmapgl\"}],\"histogram\":[{\"marker\":{\"pattern\":{\"fillmode\":\"overlay\",\"size\":10,\"solidity\":0.2}},\"type\":\"histogram\"}],\"histogram2d\":[{\"colorbar\":{\"outlinewidth\":0,\"ticks\":\"\"},\"colorscale\":[[0.0,\"#0d0887\"],[0.1111111111111111,\"#46039f\"],[0.2222222222222222,\"#7201a8\"],[0.3333333333333333,\"#9c179e\"],[0.4444444444444444,\"#bd3786\"],[0.5555555555555556,\"#d8576b\"],[0.6666666666666666,\"#ed7953\"],[0.7777777777777778,\"#fb9f3a\"],[0.8888888888888888,\"#fdca26\"],[1.0,\"#f0f921\"]],\"type\":\"histogram2d\"}],\"histogram2dcontour\":[{\"colorbar\":{\"outlinewidth\":0,\"ticks\":\"\"},\"colorscale\":[[0.0,\"#0d0887\"],[0.1111111111111111,\"#46039f\"],[0.2222222222222222,\"#7201a8\"],[0.3333333333333333,\"#9c179e\"],[0.4444444444444444,\"#bd3786\"],[0.5555555555555556,\"#d8576b\"],[0.6666666666666666,\"#ed7953\"],[0.7777777777777778,\"#fb9f3a\"],[0.8888888888888888,\"#fdca26\"],[1.0,\"#f0f921\"]],\"type\":\"histogram2dcontour\"}],\"mesh3d\":[{\"colorbar\":{\"outlinewidth\":0,\"ticks\":\"\"},\"type\":\"mesh3d\"}],\"parcoords\":[{\"line\":{\"colorbar\":{\"outlinewidth\":0,\"ticks\":\"\"}},\"type\":\"parcoords\"}],\"pie\":[{\"automargin\":true,\"type\":\"pie\"}],\"scatter\":[{\"marker\":{\"colorbar\":{\"outlinewidth\":0,\"ticks\":\"\"}},\"type\":\"scatter\"}],\"scatter3d\":[{\"line\":{\"colorbar\":{\"outlinewidth\":0,\"ticks\":\"\"}},\"marker\":{\"colorbar\":{\"outlinewidth\":0,\"ticks\":\"\"}},\"type\":\"scatter3d\"}],\"scattercarpet\":[{\"marker\":{\"colorbar\":{\"outlinewidth\":0,\"ticks\":\"\"}},\"type\":\"scattercarpet\"}],\"scattergeo\":[{\"marker\":{\"colorbar\":{\"outlinewidth\":0,\"ticks\":\"\"}},\"type\":\"scattergeo\"}],\"scattergl\":[{\"marker\":{\"colorbar\":{\"outlinewidth\":0,\"ticks\":\"\"}},\"type\":\"scattergl\"}],\"scattermapbox\":[{\"marker\":{\"colorbar\":{\"outlinewidth\":0,\"ticks\":\"\"}},\"type\":\"scattermapbox\"}],\"scatterpolar\":[{\"marker\":{\"colorbar\":{\"outlinewidth\":0,\"ticks\":\"\"}},\"type\":\"scatterpolar\"}],\"scatterpolargl\":[{\"marker\":{\"colorbar\":{\"outlinewidth\":0,\"ticks\":\"\"}},\"type\":\"scatterpolargl\"}],\"scatterternary\":[{\"marker\":{\"colorbar\":{\"outlinewidth\":0,\"ticks\":\"\"}},\"type\":\"scatterternary\"}],\"surface\":[{\"colorbar\":{\"outlinewidth\":0,\"ticks\":\"\"},\"colorscale\":[[0.0,\"#0d0887\"],[0.1111111111111111,\"#46039f\"],[0.2222222222222222,\"#7201a8\"],[0.3333333333333333,\"#9c179e\"],[0.4444444444444444,\"#bd3786\"],[0.5555555555555556,\"#d8576b\"],[0.6666666666666666,\"#ed7953\"],[0.7777777777777778,\"#fb9f3a\"],[0.8888888888888888,\"#fdca26\"],[1.0,\"#f0f921\"]],\"type\":\"surface\"}],\"table\":[{\"cells\":{\"fill\":{\"color\":\"#EBF0F8\"},\"line\":{\"color\":\"white\"}},\"header\":{\"fill\":{\"color\":\"#C8D4E3\"},\"line\":{\"color\":\"white\"}},\"type\":\"table\"}]},\"layout\":{\"annotationdefaults\":{\"arrowcolor\":\"#2a3f5f\",\"arrowhead\":0,\"arrowwidth\":1},\"autotypenumbers\":\"strict\",\"coloraxis\":{\"colorbar\":{\"outlinewidth\":0,\"ticks\":\"\"}},\"colorscale\":{\"diverging\":[[0,\"#8e0152\"],[0.1,\"#c51b7d\"],[0.2,\"#de77ae\"],[0.3,\"#f1b6da\"],[0.4,\"#fde0ef\"],[0.5,\"#f7f7f7\"],[0.6,\"#e6f5d0\"],[0.7,\"#b8e186\"],[0.8,\"#7fbc41\"],[0.9,\"#4d9221\"],[1,\"#276419\"]],\"sequential\":[[0.0,\"#0d0887\"],[0.1111111111111111,\"#46039f\"],[0.2222222222222222,\"#7201a8\"],[0.3333333333333333,\"#9c179e\"],[0.4444444444444444,\"#bd3786\"],[0.5555555555555556,\"#d8576b\"],[0.6666666666666666,\"#ed7953\"],[0.7777777777777778,\"#fb9f3a\"],[0.8888888888888888,\"#fdca26\"],[1.0,\"#f0f921\"]],\"sequentialminus\":[[0.0,\"#0d0887\"],[0.1111111111111111,\"#46039f\"],[0.2222222222222222,\"#7201a8\"],[0.3333333333333333,\"#9c179e\"],[0.4444444444444444,\"#bd3786\"],[0.5555555555555556,\"#d8576b\"],[0.6666666666666666,\"#ed7953\"],[0.7777777777777778,\"#fb9f3a\"],[0.8888888888888888,\"#fdca26\"],[1.0,\"#f0f921\"]]},\"colorway\":[\"#636efa\",\"#EF553B\",\"#00cc96\",\"#ab63fa\",\"#FFA15A\",\"#19d3f3\",\"#FF6692\",\"#B6E880\",\"#FF97FF\",\"#FECB52\"],\"font\":{\"color\":\"#2a3f5f\"},\"geo\":{\"bgcolor\":\"white\",\"lakecolor\":\"white\",\"landcolor\":\"#E5ECF6\",\"showlakes\":true,\"showland\":true,\"subunitcolor\":\"white\"},\"hoverlabel\":{\"align\":\"left\"},\"hovermode\":\"closest\",\"mapbox\":{\"style\":\"light\"},\"paper_bgcolor\":\"white\",\"plot_bgcolor\":\"#E5ECF6\",\"polar\":{\"angularaxis\":{\"gridcolor\":\"white\",\"linecolor\":\"white\",\"ticks\":\"\"},\"bgcolor\":\"#E5ECF6\",\"radialaxis\":{\"gridcolor\":\"white\",\"linecolor\":\"white\",\"ticks\":\"\"}},\"scene\":{\"xaxis\":{\"backgroundcolor\":\"#E5ECF6\",\"gridcolor\":\"white\",\"gridwidth\":2,\"linecolor\":\"white\",\"showbackground\":true,\"ticks\":\"\",\"zerolinecolor\":\"white\"},\"yaxis\":{\"backgroundcolor\":\"#E5ECF6\",\"gridcolor\":\"white\",\"gridwidth\":2,\"linecolor\":\"white\",\"showbackground\":true,\"ticks\":\"\",\"zerolinecolor\":\"white\"},\"zaxis\":{\"backgroundcolor\":\"#E5ECF6\",\"gridcolor\":\"white\",\"gridwidth\":2,\"linecolor\":\"white\",\"showbackground\":true,\"ticks\":\"\",\"zerolinecolor\":\"white\"}},\"shapedefaults\":{\"line\":{\"color\":\"#2a3f5f\"}},\"ternary\":{\"aaxis\":{\"gridcolor\":\"white\",\"linecolor\":\"white\",\"ticks\":\"\"},\"baxis\":{\"gridcolor\":\"white\",\"linecolor\":\"white\",\"ticks\":\"\"},\"bgcolor\":\"#E5ECF6\",\"caxis\":{\"gridcolor\":\"white\",\"linecolor\":\"white\",\"ticks\":\"\"}},\"title\":{\"x\":0.05},\"xaxis\":{\"automargin\":true,\"gridcolor\":\"white\",\"linecolor\":\"white\",\"ticks\":\"\",\"title\":{\"standoff\":15},\"zerolinecolor\":\"white\",\"zerolinewidth\":2},\"yaxis\":{\"automargin\":true,\"gridcolor\":\"white\",\"linecolor\":\"white\",\"ticks\":\"\",\"title\":{\"standoff\":15},\"zerolinecolor\":\"white\",\"zerolinewidth\":2}}},\"legend\":{\"tracegroupgap\":0},\"margin\":{\"t\":60}},                        {\"responsive\": true}                    ).then(function(){\n",
              "                            \n",
              "var gd = document.getElementById('47675cee-23d2-4d5c-9716-ae0dd9c4e3dc');\n",
              "var x = new MutationObserver(function (mutations, observer) {{\n",
              "        var display = window.getComputedStyle(gd).display;\n",
              "        if (!display || display === 'none') {{\n",
              "            console.log([gd, 'removed!']);\n",
              "            Plotly.purge(gd);\n",
              "            observer.disconnect();\n",
              "        }}\n",
              "}});\n",
              "\n",
              "// Listen for the removal of the full notebook cells\n",
              "var notebookContainer = gd.closest('#notebook-container');\n",
              "if (notebookContainer) {{\n",
              "    x.observe(notebookContainer, {childList: true});\n",
              "}}\n",
              "\n",
              "// Listen for the clearing of the current output cell\n",
              "var outputEl = gd.closest('.output');\n",
              "if (outputEl) {{\n",
              "    x.observe(outputEl, {childList: true});\n",
              "}}\n",
              "\n",
              "                        })                };                            </script>        </div>\n",
              "</body>\n",
              "</html>"
            ]
          },
          "metadata": {}
        }
      ]
    },
    {
      "cell_type": "markdown",
      "source": [
        "# Pricing "
      ],
      "metadata": {
        "id": "SXDxC4o_vDM9"
      }
    },
    {
      "cell_type": "markdown",
      "source": [
        "## **¿Qué SKU parece ser el más/menos elástico a la demanda?**"
      ],
      "metadata": {
        "id": "R5u-OgARbq5t"
      }
    },
    {
      "cell_type": "code",
      "source": [
        "# Calculo los SKUs\n",
        "skus_list = df_real['Codigo Grupo'].unique().tolist()"
      ],
      "metadata": {
        "id": "qNrBl1vQ3vG7"
      },
      "execution_count": null,
      "outputs": []
    },
    {
      "cell_type": "code",
      "source": [
        "# Genero un data frames para cada SKU\n",
        "list_skus_dfs = []\n",
        "for sku in skus_list:\n",
        "  df_sku = df_real.loc[df_real['Codigo Grupo'] == sku ]\n",
        "  list_skus_dfs.append(df_sku)\n",
        "\n",
        "dict_skus_df = dict(zip(skus_list,list_skus_dfs))"
      ],
      "metadata": {
        "id": "YR5lDE2T2by1"
      },
      "execution_count": null,
      "outputs": []
    },
    {
      "cell_type": "code",
      "source": [
        "# Calculo la longitud de los skus y elimino los menores a 30\n",
        "for key in list(dict_skus_df):\n",
        "  print('SKU:',key,\n",
        "        '-> Producto:', dict_skus_df[key]['Descripcion Grupo'].unique(),\n",
        "        '-> Rows:', dict_skus_df[key].shape[0])\n",
        "  if dict_skus_df[key].shape[0]<=600:\n",
        "    dict_skus_df.pop(key)\n",
        "    print('Too small series')\n",
        "  else:\n",
        "    print('Is ok')"
      ],
      "metadata": {
        "id": "XEj4BMrRK_qX",
        "colab": {
          "base_uri": "https://localhost:8080/"
        },
        "outputId": "6b78c938-8886-4cf8-a933-101ca58dfa0a"
      },
      "execution_count": null,
      "outputs": [
        {
          "output_type": "stream",
          "name": "stdout",
          "text": [
            "SKU: AG310011 -> Producto: ['BENEDICTINO ARANCIATA NARANJA CAN 330ML'] -> Rows: 865\n",
            "Is ok\n",
            "SKU: AG310014 -> Producto: ['BENEDICTINO LIMONATA LIMON CAN 330ML'] -> Rows: 604\n",
            "Is ok\n",
            "SKU: AG310015 -> Producto: ['BENEDICTINO CLEMENTINA GASIFICADA CAN 330ML'] -> Rows: 750\n",
            "Is ok\n",
            "SKU: AG300010 -> Producto: ['BENEDICTINO AGUA MINERAL GASIFICADA GLASS 750ML'] -> Rows: 1109\n",
            "Is ok\n",
            "SKU: AG310017 -> Producto: ['BENEDICTINO LIMONE E MENTA GASIFICADA CAN 330ML'] -> Rows: 391\n",
            "Too small series\n",
            "SKU: AG310018 -> Producto: ['BENEDICTINO FICODINDIA E ARANCIA GASIFICADA CAN 330ML'] -> Rows: 471\n",
            "Too small series\n",
            "SKU: AG310016 -> Producto: ['BENEDICTINO MELOGRANO E ARANCIA GASIFICADA CAN 330ML'] -> Rows: 773\n",
            "Is ok\n",
            "SKU: AG300027 -> Producto: ['TERGÈZE AGUA MINERAL GASIFICADA CAN 250ML - LIMON'] -> Rows: 156\n",
            "Too small series\n",
            "SKU: AG300004 -> Producto: ['CREMATTA AGUA MINERAL SIN GAS GLASS 750ML'] -> Rows: 1050\n",
            "Is ok\n",
            "SKU: AG310012 -> Producto: ['BENEDICTINO AGUA TONICA CAN 330ML'] -> Rows: 449\n",
            "Too small series\n",
            "SKU: AG300008 -> Producto: ['BENEDICTINO AGUA MINERAL GASIFICADA GLASS 250ML'] -> Rows: 1093\n",
            "Is ok\n",
            "SKU: AG300007 -> Producto: ['TERGÈZE AGUA MINERAL GASIFICADA GLASS 750ML'] -> Rows: 158\n",
            "Too small series\n",
            "SKU: AG300006 -> Producto: ['TERGÈZE AGUA MINERAL GASIFICADA GLASS 330ML'] -> Rows: 524\n",
            "Too small series\n",
            "SKU: AG310007 -> Producto: ['BENEDICTINO POMPELMO TORONJA CAN 330ML'] -> Rows: 448\n",
            "Too small series\n",
            "SKU: AG310009 -> Producto: ['BENEDICTINO ARANCIATA ROSSA CAN 330ML'] -> Rows: 662\n",
            "Is ok\n",
            "SKU: AG300016 -> Producto: ['CREMATTA AGUA MINERAL SIN GAS GLASS 505ML'] -> Rows: 1097\n",
            "Is ok\n",
            "SKU: AG300017 -> Producto: ['BENEDICTINO AGUA MINERAL GASIFICADA GLASS 505ML'] -> Rows: 1232\n",
            "Is ok\n",
            "SKU: AG300001 -> Producto: ['CREMATTA AGUA MINERAL SIN GAS GLASS 250ML'] -> Rows: 838\n",
            "Is ok\n",
            "SKU: AG300013 -> Producto: ['BENEDICTINO AGUA MINERAL GASIFICADA PET 500ML'] -> Rows: 397\n",
            "Too small series\n",
            "SKU: AG300019 -> Producto: ['TERGÈZE AGUA MINERAL GASIFICADA GLASS 330ML - LIMON'] -> Rows: 96\n",
            "Too small series\n",
            "SKU: AG310013 -> Producto: ['BENEDICTINO AGUA TONICA GLASS 200ML'] -> Rows: 70\n",
            "Too small series\n",
            "SKU: AG300020 -> Producto: ['TERGÈZE AGUA MINERAL GASIFICADA CAN 250 ML'] -> Rows: 170\n",
            "Too small series\n",
            "SKU: AG300003 -> Producto: ['CREMATTA AGUA MINERAL SIN GAS PET 500ML'] -> Rows: 396\n",
            "Too small series\n",
            "SKU: AG310020 -> Producto: ['BENEDICTINO CHINOTTO GASIFICADA CAN 330ML'] -> Rows: 137\n",
            "Too small series\n",
            "SKU: AG300023 -> Producto: ['FOUR PACK TERGÈZE AGUA MINERAL GASIFICADA GLASS 330ML'] -> Rows: 28\n",
            "Too small series\n",
            "SKU: AG300028 -> Producto: ['BENEDICTINO AGUA MINERAL GASIFICADA PET 500ML SIX PACK  FOODIE'] -> Rows: 83\n",
            "Too small series\n",
            "SKU: AG300029 -> Producto: ['TERGÈZE AGUA MINERAL GASIFICADA PINK GRAPEFRUIT CAN 250ML 330ML'] -> Rows: 217\n",
            "Too small series\n",
            "SKU: AG300024 -> Producto: ['CREMATTA AGUA MINERAL SIN GAS PET 1000ML'] -> Rows: 69\n",
            "Too small series\n",
            "SKU: AG310019 -> Producto: ['BENEDICTINO SANBITTER ROSSO GLASS 100ML'] -> Rows: 109\n",
            "Too small series\n",
            "SKU: AG310003 -> Producto: ['BENEDICTINO LIMONATA LIMON GLASS 200ML'] -> Rows: 24\n",
            "Too small series\n",
            "SKU: AG300005 -> Producto: ['CREMATTA AGUA MINERAL SIN GAS GLASS   1000ML'] -> Rows: 1\n",
            "Too small series\n",
            "SKU: AG310001 -> Producto: ['BENEDICTINO ARANCIATA NARANJA GLASS 200ML'] -> Rows: 10\n",
            "Too small series\n",
            "SKU: AG310008 -> Producto: ['BENEDICTINO POMPELMO TORONJA GLASS 200ML'] -> Rows: 4\n",
            "Too small series\n",
            "SKU: nan -> Producto: [] -> Rows: 0\n",
            "Too small series\n",
            "SKU: AG310010 -> Producto: ['BENEDICTINO ARANCIATA ROSSA GLASS 200ML'] -> Rows: 13\n",
            "Too small series\n",
            "SKU: AG300026 -> Producto: ['BENEDICTINO AGUA MINERAL GASIFICADA GLASS 1500ML'] -> Rows: 1\n",
            "Too small series\n"
          ]
        }
      ]
    },
    {
      "cell_type": "code",
      "source": [
        "# Calculo las elasticidades\n",
        "elasticidades = []\n",
        "\n",
        "for sku in list(dict_skus_df):\n",
        "  elast_df = dict_skus_df[sku].dropna(subset=['Prec.-Desc. S/','CANTIDAD'])\n",
        "  \n",
        "  # Train/Test split \n",
        "  X = elast_df['Prec.-Desc. S/'].values\n",
        "  y = elast_df['CANTIDAD'].values\n",
        "\n",
        "  n_samples = X.shape[0]\n",
        "  X_ = np.c_[np.ones(n_samples), X]\n",
        "  X_\n",
        "\n",
        "  from sklearn.model_selection import train_test_split\n",
        "  X_train, X_test, y_train, y_test = train_test_split(X_, y, test_size=0.30, random_state=100)\n",
        "\n",
        "  # Training\n",
        "  from sklearn.linear_model import LinearRegression\n",
        "  linreg = LinearRegression(fit_intercept=False)\n",
        "  linreg.fit(X_train, y_train)\n",
        "\n",
        "  # Predict\n",
        "  pred1 = linreg.predict(X_test)\n",
        "  df_temp = pd.DataFrame({'Real': y_test, 'Predicho': pred1.reshape(-1)})\n",
        "\n",
        "  # MAPE \n",
        "  df_temp['in_mape'] = np.abs((df_temp['Real']-df_temp['Predicho'])/df_temp['Real'])\n",
        "  df_temp['in_mape'].mean()\n",
        "\n",
        "  # Validacion\n",
        "  from sklearn import metrics\n",
        "  import numpy as np\n",
        "  #print('MAE:', metrics.mean_absolute_error(y_test, pred1))\n",
        "  #print('MSE:', metrics.mean_squared_error(y_test, pred1))\n",
        "  #print('RMSE:', np.sqrt(metrics.mean_squared_error(y_test, pred1)))\n",
        "  #print('MAPE:',df_temp['in_mape'].mean())\n",
        "\n",
        "  # Elasticidad\n",
        "  X_test[:,1]\n",
        "  y_test\n",
        "  elas1 = linreg.coef_[1]*(np.mean(X_test[:,1])/np.mean(y_test))\n",
        "  elasticidades.append(elas1)\n",
        "\n",
        "# Genero un resumen de las elasticidades\n",
        "sku_list = list(dict_skus_df)\n",
        "sku_desc_list = []\n",
        "for key in list(dict_skus_df):\n",
        "  des_sku = dict_skus_df[key]['Descripcion Grupo'].unique()\n",
        "  sku_desc_list.append(des_sku[0])\n",
        "\n",
        "sku_elast = {'SKU':sku_list,\n",
        "             'Producto':sku_desc_list,\n",
        "        'Elasticidad':elasticidades}\n",
        " \n",
        "df_elast = pd.DataFrame(sku_elast)\n",
        "df_elast"
      ],
      "metadata": {
        "id": "FCaLV1CcK1ag",
        "colab": {
          "base_uri": "https://localhost:8080/",
          "height": 394
        },
        "outputId": "76afe265-6532-49a2-ae11-a5a03990fc2d"
      },
      "execution_count": null,
      "outputs": [
        {
          "output_type": "execute_result",
          "data": {
            "text/html": [
              "\n",
              "  <div id=\"df-9615d62b-4fee-4cd9-b2a7-7f0ab528cc07\">\n",
              "    <div class=\"colab-df-container\">\n",
              "      <div>\n",
              "<style scoped>\n",
              "    .dataframe tbody tr th:only-of-type {\n",
              "        vertical-align: middle;\n",
              "    }\n",
              "\n",
              "    .dataframe tbody tr th {\n",
              "        vertical-align: top;\n",
              "    }\n",
              "\n",
              "    .dataframe thead th {\n",
              "        text-align: right;\n",
              "    }\n",
              "</style>\n",
              "<table border=\"1\" class=\"dataframe\">\n",
              "  <thead>\n",
              "    <tr style=\"text-align: right;\">\n",
              "      <th></th>\n",
              "      <th>SKU</th>\n",
              "      <th>Producto</th>\n",
              "      <th>Elasticidad</th>\n",
              "    </tr>\n",
              "  </thead>\n",
              "  <tbody>\n",
              "    <tr>\n",
              "      <th>0</th>\n",
              "      <td>AG310011</td>\n",
              "      <td>BENEDICTINO ARANCIATA NARANJA CAN 330ML</td>\n",
              "      <td>-2.0762043161044463</td>\n",
              "    </tr>\n",
              "    <tr>\n",
              "      <th>1</th>\n",
              "      <td>AG310014</td>\n",
              "      <td>BENEDICTINO LIMONATA LIMON CAN 330ML</td>\n",
              "      <td>-1.7814006147004873</td>\n",
              "    </tr>\n",
              "    <tr>\n",
              "      <th>2</th>\n",
              "      <td>AG310015</td>\n",
              "      <td>BENEDICTINO CLEMENTINA GASIFICADA CAN 330ML</td>\n",
              "      <td>-1.66013371238096</td>\n",
              "    </tr>\n",
              "    <tr>\n",
              "      <th>3</th>\n",
              "      <td>AG300010</td>\n",
              "      <td>BENEDICTINO AGUA MINERAL GASIFICADA GLASS 750ML</td>\n",
              "      <td>-0.4829492772182772</td>\n",
              "    </tr>\n",
              "    <tr>\n",
              "      <th>4</th>\n",
              "      <td>AG310016</td>\n",
              "      <td>BENEDICTINO MELOGRANO E ARANCIA GASIFICADA CAN...</td>\n",
              "      <td>-1.579885737404879</td>\n",
              "    </tr>\n",
              "    <tr>\n",
              "      <th>5</th>\n",
              "      <td>AG300004</td>\n",
              "      <td>CREMATTA AGUA MINERAL SIN GAS GLASS 750ML</td>\n",
              "      <td>-0.04902071700429096</td>\n",
              "    </tr>\n",
              "    <tr>\n",
              "      <th>6</th>\n",
              "      <td>AG300008</td>\n",
              "      <td>BENEDICTINO AGUA MINERAL GASIFICADA GLASS 250ML</td>\n",
              "      <td>-2.2604954907427937</td>\n",
              "    </tr>\n",
              "    <tr>\n",
              "      <th>7</th>\n",
              "      <td>AG310009</td>\n",
              "      <td>BENEDICTINO ARANCIATA ROSSA CAN 330ML</td>\n",
              "      <td>-0.6944609115308567</td>\n",
              "    </tr>\n",
              "    <tr>\n",
              "      <th>8</th>\n",
              "      <td>AG300016</td>\n",
              "      <td>CREMATTA AGUA MINERAL SIN GAS GLASS 505ML</td>\n",
              "      <td>-3.5332302302910743</td>\n",
              "    </tr>\n",
              "    <tr>\n",
              "      <th>9</th>\n",
              "      <td>AG300017</td>\n",
              "      <td>BENEDICTINO AGUA MINERAL GASIFICADA GLASS 505ML</td>\n",
              "      <td>-4.771749054149192</td>\n",
              "    </tr>\n",
              "    <tr>\n",
              "      <th>10</th>\n",
              "      <td>AG300001</td>\n",
              "      <td>CREMATTA AGUA MINERAL SIN GAS GLASS 250ML</td>\n",
              "      <td>-2.481502761990481</td>\n",
              "    </tr>\n",
              "  </tbody>\n",
              "</table>\n",
              "</div>\n",
              "      <button class=\"colab-df-convert\" onclick=\"convertToInteractive('df-9615d62b-4fee-4cd9-b2a7-7f0ab528cc07')\"\n",
              "              title=\"Convert this dataframe to an interactive table.\"\n",
              "              style=\"display:none;\">\n",
              "        \n",
              "  <svg xmlns=\"http://www.w3.org/2000/svg\" height=\"24px\"viewBox=\"0 0 24 24\"\n",
              "       width=\"24px\">\n",
              "    <path d=\"M0 0h24v24H0V0z\" fill=\"none\"/>\n",
              "    <path d=\"M18.56 5.44l.94 2.06.94-2.06 2.06-.94-2.06-.94-.94-2.06-.94 2.06-2.06.94zm-11 1L8.5 8.5l.94-2.06 2.06-.94-2.06-.94L8.5 2.5l-.94 2.06-2.06.94zm10 10l.94 2.06.94-2.06 2.06-.94-2.06-.94-.94-2.06-.94 2.06-2.06.94z\"/><path d=\"M17.41 7.96l-1.37-1.37c-.4-.4-.92-.59-1.43-.59-.52 0-1.04.2-1.43.59L10.3 9.45l-7.72 7.72c-.78.78-.78 2.05 0 2.83L4 21.41c.39.39.9.59 1.41.59.51 0 1.02-.2 1.41-.59l7.78-7.78 2.81-2.81c.8-.78.8-2.07 0-2.86zM5.41 20L4 18.59l7.72-7.72 1.47 1.35L5.41 20z\"/>\n",
              "  </svg>\n",
              "      </button>\n",
              "      \n",
              "  <style>\n",
              "    .colab-df-container {\n",
              "      display:flex;\n",
              "      flex-wrap:wrap;\n",
              "      gap: 12px;\n",
              "    }\n",
              "\n",
              "    .colab-df-convert {\n",
              "      background-color: #E8F0FE;\n",
              "      border: none;\n",
              "      border-radius: 50%;\n",
              "      cursor: pointer;\n",
              "      display: none;\n",
              "      fill: #1967D2;\n",
              "      height: 32px;\n",
              "      padding: 0 0 0 0;\n",
              "      width: 32px;\n",
              "    }\n",
              "\n",
              "    .colab-df-convert:hover {\n",
              "      background-color: #E2EBFA;\n",
              "      box-shadow: 0px 1px 2px rgba(60, 64, 67, 0.3), 0px 1px 3px 1px rgba(60, 64, 67, 0.15);\n",
              "      fill: #174EA6;\n",
              "    }\n",
              "\n",
              "    [theme=dark] .colab-df-convert {\n",
              "      background-color: #3B4455;\n",
              "      fill: #D2E3FC;\n",
              "    }\n",
              "\n",
              "    [theme=dark] .colab-df-convert:hover {\n",
              "      background-color: #434B5C;\n",
              "      box-shadow: 0px 1px 3px 1px rgba(0, 0, 0, 0.15);\n",
              "      filter: drop-shadow(0px 1px 2px rgba(0, 0, 0, 0.3));\n",
              "      fill: #FFFFFF;\n",
              "    }\n",
              "  </style>\n",
              "\n",
              "      <script>\n",
              "        const buttonEl =\n",
              "          document.querySelector('#df-9615d62b-4fee-4cd9-b2a7-7f0ab528cc07 button.colab-df-convert');\n",
              "        buttonEl.style.display =\n",
              "          google.colab.kernel.accessAllowed ? 'block' : 'none';\n",
              "\n",
              "        async function convertToInteractive(key) {\n",
              "          const element = document.querySelector('#df-9615d62b-4fee-4cd9-b2a7-7f0ab528cc07');\n",
              "          const dataTable =\n",
              "            await google.colab.kernel.invokeFunction('convertToInteractive',\n",
              "                                                     [key], {});\n",
              "          if (!dataTable) return;\n",
              "\n",
              "          const docLinkHtml = 'Like what you see? Visit the ' +\n",
              "            '<a target=\"_blank\" href=https://colab.research.google.com/notebooks/data_table.ipynb>data table notebook</a>'\n",
              "            + ' to learn more about interactive tables.';\n",
              "          element.innerHTML = '';\n",
              "          dataTable['output_type'] = 'display_data';\n",
              "          await google.colab.output.renderOutput(dataTable, element);\n",
              "          const docLink = document.createElement('div');\n",
              "          docLink.innerHTML = docLinkHtml;\n",
              "          element.appendChild(docLink);\n",
              "        }\n",
              "      </script>\n",
              "    </div>\n",
              "  </div>\n",
              "  "
            ],
            "text/plain": [
              "         SKU  ...          Elasticidad\n",
              "0   AG310011  ...  -2.0762043161044463\n",
              "1   AG310014  ...  -1.7814006147004873\n",
              "2   AG310015  ...    -1.66013371238096\n",
              "3   AG300010  ...  -0.4829492772182772\n",
              "4   AG310016  ...   -1.579885737404879\n",
              "5   AG300004  ... -0.04902071700429096\n",
              "6   AG300008  ...  -2.2604954907427937\n",
              "7   AG310009  ...  -0.6944609115308567\n",
              "8   AG300016  ...  -3.5332302302910743\n",
              "9   AG300017  ...   -4.771749054149192\n",
              "10  AG300001  ...   -2.481502761990481\n",
              "\n",
              "[11 rows x 3 columns]"
            ]
          },
          "metadata": {},
          "execution_count": 34
        }
      ]
    },
    {
      "cell_type": "code",
      "source": [
        "df_elast.sort_values('Elasticidad', ascending = False, inplace = True )\n",
        "df_elast_ppt = df_elast.style.format({'Elasticidad': '{:20,.2f}'})\\\n",
        "              .hide_index()\\\n",
        "              .bar(subset=['Elasticidad'], color='lightgreen')\n",
        "df_elast_ppt.to_excel('Elasticidades.xlsx')\n",
        "df_elast_ppt"
      ],
      "metadata": {
        "id": "2gN9KGcBb1DP",
        "colab": {
          "base_uri": "https://localhost:8080/",
          "height": 394
        },
        "outputId": "ad0d1961-2547-436b-b651-1ba9b0df7a3e"
      },
      "execution_count": null,
      "outputs": [
        {
          "output_type": "execute_result",
          "data": {
            "text/html": [
              "<style type=\"text/css\">\n",
              "#T_4bd6a_row0_col2 {\n",
              "  width: 10em;\n",
              "  height: 80%;\n",
              "  background: linear-gradient(90deg,lightgreen 100.0%, transparent 100.0%);\n",
              "}\n",
              "#T_4bd6a_row1_col2 {\n",
              "  width: 10em;\n",
              "  height: 80%;\n",
              "  background: linear-gradient(90deg,lightgreen 90.8%, transparent 90.8%);\n",
              "}\n",
              "#T_4bd6a_row2_col2 {\n",
              "  width: 10em;\n",
              "  height: 80%;\n",
              "  background: linear-gradient(90deg,lightgreen 86.3%, transparent 86.3%);\n",
              "}\n",
              "#T_4bd6a_row3_col2 {\n",
              "  width: 10em;\n",
              "  height: 80%;\n",
              "  background: linear-gradient(90deg,lightgreen 67.6%, transparent 67.6%);\n",
              "}\n",
              "#T_4bd6a_row4_col2 {\n",
              "  width: 10em;\n",
              "  height: 80%;\n",
              "  background: linear-gradient(90deg,lightgreen 65.9%, transparent 65.9%);\n",
              "}\n",
              "#T_4bd6a_row5_col2 {\n",
              "  width: 10em;\n",
              "  height: 80%;\n",
              "  background: linear-gradient(90deg,lightgreen 63.3%, transparent 63.3%);\n",
              "}\n",
              "#T_4bd6a_row6_col2 {\n",
              "  width: 10em;\n",
              "  height: 80%;\n",
              "  background: linear-gradient(90deg,lightgreen 57.1%, transparent 57.1%);\n",
              "}\n",
              "#T_4bd6a_row7_col2 {\n",
              "  width: 10em;\n",
              "  height: 80%;\n",
              "  background: linear-gradient(90deg,lightgreen 53.2%, transparent 53.2%);\n",
              "}\n",
              "#T_4bd6a_row8_col2 {\n",
              "  width: 10em;\n",
              "  height: 80%;\n",
              "  background: linear-gradient(90deg,lightgreen 48.5%, transparent 48.5%);\n",
              "}\n",
              "#T_4bd6a_row9_col2 {\n",
              "  width: 10em;\n",
              "  height: 80%;\n",
              "  background: linear-gradient(90deg,lightgreen 26.2%, transparent 26.2%);\n",
              "}\n",
              "#T_4bd6a_row10_col2 {\n",
              "  width: 10em;\n",
              "  height: 80%;\n",
              "}\n",
              "</style>\n",
              "<table id=\"T_4bd6a_\" class=\"dataframe\">\n",
              "  <thead>\n",
              "    <tr>\n",
              "      <th class=\"col_heading level0 col0\" >SKU</th>\n",
              "      <th class=\"col_heading level0 col1\" >Producto</th>\n",
              "      <th class=\"col_heading level0 col2\" >Elasticidad</th>\n",
              "    </tr>\n",
              "  </thead>\n",
              "  <tbody>\n",
              "    <tr>\n",
              "      <td id=\"T_4bd6a_row0_col0\" class=\"data row0 col0\" >AG300004</td>\n",
              "      <td id=\"T_4bd6a_row0_col1\" class=\"data row0 col1\" >CREMATTA AGUA MINERAL SIN GAS GLASS 750ML</td>\n",
              "      <td id=\"T_4bd6a_row0_col2\" class=\"data row0 col2\" >               -0.05</td>\n",
              "    </tr>\n",
              "    <tr>\n",
              "      <td id=\"T_4bd6a_row1_col0\" class=\"data row1 col0\" >AG300010</td>\n",
              "      <td id=\"T_4bd6a_row1_col1\" class=\"data row1 col1\" >BENEDICTINO AGUA MINERAL GASIFICADA GLASS 750ML</td>\n",
              "      <td id=\"T_4bd6a_row1_col2\" class=\"data row1 col2\" >               -0.48</td>\n",
              "    </tr>\n",
              "    <tr>\n",
              "      <td id=\"T_4bd6a_row2_col0\" class=\"data row2 col0\" >AG310009</td>\n",
              "      <td id=\"T_4bd6a_row2_col1\" class=\"data row2 col1\" >BENEDICTINO ARANCIATA ROSSA CAN 330ML</td>\n",
              "      <td id=\"T_4bd6a_row2_col2\" class=\"data row2 col2\" >               -0.69</td>\n",
              "    </tr>\n",
              "    <tr>\n",
              "      <td id=\"T_4bd6a_row3_col0\" class=\"data row3 col0\" >AG310016</td>\n",
              "      <td id=\"T_4bd6a_row3_col1\" class=\"data row3 col1\" >BENEDICTINO MELOGRANO E ARANCIA GASIFICADA CAN 330ML</td>\n",
              "      <td id=\"T_4bd6a_row3_col2\" class=\"data row3 col2\" >               -1.58</td>\n",
              "    </tr>\n",
              "    <tr>\n",
              "      <td id=\"T_4bd6a_row4_col0\" class=\"data row4 col0\" >AG310015</td>\n",
              "      <td id=\"T_4bd6a_row4_col1\" class=\"data row4 col1\" >BENEDICTINO CLEMENTINA GASIFICADA CAN 330ML</td>\n",
              "      <td id=\"T_4bd6a_row4_col2\" class=\"data row4 col2\" >               -1.66</td>\n",
              "    </tr>\n",
              "    <tr>\n",
              "      <td id=\"T_4bd6a_row5_col0\" class=\"data row5 col0\" >AG310014</td>\n",
              "      <td id=\"T_4bd6a_row5_col1\" class=\"data row5 col1\" >BENEDICTINO LIMONATA LIMON CAN 330ML</td>\n",
              "      <td id=\"T_4bd6a_row5_col2\" class=\"data row5 col2\" >               -1.78</td>\n",
              "    </tr>\n",
              "    <tr>\n",
              "      <td id=\"T_4bd6a_row6_col0\" class=\"data row6 col0\" >AG310011</td>\n",
              "      <td id=\"T_4bd6a_row6_col1\" class=\"data row6 col1\" >BENEDICTINO ARANCIATA NARANJA CAN 330ML</td>\n",
              "      <td id=\"T_4bd6a_row6_col2\" class=\"data row6 col2\" >               -2.08</td>\n",
              "    </tr>\n",
              "    <tr>\n",
              "      <td id=\"T_4bd6a_row7_col0\" class=\"data row7 col0\" >AG300008</td>\n",
              "      <td id=\"T_4bd6a_row7_col1\" class=\"data row7 col1\" >BENEDICTINO AGUA MINERAL GASIFICADA GLASS 250ML</td>\n",
              "      <td id=\"T_4bd6a_row7_col2\" class=\"data row7 col2\" >               -2.26</td>\n",
              "    </tr>\n",
              "    <tr>\n",
              "      <td id=\"T_4bd6a_row8_col0\" class=\"data row8 col0\" >AG300001</td>\n",
              "      <td id=\"T_4bd6a_row8_col1\" class=\"data row8 col1\" >CREMATTA AGUA MINERAL SIN GAS GLASS 250ML</td>\n",
              "      <td id=\"T_4bd6a_row8_col2\" class=\"data row8 col2\" >               -2.48</td>\n",
              "    </tr>\n",
              "    <tr>\n",
              "      <td id=\"T_4bd6a_row9_col0\" class=\"data row9 col0\" >AG300016</td>\n",
              "      <td id=\"T_4bd6a_row9_col1\" class=\"data row9 col1\" >CREMATTA AGUA MINERAL SIN GAS GLASS 505ML</td>\n",
              "      <td id=\"T_4bd6a_row9_col2\" class=\"data row9 col2\" >               -3.53</td>\n",
              "    </tr>\n",
              "    <tr>\n",
              "      <td id=\"T_4bd6a_row10_col0\" class=\"data row10 col0\" >AG300017</td>\n",
              "      <td id=\"T_4bd6a_row10_col1\" class=\"data row10 col1\" >BENEDICTINO AGUA MINERAL GASIFICADA GLASS 505ML</td>\n",
              "      <td id=\"T_4bd6a_row10_col2\" class=\"data row10 col2\" >               -4.77</td>\n",
              "    </tr>\n",
              "  </tbody>\n",
              "</table>\n"
            ],
            "text/plain": [
              "<pandas.io.formats.style.Styler at 0x7f5bd6eddb90>"
            ]
          },
          "metadata": {},
          "execution_count": 35
        }
      ]
    },
    {
      "cell_type": "markdown",
      "source": [
        "## ¿Existen meses con mayor/menor sensibilidad a los precios? ¿Para qué grupo de productos?"
      ],
      "metadata": {
        "id": "nP_8gxbzgYxT"
      }
    },
    {
      "cell_type": "code",
      "source": [
        "df_sku_mes = df_real.groupby(['Código','Descripción','Mes','Familia','Sub-Familia','NUEVO CANAL'],as_index = False)['Prec.-Desc. S/'].mean().round(decimals = 2)"
      ],
      "metadata": {
        "id": "VfUB3ol9gXgB"
      },
      "execution_count": null,
      "outputs": []
    },
    {
      "cell_type": "code",
      "source": [
        "df_sku_mes"
      ],
      "metadata": {
        "id": "nJz2_R7gJ81B",
        "colab": {
          "base_uri": "https://localhost:8080/",
          "height": 424
        },
        "outputId": "75ca3370-fd17-4f3d-a8d9-dd0fec28a962"
      },
      "execution_count": null,
      "outputs": [
        {
          "output_type": "execute_result",
          "data": {
            "text/html": [
              "\n",
              "  <div id=\"df-cefb9ebf-0e2d-45e9-9a6f-bbd9fb45c6d9\">\n",
              "    <div class=\"colab-df-container\">\n",
              "      <div>\n",
              "<style scoped>\n",
              "    .dataframe tbody tr th:only-of-type {\n",
              "        vertical-align: middle;\n",
              "    }\n",
              "\n",
              "    .dataframe tbody tr th {\n",
              "        vertical-align: top;\n",
              "    }\n",
              "\n",
              "    .dataframe thead th {\n",
              "        text-align: right;\n",
              "    }\n",
              "</style>\n",
              "<table border=\"1\" class=\"dataframe\">\n",
              "  <thead>\n",
              "    <tr style=\"text-align: right;\">\n",
              "      <th></th>\n",
              "      <th>Código</th>\n",
              "      <th>Descripción</th>\n",
              "      <th>Mes</th>\n",
              "      <th>Familia</th>\n",
              "      <th>Sub-Familia</th>\n",
              "      <th>NUEVO CANAL</th>\n",
              "      <th>Prec.-Desc. S/</th>\n",
              "    </tr>\n",
              "  </thead>\n",
              "  <tbody>\n",
              "    <tr>\n",
              "      <th>0</th>\n",
              "      <td>AG300001</td>\n",
              "      <td>CREMATTA AGUA MINERAL SIN GAS GLASS 250ML</td>\n",
              "      <td>01</td>\n",
              "      <td>MINERAL</td>\n",
              "      <td>MINERAL</td>\n",
              "      <td>CLF</td>\n",
              "      <td>3.03</td>\n",
              "    </tr>\n",
              "    <tr>\n",
              "      <th>1</th>\n",
              "      <td>AG300001</td>\n",
              "      <td>CREMATTA AGUA MINERAL SIN GAS GLASS 250ML</td>\n",
              "      <td>01</td>\n",
              "      <td>MINERAL</td>\n",
              "      <td>MINERAL</td>\n",
              "      <td>DIS</td>\n",
              "      <td>3.26</td>\n",
              "    </tr>\n",
              "    <tr>\n",
              "      <th>2</th>\n",
              "      <td>AG300001</td>\n",
              "      <td>CREMATTA AGUA MINERAL SIN GAS GLASS 250ML</td>\n",
              "      <td>01</td>\n",
              "      <td>MINERAL</td>\n",
              "      <td>MINERAL</td>\n",
              "      <td>HRC</td>\n",
              "      <td>3.0</td>\n",
              "    </tr>\n",
              "    <tr>\n",
              "      <th>3</th>\n",
              "      <td>AG300001</td>\n",
              "      <td>CREMATTA AGUA MINERAL SIN GAS GLASS 250ML</td>\n",
              "      <td>01</td>\n",
              "      <td>MINERAL</td>\n",
              "      <td>MINERAL</td>\n",
              "      <td>HRC-ILLY</td>\n",
              "      <td>3.03</td>\n",
              "    </tr>\n",
              "    <tr>\n",
              "      <th>4</th>\n",
              "      <td>AG300001</td>\n",
              "      <td>CREMATTA AGUA MINERAL SIN GAS GLASS 250ML</td>\n",
              "      <td>01</td>\n",
              "      <td>MINERAL</td>\n",
              "      <td>MINERAL</td>\n",
              "      <td>TDG</td>\n",
              "      <td>3.03</td>\n",
              "    </tr>\n",
              "    <tr>\n",
              "      <th>...</th>\n",
              "      <td>...</td>\n",
              "      <td>...</td>\n",
              "      <td>...</td>\n",
              "      <td>...</td>\n",
              "      <td>...</td>\n",
              "      <td>...</td>\n",
              "      <td>...</td>\n",
              "    </tr>\n",
              "    <tr>\n",
              "      <th>1201</th>\n",
              "      <td>AG310020</td>\n",
              "      <td>BENEDICTINO CHINOTTO GASIFICADA CAN 330ML</td>\n",
              "      <td>08</td>\n",
              "      <td>GASIFICADA</td>\n",
              "      <td>SABORIZADA</td>\n",
              "      <td>HRC</td>\n",
              "      <td>3.52</td>\n",
              "    </tr>\n",
              "    <tr>\n",
              "      <th>1202</th>\n",
              "      <td>AG310020</td>\n",
              "      <td>BENEDICTINO CHINOTTO GASIFICADA CAN 330ML</td>\n",
              "      <td>09</td>\n",
              "      <td>GASIFICADA</td>\n",
              "      <td>SABORIZADA</td>\n",
              "      <td>CLF</td>\n",
              "      <td>2.62</td>\n",
              "    </tr>\n",
              "    <tr>\n",
              "      <th>1203</th>\n",
              "      <td>AG310020</td>\n",
              "      <td>BENEDICTINO CHINOTTO GASIFICADA CAN 330ML</td>\n",
              "      <td>09</td>\n",
              "      <td>GASIFICADA</td>\n",
              "      <td>SABORIZADA</td>\n",
              "      <td>HRC</td>\n",
              "      <td>3.55</td>\n",
              "    </tr>\n",
              "    <tr>\n",
              "      <th>1204</th>\n",
              "      <td>AG310020</td>\n",
              "      <td>BENEDICTINO CHINOTTO GASIFICADA CAN 330ML</td>\n",
              "      <td>10</td>\n",
              "      <td>GASIFICADA</td>\n",
              "      <td>SABORIZADA</td>\n",
              "      <td>CLF</td>\n",
              "      <td>3.48</td>\n",
              "    </tr>\n",
              "    <tr>\n",
              "      <th>1205</th>\n",
              "      <td>AG310020</td>\n",
              "      <td>BENEDICTINO CHINOTTO GASIFICADA CAN 330ML</td>\n",
              "      <td>10</td>\n",
              "      <td>GASIFICADA</td>\n",
              "      <td>SABORIZADA</td>\n",
              "      <td>HRC</td>\n",
              "      <td>3.64</td>\n",
              "    </tr>\n",
              "  </tbody>\n",
              "</table>\n",
              "<p>1206 rows × 7 columns</p>\n",
              "</div>\n",
              "      <button class=\"colab-df-convert\" onclick=\"convertToInteractive('df-cefb9ebf-0e2d-45e9-9a6f-bbd9fb45c6d9')\"\n",
              "              title=\"Convert this dataframe to an interactive table.\"\n",
              "              style=\"display:none;\">\n",
              "        \n",
              "  <svg xmlns=\"http://www.w3.org/2000/svg\" height=\"24px\"viewBox=\"0 0 24 24\"\n",
              "       width=\"24px\">\n",
              "    <path d=\"M0 0h24v24H0V0z\" fill=\"none\"/>\n",
              "    <path d=\"M18.56 5.44l.94 2.06.94-2.06 2.06-.94-2.06-.94-.94-2.06-.94 2.06-2.06.94zm-11 1L8.5 8.5l.94-2.06 2.06-.94-2.06-.94L8.5 2.5l-.94 2.06-2.06.94zm10 10l.94 2.06.94-2.06 2.06-.94-2.06-.94-.94-2.06-.94 2.06-2.06.94z\"/><path d=\"M17.41 7.96l-1.37-1.37c-.4-.4-.92-.59-1.43-.59-.52 0-1.04.2-1.43.59L10.3 9.45l-7.72 7.72c-.78.78-.78 2.05 0 2.83L4 21.41c.39.39.9.59 1.41.59.51 0 1.02-.2 1.41-.59l7.78-7.78 2.81-2.81c.8-.78.8-2.07 0-2.86zM5.41 20L4 18.59l7.72-7.72 1.47 1.35L5.41 20z\"/>\n",
              "  </svg>\n",
              "      </button>\n",
              "      \n",
              "  <style>\n",
              "    .colab-df-container {\n",
              "      display:flex;\n",
              "      flex-wrap:wrap;\n",
              "      gap: 12px;\n",
              "    }\n",
              "\n",
              "    .colab-df-convert {\n",
              "      background-color: #E8F0FE;\n",
              "      border: none;\n",
              "      border-radius: 50%;\n",
              "      cursor: pointer;\n",
              "      display: none;\n",
              "      fill: #1967D2;\n",
              "      height: 32px;\n",
              "      padding: 0 0 0 0;\n",
              "      width: 32px;\n",
              "    }\n",
              "\n",
              "    .colab-df-convert:hover {\n",
              "      background-color: #E2EBFA;\n",
              "      box-shadow: 0px 1px 2px rgba(60, 64, 67, 0.3), 0px 1px 3px 1px rgba(60, 64, 67, 0.15);\n",
              "      fill: #174EA6;\n",
              "    }\n",
              "\n",
              "    [theme=dark] .colab-df-convert {\n",
              "      background-color: #3B4455;\n",
              "      fill: #D2E3FC;\n",
              "    }\n",
              "\n",
              "    [theme=dark] .colab-df-convert:hover {\n",
              "      background-color: #434B5C;\n",
              "      box-shadow: 0px 1px 3px 1px rgba(0, 0, 0, 0.15);\n",
              "      filter: drop-shadow(0px 1px 2px rgba(0, 0, 0, 0.3));\n",
              "      fill: #FFFFFF;\n",
              "    }\n",
              "  </style>\n",
              "\n",
              "      <script>\n",
              "        const buttonEl =\n",
              "          document.querySelector('#df-cefb9ebf-0e2d-45e9-9a6f-bbd9fb45c6d9 button.colab-df-convert');\n",
              "        buttonEl.style.display =\n",
              "          google.colab.kernel.accessAllowed ? 'block' : 'none';\n",
              "\n",
              "        async function convertToInteractive(key) {\n",
              "          const element = document.querySelector('#df-cefb9ebf-0e2d-45e9-9a6f-bbd9fb45c6d9');\n",
              "          const dataTable =\n",
              "            await google.colab.kernel.invokeFunction('convertToInteractive',\n",
              "                                                     [key], {});\n",
              "          if (!dataTable) return;\n",
              "\n",
              "          const docLinkHtml = 'Like what you see? Visit the ' +\n",
              "            '<a target=\"_blank\" href=https://colab.research.google.com/notebooks/data_table.ipynb>data table notebook</a>'\n",
              "            + ' to learn more about interactive tables.';\n",
              "          element.innerHTML = '';\n",
              "          dataTable['output_type'] = 'display_data';\n",
              "          await google.colab.output.renderOutput(dataTable, element);\n",
              "          const docLink = document.createElement('div');\n",
              "          docLink.innerHTML = docLinkHtml;\n",
              "          element.appendChild(docLink);\n",
              "        }\n",
              "      </script>\n",
              "    </div>\n",
              "  </div>\n",
              "  "
            ],
            "text/plain": [
              "        Código  ... Prec.-Desc. S/\n",
              "0     AG300001  ...           3.03\n",
              "1     AG300001  ...           3.26\n",
              "2     AG300001  ...            3.0\n",
              "3     AG300001  ...           3.03\n",
              "4     AG300001  ...           3.03\n",
              "...        ...  ...            ...\n",
              "1201  AG310020  ...           3.52\n",
              "1202  AG310020  ...           2.62\n",
              "1203  AG310020  ...           3.55\n",
              "1204  AG310020  ...           3.48\n",
              "1205  AG310020  ...           3.64\n",
              "\n",
              "[1206 rows x 7 columns]"
            ]
          },
          "metadata": {},
          "execution_count": 37
        }
      ]
    },
    {
      "cell_type": "code",
      "source": [
        "sns.color_palette(\"Paired\")\n",
        "g = sns.catplot(x=\"Mes\", y=\"Prec.-Desc. S/\", hue=\"Sub-Familia\",\n",
        "                capsize=.2, palette=\"YlGnBu_d\", height=6, aspect=.75,\n",
        "                kind=\"point\", data=df_real)\n",
        "g.despine(left=True)"
      ],
      "metadata": {
        "colab": {
          "base_uri": "https://localhost:8080/",
          "height": 458
        },
        "id": "FQQusJJ1ULFP",
        "outputId": "2c7653cf-e5c7-465e-ec17-0c4ce8a5bf8a"
      },
      "execution_count": null,
      "outputs": [
        {
          "output_type": "execute_result",
          "data": {
            "text/plain": [
              "<seaborn.axisgrid.FacetGrid at 0x7f5bcb1e1890>"
            ]
          },
          "metadata": {},
          "execution_count": 38
        },
        {
          "output_type": "display_data",
          "data": {
            "image/png": "[encoded data removed]",
            "text/plain": [
              "<Figure size 425.75x432 with 1 Axes>"
            ]
          },
          "metadata": {
            "needs_background": "light"
          }
        }
      ]
    },
    {
      "cell_type": "code",
      "source": [
        "sns.set_theme(style=\"whitegrid\")\n",
        "g = sns.catplot(x=\"Mes\", y=\"Prec.-Desc. S/\", hue=\"Familia\",\n",
        "                capsize=.2, palette=\"YlGnBu_d\", height=6, aspect=.75,\n",
        "                kind=\"point\", data=df_real)\n",
        "g.despine(left=True)"
      ],
      "metadata": {
        "colab": {
          "base_uri": "https://localhost:8080/",
          "height": 454
        },
        "id": "t-ZNPb5-kU4t",
        "outputId": "ed0da6c9-e805-4127-d9a9-a441e7bee28f"
      },
      "execution_count": null,
      "outputs": [
        {
          "output_type": "execute_result",
          "data": {
            "text/plain": [
              "<seaborn.axisgrid.FacetGrid at 0x7f5bcae77990>"
            ]
          },
          "metadata": {},
          "execution_count": 39
        },
        {
          "output_type": "display_data",
          "data": {
            "image/png": "[encoded data removed]",
            "text/plain": [
              "<Figure size 430.35x432 with 1 Axes>"
            ]
          },
          "metadata": {}
        }
      ]
    },
    {
      "cell_type": "code",
      "source": [
        "df_sku_mes_col = df_sku_mes.pivot_table(index=['Mes'],columns='Código', values = 'Prec.-Desc. S/', aggfunc = 'mean')\n",
        "sns.lineplot(data=df_sku_mes_col, legend = False)"
      ],
      "metadata": {
        "colab": {
          "base_uri": "https://localhost:8080/",
          "height": 302
        },
        "id": "6HkUtRgxef7o",
        "outputId": "eb80a167-3ef5-4eda-9147-874b42b33ccc"
      },
      "execution_count": null,
      "outputs": [
        {
          "output_type": "execute_result",
          "data": {
            "text/plain": [
              "<matplotlib.axes._subplots.AxesSubplot at 0x7f5bcad80e10>"
            ]
          },
          "metadata": {},
          "execution_count": 40
        },
        {
          "output_type": "display_data",
          "data": {
            "image/png": "[encoded data removed]",
            "text/plain": [
              "<Figure size 432x288 with 1 Axes>"
            ]
          },
          "metadata": {}
        }
      ]
    },
    {
      "cell_type": "markdown",
      "source": [
        "## ¿Qué se puede concluir sobre la actual estrategia de pricing en general?"
      ],
      "metadata": {
        "id": "q-qC7W40g3Yz"
      }
    },
    {
      "cell_type": "markdown",
      "source": [
        "Es una estrategia basada en precios premium "
      ],
      "metadata": {
        "id": "nG7z47jxkAKO"
      }
    },
    {
      "cell_type": "markdown",
      "source": [
        "# Demand Forecasting\n",
        "**Que mejoras se deben realizar a los modelos de estimacion de demanda**"
      ],
      "metadata": {
        "id": "HpnaE8GGvPe6"
      }
    },
    {
      "cell_type": "markdown",
      "source": [
        "## ¿Qué categorías tienen mayor desviación absoluta entre la venta estimada y la venta real (en unidades)?"
      ],
      "metadata": {
        "id": "_1uZkKzZ7ahr"
      }
    },
    {
      "cell_type": "code",
      "source": [
        "df_real_cant = df_real[['Código','Descripción','Familia','Sub-Familia','Mes','Cantidad']]\n",
        "df_ppto_cant = df_ppto[['Código','Descripción','Familia','Sub-Familia','Mes','Cantidad']]\n",
        "merge_dfs = pd.merge(df_real_cant, df_ppto_cant, on=[\"Código\",'Mes'], how=\"inner\", indicator=False, suffixes=('_real', '_ppto'))\n",
        "merge_dfs['MAE'] = np.abs(merge_dfs['Cantidad_real'] - merge_dfs['Cantidad_ppto'])\n",
        "merge_dfs['MAPE'] = np.abs(merge_dfs['Cantidad_real'] - merge_dfs['Cantidad_ppto'])/merge_dfs['Cantidad_real']\n",
        "merge_dfs"
      ],
      "metadata": {
        "id": "oy_PHRejvnFh",
        "colab": {
          "base_uri": "https://localhost:8080/",
          "height": 659
        },
        "outputId": "e8563971-9e30-491f-bcdf-440f83d35e0a"
      },
      "execution_count": null,
      "outputs": [
        {
          "output_type": "execute_result",
          "data": {
            "text/html": [
              "\n",
              "  <div id=\"df-9d2c5dd2-4fd0-4eaf-bb8e-e9a5ee1a0a8b\">\n",
              "    <div class=\"colab-df-container\">\n",
              "      <div>\n",
              "<style scoped>\n",
              "    .dataframe tbody tr th:only-of-type {\n",
              "        vertical-align: middle;\n",
              "    }\n",
              "\n",
              "    .dataframe tbody tr th {\n",
              "        vertical-align: top;\n",
              "    }\n",
              "\n",
              "    .dataframe thead th {\n",
              "        text-align: right;\n",
              "    }\n",
              "</style>\n",
              "<table border=\"1\" class=\"dataframe\">\n",
              "  <thead>\n",
              "    <tr style=\"text-align: right;\">\n",
              "      <th></th>\n",
              "      <th>Código</th>\n",
              "      <th>Descripción_real</th>\n",
              "      <th>Familia_real</th>\n",
              "      <th>Sub-Familia_real</th>\n",
              "      <th>Mes</th>\n",
              "      <th>Cantidad_real</th>\n",
              "      <th>Descripción_ppto</th>\n",
              "      <th>Familia_ppto</th>\n",
              "      <th>Sub-Familia_ppto</th>\n",
              "      <th>Cantidad_ppto</th>\n",
              "      <th>MAE</th>\n",
              "      <th>MAPE</th>\n",
              "    </tr>\n",
              "  </thead>\n",
              "  <tbody>\n",
              "    <tr>\n",
              "      <th>0</th>\n",
              "      <td>AG310011</td>\n",
              "      <td>BENEDICTINO ARANCIATA NARANJA CAN 330ML</td>\n",
              "      <td>MINERAL</td>\n",
              "      <td>SABORIZADA</td>\n",
              "      <td>01</td>\n",
              "      <td>18.0</td>\n",
              "      <td>BENEDICTINO ARANCIATA NARANJA CAN 330ML</td>\n",
              "      <td>NaN</td>\n",
              "      <td>NaN</td>\n",
              "      <td>0.0</td>\n",
              "      <td>18.0</td>\n",
              "      <td>1.0</td>\n",
              "    </tr>\n",
              "    <tr>\n",
              "      <th>1</th>\n",
              "      <td>AG310011</td>\n",
              "      <td>BENEDICTINO ARANCIATA NARANJA CAN 330ML</td>\n",
              "      <td>MINERAL</td>\n",
              "      <td>SABORIZADA</td>\n",
              "      <td>01</td>\n",
              "      <td>18.0</td>\n",
              "      <td>BENEDICTINO ARANCIATA NARANJA CAN 330ML</td>\n",
              "      <td>NaN</td>\n",
              "      <td>NaN</td>\n",
              "      <td>0.0</td>\n",
              "      <td>18.0</td>\n",
              "      <td>1.0</td>\n",
              "    </tr>\n",
              "    <tr>\n",
              "      <th>2</th>\n",
              "      <td>AG310011</td>\n",
              "      <td>BENEDICTINO ARANCIATA NARANJA CAN 330ML</td>\n",
              "      <td>MINERAL</td>\n",
              "      <td>SABORIZADA</td>\n",
              "      <td>01</td>\n",
              "      <td>18.0</td>\n",
              "      <td>BENEDICTINO ARANCIATA NARANJA CAN 330ML</td>\n",
              "      <td>NaN</td>\n",
              "      <td>NaN</td>\n",
              "      <td>98.0</td>\n",
              "      <td>80.0</td>\n",
              "      <td>4.444444444444445</td>\n",
              "    </tr>\n",
              "    <tr>\n",
              "      <th>3</th>\n",
              "      <td>AG310011</td>\n",
              "      <td>BENEDICTINO ARANCIATA NARANJA CAN 330ML</td>\n",
              "      <td>MINERAL</td>\n",
              "      <td>SABORIZADA</td>\n",
              "      <td>01</td>\n",
              "      <td>18.0</td>\n",
              "      <td>BENEDICTINO ARANCIATA NARANJA CAN 330ML</td>\n",
              "      <td>NaN</td>\n",
              "      <td>NaN</td>\n",
              "      <td>40.0</td>\n",
              "      <td>22.0</td>\n",
              "      <td>1.2222222222222223</td>\n",
              "    </tr>\n",
              "    <tr>\n",
              "      <th>4</th>\n",
              "      <td>AG310011</td>\n",
              "      <td>BENEDICTINO ARANCIATA NARANJA CAN 330ML</td>\n",
              "      <td>MINERAL</td>\n",
              "      <td>SABORIZADA</td>\n",
              "      <td>01</td>\n",
              "      <td>18.0</td>\n",
              "      <td>BENEDICTINO ARANCIATA NARANJA CAN 330ML</td>\n",
              "      <td>NaN</td>\n",
              "      <td>NaN</td>\n",
              "      <td>0.0</td>\n",
              "      <td>18.0</td>\n",
              "      <td>1.0</td>\n",
              "    </tr>\n",
              "    <tr>\n",
              "      <th>...</th>\n",
              "      <td>...</td>\n",
              "      <td>...</td>\n",
              "      <td>...</td>\n",
              "      <td>...</td>\n",
              "      <td>...</td>\n",
              "      <td>...</td>\n",
              "      <td>...</td>\n",
              "      <td>...</td>\n",
              "      <td>...</td>\n",
              "      <td>...</td>\n",
              "      <td>...</td>\n",
              "      <td>...</td>\n",
              "    </tr>\n",
              "    <tr>\n",
              "      <th>566965</th>\n",
              "      <td>AG300019</td>\n",
              "      <td>TERGÈZE AGUA MINERAL GASIFICADA GLASS 330ML - ...</td>\n",
              "      <td>GASIFICADA</td>\n",
              "      <td>REGULAR</td>\n",
              "      <td>10</td>\n",
              "      <td>8.0</td>\n",
              "      <td>TERGÈZE AGUA MINERAL GASIFICADA GLASS 330ML - ...</td>\n",
              "      <td>NaN</td>\n",
              "      <td>NaN</td>\n",
              "      <td>0.0</td>\n",
              "      <td>8.0</td>\n",
              "      <td>1.0</td>\n",
              "    </tr>\n",
              "    <tr>\n",
              "      <th>566966</th>\n",
              "      <td>AG300019</td>\n",
              "      <td>TERGÈZE AGUA MINERAL GASIFICADA GLASS 330ML - ...</td>\n",
              "      <td>GASIFICADA</td>\n",
              "      <td>REGULAR</td>\n",
              "      <td>10</td>\n",
              "      <td>8.0</td>\n",
              "      <td>TERGÈZE AGUA MINERAL GASIFICADA GLASS 330ML - ...</td>\n",
              "      <td>NaN</td>\n",
              "      <td>NaN</td>\n",
              "      <td>0.0</td>\n",
              "      <td>8.0</td>\n",
              "      <td>1.0</td>\n",
              "    </tr>\n",
              "    <tr>\n",
              "      <th>566967</th>\n",
              "      <td>AG300019</td>\n",
              "      <td>TERGÈZE AGUA MINERAL GASIFICADA GLASS 330ML - ...</td>\n",
              "      <td>GASIFICADA</td>\n",
              "      <td>REGULAR</td>\n",
              "      <td>10</td>\n",
              "      <td>8.0</td>\n",
              "      <td>TERGÈZE AGUA MINERAL GASIFICADA GLASS 330ML - ...</td>\n",
              "      <td>NaN</td>\n",
              "      <td>NaN</td>\n",
              "      <td>0.0</td>\n",
              "      <td>8.0</td>\n",
              "      <td>1.0</td>\n",
              "    </tr>\n",
              "    <tr>\n",
              "      <th>566968</th>\n",
              "      <td>AG300019</td>\n",
              "      <td>TERGÈZE AGUA MINERAL GASIFICADA GLASS 330ML - ...</td>\n",
              "      <td>GASIFICADA</td>\n",
              "      <td>REGULAR</td>\n",
              "      <td>10</td>\n",
              "      <td>8.0</td>\n",
              "      <td>TERGÈZE AGUA MINERAL GASIFICADA GLASS 330ML - ...</td>\n",
              "      <td>NaN</td>\n",
              "      <td>NaN</td>\n",
              "      <td>84.0</td>\n",
              "      <td>76.0</td>\n",
              "      <td>9.5</td>\n",
              "    </tr>\n",
              "    <tr>\n",
              "      <th>566969</th>\n",
              "      <td>AG300019</td>\n",
              "      <td>TERGÈZE AGUA MINERAL GASIFICADA GLASS 330ML - ...</td>\n",
              "      <td>GASIFICADA</td>\n",
              "      <td>REGULAR</td>\n",
              "      <td>10</td>\n",
              "      <td>8.0</td>\n",
              "      <td>TERGÈZE AGUA MINERAL GASIFICADA GLASS 330ML - ...</td>\n",
              "      <td>NaN</td>\n",
              "      <td>NaN</td>\n",
              "      <td>24.0</td>\n",
              "      <td>16.0</td>\n",
              "      <td>2.0</td>\n",
              "    </tr>\n",
              "  </tbody>\n",
              "</table>\n",
              "<p>566970 rows × 12 columns</p>\n",
              "</div>\n",
              "      <button class=\"colab-df-convert\" onclick=\"convertToInteractive('df-9d2c5dd2-4fd0-4eaf-bb8e-e9a5ee1a0a8b')\"\n",
              "              title=\"Convert this dataframe to an interactive table.\"\n",
              "              style=\"display:none;\">\n",
              "        \n",
              "  <svg xmlns=\"http://www.w3.org/2000/svg\" height=\"24px\"viewBox=\"0 0 24 24\"\n",
              "       width=\"24px\">\n",
              "    <path d=\"M0 0h24v24H0V0z\" fill=\"none\"/>\n",
              "    <path d=\"M18.56 5.44l.94 2.06.94-2.06 2.06-.94-2.06-.94-.94-2.06-.94 2.06-2.06.94zm-11 1L8.5 8.5l.94-2.06 2.06-.94-2.06-.94L8.5 2.5l-.94 2.06-2.06.94zm10 10l.94 2.06.94-2.06 2.06-.94-2.06-.94-.94-2.06-.94 2.06-2.06.94z\"/><path d=\"M17.41 7.96l-1.37-1.37c-.4-.4-.92-.59-1.43-.59-.52 0-1.04.2-1.43.59L10.3 9.45l-7.72 7.72c-.78.78-.78 2.05 0 2.83L4 21.41c.39.39.9.59 1.41.59.51 0 1.02-.2 1.41-.59l7.78-7.78 2.81-2.81c.8-.78.8-2.07 0-2.86zM5.41 20L4 18.59l7.72-7.72 1.47 1.35L5.41 20z\"/>\n",
              "  </svg>\n",
              "      </button>\n",
              "      \n",
              "  <style>\n",
              "    .colab-df-container {\n",
              "      display:flex;\n",
              "      flex-wrap:wrap;\n",
              "      gap: 12px;\n",
              "    }\n",
              "\n",
              "    .colab-df-convert {\n",
              "      background-color: #E8F0FE;\n",
              "      border: none;\n",
              "      border-radius: 50%;\n",
              "      cursor: pointer;\n",
              "      display: none;\n",
              "      fill: #1967D2;\n",
              "      height: 32px;\n",
              "      padding: 0 0 0 0;\n",
              "      width: 32px;\n",
              "    }\n",
              "\n",
              "    .colab-df-convert:hover {\n",
              "      background-color: #E2EBFA;\n",
              "      box-shadow: 0px 1px 2px rgba(60, 64, 67, 0.3), 0px 1px 3px 1px rgba(60, 64, 67, 0.15);\n",
              "      fill: #174EA6;\n",
              "    }\n",
              "\n",
              "    [theme=dark] .colab-df-convert {\n",
              "      background-color: #3B4455;\n",
              "      fill: #D2E3FC;\n",
              "    }\n",
              "\n",
              "    [theme=dark] .colab-df-convert:hover {\n",
              "      background-color: #434B5C;\n",
              "      box-shadow: 0px 1px 3px 1px rgba(0, 0, 0, 0.15);\n",
              "      filter: drop-shadow(0px 1px 2px rgba(0, 0, 0, 0.3));\n",
              "      fill: #FFFFFF;\n",
              "    }\n",
              "  </style>\n",
              "\n",
              "      <script>\n",
              "        const buttonEl =\n",
              "          document.querySelector('#df-9d2c5dd2-4fd0-4eaf-bb8e-e9a5ee1a0a8b button.colab-df-convert');\n",
              "        buttonEl.style.display =\n",
              "          google.colab.kernel.accessAllowed ? 'block' : 'none';\n",
              "\n",
              "        async function convertToInteractive(key) {\n",
              "          const element = document.querySelector('#df-9d2c5dd2-4fd0-4eaf-bb8e-e9a5ee1a0a8b');\n",
              "          const dataTable =\n",
              "            await google.colab.kernel.invokeFunction('convertToInteractive',\n",
              "                                                     [key], {});\n",
              "          if (!dataTable) return;\n",
              "\n",
              "          const docLinkHtml = 'Like what you see? Visit the ' +\n",
              "            '<a target=\"_blank\" href=https://colab.research.google.com/notebooks/data_table.ipynb>data table notebook</a>'\n",
              "            + ' to learn more about interactive tables.';\n",
              "          element.innerHTML = '';\n",
              "          dataTable['output_type'] = 'display_data';\n",
              "          await google.colab.output.renderOutput(dataTable, element);\n",
              "          const docLink = document.createElement('div');\n",
              "          docLink.innerHTML = docLinkHtml;\n",
              "          element.appendChild(docLink);\n",
              "        }\n",
              "      </script>\n",
              "    </div>\n",
              "  </div>\n",
              "  "
            ],
            "text/plain": [
              "          Código  ...               MAPE\n",
              "0       AG310011  ...                1.0\n",
              "1       AG310011  ...                1.0\n",
              "2       AG310011  ...  4.444444444444445\n",
              "3       AG310011  ... 1.2222222222222223\n",
              "4       AG310011  ...                1.0\n",
              "...          ...  ...                ...\n",
              "566965  AG300019  ...                1.0\n",
              "566966  AG300019  ...                1.0\n",
              "566967  AG300019  ...                1.0\n",
              "566968  AG300019  ...                9.5\n",
              "566969  AG300019  ...                2.0\n",
              "\n",
              "[566970 rows x 12 columns]"
            ]
          },
          "metadata": {},
          "execution_count": 41
        }
      ]
    },
    {
      "cell_type": "code",
      "source": [
        "df_subfamilia_mae = merge_dfs.groupby(['Sub-Familia_real'],as_index = False)['MAE','Cantidad_real','Cantidad_ppto'].mean().round(decimals = 2)\n",
        "df_subfamilia_mae.sort_values(by = 'MAE', inplace = True)\n",
        "df_subfamilia_mae"
      ],
      "metadata": {
        "colab": {
          "base_uri": "https://localhost:8080/",
          "height": 307
        },
        "id": "W4n-H7dc52lr",
        "outputId": "aedeb59d-8a8e-490e-eb8d-9d7711aeb6be"
      },
      "execution_count": null,
      "outputs": [
        {
          "output_type": "stream",
          "name": "stderr",
          "text": [
            "/usr/local/lib/python3.7/dist-packages/ipykernel_launcher.py:1: FutureWarning:\n",
            "\n",
            "Indexing with multiple keys (implicitly converted to a tuple of keys) will be deprecated, use a list instead.\n",
            "\n"
          ]
        },
        {
          "output_type": "execute_result",
          "data": {
            "text/html": [
              "\n",
              "  <div id=\"df-ce2db2a2-542d-44b0-9064-e7bde34e5230\">\n",
              "    <div class=\"colab-df-container\">\n",
              "      <div>\n",
              "<style scoped>\n",
              "    .dataframe tbody tr th:only-of-type {\n",
              "        vertical-align: middle;\n",
              "    }\n",
              "\n",
              "    .dataframe tbody tr th {\n",
              "        vertical-align: top;\n",
              "    }\n",
              "\n",
              "    .dataframe thead th {\n",
              "        text-align: right;\n",
              "    }\n",
              "</style>\n",
              "<table border=\"1\" class=\"dataframe\">\n",
              "  <thead>\n",
              "    <tr style=\"text-align: right;\">\n",
              "      <th></th>\n",
              "      <th>Sub-Familia_real</th>\n",
              "      <th>MAE</th>\n",
              "      <th>Cantidad_real</th>\n",
              "      <th>Cantidad_ppto</th>\n",
              "    </tr>\n",
              "  </thead>\n",
              "  <tbody>\n",
              "    <tr>\n",
              "      <th>0</th>\n",
              "      <td>BITTER</td>\n",
              "      <td>14.61</td>\n",
              "      <td>11.1</td>\n",
              "      <td>9.82</td>\n",
              "    </tr>\n",
              "    <tr>\n",
              "      <th>4</th>\n",
              "      <td>SABORIZADA</td>\n",
              "      <td>83.75</td>\n",
              "      <td>38.46</td>\n",
              "      <td>60.02</td>\n",
              "    </tr>\n",
              "    <tr>\n",
              "      <th>5</th>\n",
              "      <td>TONICA</td>\n",
              "      <td>114.39</td>\n",
              "      <td>55.92</td>\n",
              "      <td>73.52</td>\n",
              "    </tr>\n",
              "    <tr>\n",
              "      <th>1</th>\n",
              "      <td>GASIFICADA</td>\n",
              "      <td>139.46</td>\n",
              "      <td>63.12</td>\n",
              "      <td>117.52</td>\n",
              "    </tr>\n",
              "    <tr>\n",
              "      <th>2</th>\n",
              "      <td>MINERAL</td>\n",
              "      <td>184.43</td>\n",
              "      <td>81.25</td>\n",
              "      <td>156.73</td>\n",
              "    </tr>\n",
              "    <tr>\n",
              "      <th>3</th>\n",
              "      <td>REGULAR</td>\n",
              "      <td>189.73</td>\n",
              "      <td>65.46</td>\n",
              "      <td>174.13</td>\n",
              "    </tr>\n",
              "  </tbody>\n",
              "</table>\n",
              "</div>\n",
              "      <button class=\"colab-df-convert\" onclick=\"convertToInteractive('df-ce2db2a2-542d-44b0-9064-e7bde34e5230')\"\n",
              "              title=\"Convert this dataframe to an interactive table.\"\n",
              "              style=\"display:none;\">\n",
              "        \n",
              "  <svg xmlns=\"http://www.w3.org/2000/svg\" height=\"24px\"viewBox=\"0 0 24 24\"\n",
              "       width=\"24px\">\n",
              "    <path d=\"M0 0h24v24H0V0z\" fill=\"none\"/>\n",
              "    <path d=\"M18.56 5.44l.94 2.06.94-2.06 2.06-.94-2.06-.94-.94-2.06-.94 2.06-2.06.94zm-11 1L8.5 8.5l.94-2.06 2.06-.94-2.06-.94L8.5 2.5l-.94 2.06-2.06.94zm10 10l.94 2.06.94-2.06 2.06-.94-2.06-.94-.94-2.06-.94 2.06-2.06.94z\"/><path d=\"M17.41 7.96l-1.37-1.37c-.4-.4-.92-.59-1.43-.59-.52 0-1.04.2-1.43.59L10.3 9.45l-7.72 7.72c-.78.78-.78 2.05 0 2.83L4 21.41c.39.39.9.59 1.41.59.51 0 1.02-.2 1.41-.59l7.78-7.78 2.81-2.81c.8-.78.8-2.07 0-2.86zM5.41 20L4 18.59l7.72-7.72 1.47 1.35L5.41 20z\"/>\n",
              "  </svg>\n",
              "      </button>\n",
              "      \n",
              "  <style>\n",
              "    .colab-df-container {\n",
              "      display:flex;\n",
              "      flex-wrap:wrap;\n",
              "      gap: 12px;\n",
              "    }\n",
              "\n",
              "    .colab-df-convert {\n",
              "      background-color: #E8F0FE;\n",
              "      border: none;\n",
              "      border-radius: 50%;\n",
              "      cursor: pointer;\n",
              "      display: none;\n",
              "      fill: #1967D2;\n",
              "      height: 32px;\n",
              "      padding: 0 0 0 0;\n",
              "      width: 32px;\n",
              "    }\n",
              "\n",
              "    .colab-df-convert:hover {\n",
              "      background-color: #E2EBFA;\n",
              "      box-shadow: 0px 1px 2px rgba(60, 64, 67, 0.3), 0px 1px 3px 1px rgba(60, 64, 67, 0.15);\n",
              "      fill: #174EA6;\n",
              "    }\n",
              "\n",
              "    [theme=dark] .colab-df-convert {\n",
              "      background-color: #3B4455;\n",
              "      fill: #D2E3FC;\n",
              "    }\n",
              "\n",
              "    [theme=dark] .colab-df-convert:hover {\n",
              "      background-color: #434B5C;\n",
              "      box-shadow: 0px 1px 3px 1px rgba(0, 0, 0, 0.15);\n",
              "      filter: drop-shadow(0px 1px 2px rgba(0, 0, 0, 0.3));\n",
              "      fill: #FFFFFF;\n",
              "    }\n",
              "  </style>\n",
              "\n",
              "      <script>\n",
              "        const buttonEl =\n",
              "          document.querySelector('#df-ce2db2a2-542d-44b0-9064-e7bde34e5230 button.colab-df-convert');\n",
              "        buttonEl.style.display =\n",
              "          google.colab.kernel.accessAllowed ? 'block' : 'none';\n",
              "\n",
              "        async function convertToInteractive(key) {\n",
              "          const element = document.querySelector('#df-ce2db2a2-542d-44b0-9064-e7bde34e5230');\n",
              "          const dataTable =\n",
              "            await google.colab.kernel.invokeFunction('convertToInteractive',\n",
              "                                                     [key], {});\n",
              "          if (!dataTable) return;\n",
              "\n",
              "          const docLinkHtml = 'Like what you see? Visit the ' +\n",
              "            '<a target=\"_blank\" href=https://colab.research.google.com/notebooks/data_table.ipynb>data table notebook</a>'\n",
              "            + ' to learn more about interactive tables.';\n",
              "          element.innerHTML = '';\n",
              "          dataTable['output_type'] = 'display_data';\n",
              "          await google.colab.output.renderOutput(dataTable, element);\n",
              "          const docLink = document.createElement('div');\n",
              "          docLink.innerHTML = docLinkHtml;\n",
              "          element.appendChild(docLink);\n",
              "        }\n",
              "      </script>\n",
              "    </div>\n",
              "  </div>\n",
              "  "
            ],
            "text/plain": [
              "  Sub-Familia_real    MAE  Cantidad_real  Cantidad_ppto\n",
              "0           BITTER  14.61           11.1           9.82\n",
              "4       SABORIZADA  83.75          38.46          60.02\n",
              "5           TONICA 114.39          55.92          73.52\n",
              "1       GASIFICADA 139.46          63.12         117.52\n",
              "2          MINERAL 184.43          81.25         156.73\n",
              "3          REGULAR 189.73          65.46         174.13"
            ]
          },
          "metadata": {},
          "execution_count": 42
        }
      ]
    },
    {
      "cell_type": "code",
      "source": [
        "sns.barplot(x = 'Sub-Familia_real',\n",
        "            y = 'MAE',\n",
        "            data = df_subfamilia_mae,palette = \"Blues\")"
      ],
      "metadata": {
        "colab": {
          "base_uri": "https://localhost:8080/",
          "height": 302
        },
        "id": "nnFa-HdN7Csi",
        "outputId": "36b22bbf-5894-48e6-e9fc-2c1caab3fd05"
      },
      "execution_count": null,
      "outputs": [
        {
          "output_type": "execute_result",
          "data": {
            "text/plain": [
              "<matplotlib.axes._subplots.AxesSubplot at 0x7f5bd853c550>"
            ]
          },
          "metadata": {},
          "execution_count": 43
        },
        {
          "output_type": "display_data",
          "data": {
            "image/png": "[encoded data removed]",
            "text/plain": [
              "<Figure size 432x288 with 1 Axes>"
            ]
          },
          "metadata": {}
        }
      ]
    },
    {
      "cell_type": "code",
      "source": [
        "df_mes_mae = merge_dfs.groupby(['Mes'],as_index = False)['MAE','Cantidad_real','Cantidad_ppto'].mean().round(decimals = 2)\n",
        "sns.lineplot(x=\"Mes\", y=\"MAE\",\n",
        "             data=df_mes_mae)"
      ],
      "metadata": {
        "colab": {
          "base_uri": "https://localhost:8080/",
          "height": 372
        },
        "id": "sfiV-eabW3-l",
        "outputId": "1affebe6-21ed-4839-9526-51c054e4f4f6"
      },
      "execution_count": null,
      "outputs": [
        {
          "output_type": "stream",
          "name": "stderr",
          "text": [
            "/usr/local/lib/python3.7/dist-packages/ipykernel_launcher.py:1: FutureWarning:\n",
            "\n",
            "Indexing with multiple keys (implicitly converted to a tuple of keys) will be deprecated, use a list instead.\n",
            "\n"
          ]
        },
        {
          "output_type": "execute_result",
          "data": {
            "text/plain": [
              "<matplotlib.axes._subplots.AxesSubplot at 0x7f5bcabd6bd0>"
            ]
          },
          "metadata": {},
          "execution_count": 44
        },
        {
          "output_type": "display_data",
          "data": {
            "image/png": "[encoded data removed]",
            "text/plain": [
              "<Figure size 432x288 with 1 Axes>"
            ]
          },
          "metadata": {}
        }
      ]
    },
    {
      "cell_type": "markdown",
      "source": [
        "## Ahora empleando la formula de MAPE, ¿cuáles son los grupos y SKUs con mayor/menor MAPE?"
      ],
      "metadata": {
        "id": "N-_Q5fIX_4-9"
      }
    },
    {
      "cell_type": "code",
      "source": [
        "df_subfamilia_mape = merge_dfs.groupby(['Sub-Familia_real'],as_index = False)['MAPE','MAE','Cantidad_real','Cantidad_ppto'].mean().round(decimals = 2)\n",
        "df_subfamilia_mape.sort_values(by = 'MAPE', inplace = True)\n",
        "df_subfamilia_mape"
      ],
      "metadata": {
        "colab": {
          "base_uri": "https://localhost:8080/",
          "height": 307
        },
        "id": "XZ_1i_3iAyLF",
        "outputId": "ea7e9f13-aa52-4ad5-8bc6-d426dc37b89a"
      },
      "execution_count": null,
      "outputs": [
        {
          "output_type": "stream",
          "name": "stderr",
          "text": [
            "/usr/local/lib/python3.7/dist-packages/ipykernel_launcher.py:1: FutureWarning:\n",
            "\n",
            "Indexing with multiple keys (implicitly converted to a tuple of keys) will be deprecated, use a list instead.\n",
            "\n"
          ]
        },
        {
          "output_type": "execute_result",
          "data": {
            "text/html": [
              "\n",
              "  <div id=\"df-043b60f0-e9a2-4df6-a737-412f6ad61872\">\n",
              "    <div class=\"colab-df-container\">\n",
              "      <div>\n",
              "<style scoped>\n",
              "    .dataframe tbody tr th:only-of-type {\n",
              "        vertical-align: middle;\n",
              "    }\n",
              "\n",
              "    .dataframe tbody tr th {\n",
              "        vertical-align: top;\n",
              "    }\n",
              "\n",
              "    .dataframe thead th {\n",
              "        text-align: right;\n",
              "    }\n",
              "</style>\n",
              "<table border=\"1\" class=\"dataframe\">\n",
              "  <thead>\n",
              "    <tr style=\"text-align: right;\">\n",
              "      <th></th>\n",
              "      <th>Sub-Familia_real</th>\n",
              "      <th>MAPE</th>\n",
              "      <th>MAE</th>\n",
              "      <th>Cantidad_real</th>\n",
              "      <th>Cantidad_ppto</th>\n",
              "    </tr>\n",
              "  </thead>\n",
              "  <tbody>\n",
              "    <tr>\n",
              "      <th>0</th>\n",
              "      <td>BITTER</td>\n",
              "      <td>2.89</td>\n",
              "      <td>14.61</td>\n",
              "      <td>11.1</td>\n",
              "      <td>9.82</td>\n",
              "    </tr>\n",
              "    <tr>\n",
              "      <th>1</th>\n",
              "      <td>GASIFICADA</td>\n",
              "      <td>7.5</td>\n",
              "      <td>139.46</td>\n",
              "      <td>63.12</td>\n",
              "      <td>117.52</td>\n",
              "    </tr>\n",
              "    <tr>\n",
              "      <th>5</th>\n",
              "      <td>TONICA</td>\n",
              "      <td>8.21</td>\n",
              "      <td>114.39</td>\n",
              "      <td>55.92</td>\n",
              "      <td>73.52</td>\n",
              "    </tr>\n",
              "    <tr>\n",
              "      <th>2</th>\n",
              "      <td>MINERAL</td>\n",
              "      <td>9.45</td>\n",
              "      <td>184.43</td>\n",
              "      <td>81.25</td>\n",
              "      <td>156.73</td>\n",
              "    </tr>\n",
              "    <tr>\n",
              "      <th>3</th>\n",
              "      <td>REGULAR</td>\n",
              "      <td>10.08</td>\n",
              "      <td>189.73</td>\n",
              "      <td>65.46</td>\n",
              "      <td>174.13</td>\n",
              "    </tr>\n",
              "    <tr>\n",
              "      <th>4</th>\n",
              "      <td>SABORIZADA</td>\n",
              "      <td>10.49</td>\n",
              "      <td>83.75</td>\n",
              "      <td>38.46</td>\n",
              "      <td>60.02</td>\n",
              "    </tr>\n",
              "  </tbody>\n",
              "</table>\n",
              "</div>\n",
              "      <button class=\"colab-df-convert\" onclick=\"convertToInteractive('df-043b60f0-e9a2-4df6-a737-412f6ad61872')\"\n",
              "              title=\"Convert this dataframe to an interactive table.\"\n",
              "              style=\"display:none;\">\n",
              "        \n",
              "  <svg xmlns=\"http://www.w3.org/2000/svg\" height=\"24px\"viewBox=\"0 0 24 24\"\n",
              "       width=\"24px\">\n",
              "    <path d=\"M0 0h24v24H0V0z\" fill=\"none\"/>\n",
              "    <path d=\"M18.56 5.44l.94 2.06.94-2.06 2.06-.94-2.06-.94-.94-2.06-.94 2.06-2.06.94zm-11 1L8.5 8.5l.94-2.06 2.06-.94-2.06-.94L8.5 2.5l-.94 2.06-2.06.94zm10 10l.94 2.06.94-2.06 2.06-.94-2.06-.94-.94-2.06-.94 2.06-2.06.94z\"/><path d=\"M17.41 7.96l-1.37-1.37c-.4-.4-.92-.59-1.43-.59-.52 0-1.04.2-1.43.59L10.3 9.45l-7.72 7.72c-.78.78-.78 2.05 0 2.83L4 21.41c.39.39.9.59 1.41.59.51 0 1.02-.2 1.41-.59l7.78-7.78 2.81-2.81c.8-.78.8-2.07 0-2.86zM5.41 20L4 18.59l7.72-7.72 1.47 1.35L5.41 20z\"/>\n",
              "  </svg>\n",
              "      </button>\n",
              "      \n",
              "  <style>\n",
              "    .colab-df-container {\n",
              "      display:flex;\n",
              "      flex-wrap:wrap;\n",
              "      gap: 12px;\n",
              "    }\n",
              "\n",
              "    .colab-df-convert {\n",
              "      background-color: #E8F0FE;\n",
              "      border: none;\n",
              "      border-radius: 50%;\n",
              "      cursor: pointer;\n",
              "      display: none;\n",
              "      fill: #1967D2;\n",
              "      height: 32px;\n",
              "      padding: 0 0 0 0;\n",
              "      width: 32px;\n",
              "    }\n",
              "\n",
              "    .colab-df-convert:hover {\n",
              "      background-color: #E2EBFA;\n",
              "      box-shadow: 0px 1px 2px rgba(60, 64, 67, 0.3), 0px 1px 3px 1px rgba(60, 64, 67, 0.15);\n",
              "      fill: #174EA6;\n",
              "    }\n",
              "\n",
              "    [theme=dark] .colab-df-convert {\n",
              "      background-color: #3B4455;\n",
              "      fill: #D2E3FC;\n",
              "    }\n",
              "\n",
              "    [theme=dark] .colab-df-convert:hover {\n",
              "      background-color: #434B5C;\n",
              "      box-shadow: 0px 1px 3px 1px rgba(0, 0, 0, 0.15);\n",
              "      filter: drop-shadow(0px 1px 2px rgba(0, 0, 0, 0.3));\n",
              "      fill: #FFFFFF;\n",
              "    }\n",
              "  </style>\n",
              "\n",
              "      <script>\n",
              "        const buttonEl =\n",
              "          document.querySelector('#df-043b60f0-e9a2-4df6-a737-412f6ad61872 button.colab-df-convert');\n",
              "        buttonEl.style.display =\n",
              "          google.colab.kernel.accessAllowed ? 'block' : 'none';\n",
              "\n",
              "        async function convertToInteractive(key) {\n",
              "          const element = document.querySelector('#df-043b60f0-e9a2-4df6-a737-412f6ad61872');\n",
              "          const dataTable =\n",
              "            await google.colab.kernel.invokeFunction('convertToInteractive',\n",
              "                                                     [key], {});\n",
              "          if (!dataTable) return;\n",
              "\n",
              "          const docLinkHtml = 'Like what you see? Visit the ' +\n",
              "            '<a target=\"_blank\" href=https://colab.research.google.com/notebooks/data_table.ipynb>data table notebook</a>'\n",
              "            + ' to learn more about interactive tables.';\n",
              "          element.innerHTML = '';\n",
              "          dataTable['output_type'] = 'display_data';\n",
              "          await google.colab.output.renderOutput(dataTable, element);\n",
              "          const docLink = document.createElement('div');\n",
              "          docLink.innerHTML = docLinkHtml;\n",
              "          element.appendChild(docLink);\n",
              "        }\n",
              "      </script>\n",
              "    </div>\n",
              "  </div>\n",
              "  "
            ],
            "text/plain": [
              "  Sub-Familia_real  MAPE    MAE  Cantidad_real  Cantidad_ppto\n",
              "0           BITTER  2.89  14.61           11.1           9.82\n",
              "1       GASIFICADA   7.5 139.46          63.12         117.52\n",
              "5           TONICA  8.21 114.39          55.92          73.52\n",
              "2          MINERAL  9.45 184.43          81.25         156.73\n",
              "3          REGULAR 10.08 189.73          65.46         174.13\n",
              "4       SABORIZADA 10.49  83.75          38.46          60.02"
            ]
          },
          "metadata": {},
          "execution_count": 45
        }
      ]
    },
    {
      "cell_type": "code",
      "source": [
        "sns.barplot(x = 'Sub-Familia_real',\n",
        "            y = 'MAPE',\n",
        "            data = df_subfamilia_mape,palette = \"Blues\")"
      ],
      "metadata": {
        "colab": {
          "base_uri": "https://localhost:8080/",
          "height": 302
        },
        "id": "s6Pf5zZ6CT-r",
        "outputId": "e0aa4275-0263-4748-d85c-c51de2ef32bc"
      },
      "execution_count": null,
      "outputs": [
        {
          "output_type": "execute_result",
          "data": {
            "text/plain": [
              "<matplotlib.axes._subplots.AxesSubplot at 0x7f5bcaae3490>"
            ]
          },
          "metadata": {},
          "execution_count": 46
        },
        {
          "output_type": "display_data",
          "data": {
            "image/png": "[encoded data removed]",
            "text/plain": [
              "<Figure size 432x288 with 1 Axes>"
            ]
          },
          "metadata": {}
        }
      ]
    },
    {
      "cell_type": "code",
      "source": [
        "df_bias_sku = merge_dfs.groupby(['Código'],as_index = False)['MAPE','MAE','Cantidad_real','Cantidad_ppto'].mean().round(decimals = 2)"
      ],
      "metadata": {
        "colab": {
          "base_uri": "https://localhost:8080/"
        },
        "id": "hMZXvSkhHzup",
        "outputId": "5e4bf029-b373-4e56-d218-d935203117dd"
      },
      "execution_count": null,
      "outputs": [
        {
          "output_type": "stream",
          "name": "stderr",
          "text": [
            "/usr/local/lib/python3.7/dist-packages/ipykernel_launcher.py:1: FutureWarning:\n",
            "\n",
            "Indexing with multiple keys (implicitly converted to a tuple of keys) will be deprecated, use a list instead.\n",
            "\n"
          ]
        }
      ]
    },
    {
      "cell_type": "code",
      "source": [
        "# Top MAE\n",
        "mae_sku = df_bias_sku.sort_values(by=['MAE'], kind='mergesort',ascending=False)\n",
        "mae_sku_top = mae_sku.head()\n",
        "mae_sku_top.to_excel('mae_sku_top.xlsx')"
      ],
      "metadata": {
        "id": "N7l4wTo9vScX"
      },
      "execution_count": null,
      "outputs": []
    },
    {
      "cell_type": "code",
      "source": [
        "# Top MAPE\n",
        "mape_sku = df_bias_sku.sort_values(by=['MAPE'], kind='mergesort',ascending=False)\n",
        "mape_sku_top = mape_sku.head()\n",
        "mape_sku_top.to_excel('mape_sku_top.xlsx')"
      ],
      "metadata": {
        "id": "Yps6rlQjIn7g"
      },
      "execution_count": null,
      "outputs": []
    }
  ]
}